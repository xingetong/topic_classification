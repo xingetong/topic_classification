{
 "cells": [
  {
   "cell_type": "code",
   "execution_count": 1,
   "id": "0bf4e784",
   "metadata": {},
   "outputs": [
    {
     "name": "stdout",
     "output_type": "stream",
     "text": [
      "True\n"
     ]
    }
   ],
   "source": [
    "import torch\n",
    "print (torch.cuda.is_available())"
   ]
  },
  {
   "cell_type": "code",
   "execution_count": 2,
   "id": "07cd5ded",
   "metadata": {},
   "outputs": [
    {
     "name": "stdout",
     "output_type": "stream",
     "text": [
      "Login successful\n",
      "Your token has been saved to C:\\Users\\researcher\\.huggingface\\token\n",
      "\u001b[1m\u001b[31mAuthenticated through git-credential store but this isn't the helper defined on your machine.\n",
      "You might have to re-authenticate when pushing to the Hugging Face Hub. Run the following command in your terminal in case you want to set this credential helper as the default\n",
      "\n",
      "git config --global credential.helper store\u001b[0m\n"
     ]
    }
   ],
   "source": [
    "from huggingface_hub import hf_hub_download\n",
    "from huggingface_hub import notebook_login\n",
    "\n",
    "notebook_login()"
   ]
  },
  {
   "cell_type": "code",
   "execution_count": 3,
   "id": "81fd7353",
   "metadata": {},
   "outputs": [],
   "source": [
    "from datasets import load_dataset"
   ]
  },
  {
   "cell_type": "markdown",
   "id": "504a6b4a",
   "metadata": {},
   "source": [
    "# Load dataset"
   ]
  },
  {
   "cell_type": "code",
   "execution_count": 4,
   "id": "144cf582",
   "metadata": {},
   "outputs": [
    {
     "name": "stderr",
     "output_type": "stream",
     "text": [
      "Using custom data configuration HFFErica--steamreviews-438ffa7a173e0b5d\n"
     ]
    },
    {
     "name": "stdout",
     "output_type": "stream",
     "text": [
      "Downloading and preparing dataset csv/HFFErica--steamreviews to C:/Users/researcher/.cache/huggingface/datasets/HFFErica___csv/HFFErica--steamreviews-438ffa7a173e0b5d/0.0.0/652c3096f041ee27b04d2232d41f10547a8fecda3e284a79a0ec4053c916ef7a...\n"
     ]
    },
    {
     "data": {
      "application/vnd.jupyter.widget-view+json": {
       "model_id": "e0fa3b92adee4f789f9bbf3f7ad11db9",
       "version_major": 2,
       "version_minor": 0
      },
      "text/plain": [
       "Downloading data files:   0%|          | 0/1 [00:00<?, ?it/s]"
      ]
     },
     "metadata": {},
     "output_type": "display_data"
    },
    {
     "data": {
      "application/vnd.jupyter.widget-view+json": {
       "model_id": "22d26dc9e251452b85b2e0c40624b7a9",
       "version_major": 2,
       "version_minor": 0
      },
      "text/plain": [
       "Downloading data:   0%|          | 0.00/129k [00:00<?, ?B/s]"
      ]
     },
     "metadata": {},
     "output_type": "display_data"
    },
    {
     "data": {
      "application/vnd.jupyter.widget-view+json": {
       "model_id": "dbcb6fd6483f4976a23b9f7e64218a6f",
       "version_major": 2,
       "version_minor": 0
      },
      "text/plain": [
       "Extracting data files:   0%|          | 0/1 [00:00<?, ?it/s]"
      ]
     },
     "metadata": {},
     "output_type": "display_data"
    },
    {
     "data": {
      "application/vnd.jupyter.widget-view+json": {
       "model_id": "",
       "version_major": 2,
       "version_minor": 0
      },
      "text/plain": [
       "0 tables [00:00, ? tables/s]"
      ]
     },
     "metadata": {},
     "output_type": "display_data"
    },
    {
     "name": "stderr",
     "output_type": "stream",
     "text": [
      "D:\\Software\\Anaconda3\\envs\\pytorch\\lib\\site-packages\\datasets\\download\\streaming_download_manager.py:697: FutureWarning: the 'mangle_dupe_cols' keyword is deprecated and will be removed in a future version. Please take steps to stop the use of 'mangle_dupe_cols'\n",
      "  return pd.read_csv(xopen(filepath_or_buffer, \"rb\", use_auth_token=use_auth_token), **kwargs)\n"
     ]
    },
    {
     "name": "stdout",
     "output_type": "stream",
     "text": [
      "Dataset csv downloaded and prepared to C:/Users/researcher/.cache/huggingface/datasets/HFFErica___csv/HFFErica--steamreviews-438ffa7a173e0b5d/0.0.0/652c3096f041ee27b04d2232d41f10547a8fecda3e284a79a0ec4053c916ef7a. Subsequent calls will reuse this data.\n"
     ]
    },
    {
     "data": {
      "application/vnd.jupyter.widget-view+json": {
       "model_id": "e579beab5cd24c38afdeccd2106de7b4",
       "version_major": 2,
       "version_minor": 0
      },
      "text/plain": [
       "  0%|          | 0/1 [00:00<?, ?it/s]"
      ]
     },
     "metadata": {},
     "output_type": "display_data"
    },
    {
     "data": {
      "text/plain": [
       "DatasetDict({\n",
       "    raw_data: Dataset({\n",
       "        features: ['No.1', 'No.', '_id', 'time', 'content', 'Automated Readability Index', 'The Flesch Reading Ease formula', 'The Flesch-Kincaid Grade Level', 'The SMOG Index', 'The Coleman-Liau Index', 'Dale-Chall Readability Score', 'Linsear Write Formula', 'The Fog Scale (Gunning FOG Formula)', 'difficult_words', 'Readability Consensus based upon all the above tests', 'item_count', 'recommend', 'found_helpful', 'found_funny', 'reply_count', 'tags.Heartwarming', 'hrs_on_second', 'hrs_at_reviwer_time', 'reviwer_num'],\n",
       "        num_rows: 200\n",
       "    })\n",
       "})"
      ]
     },
     "execution_count": 4,
     "metadata": {},
     "output_type": "execute_result"
    }
   ],
   "source": [
    "data_files = { \"raw_data\":\"200_samplecontent.csv\"}\n",
    "df_dataset=load_dataset(\"HFFErica/steamreviews\", data_files=data_files)\n",
    "df_dataset"
   ]
  },
  {
   "cell_type": "code",
   "execution_count": 7,
   "id": "2f467e3b",
   "metadata": {},
   "outputs": [
    {
     "data": {
      "text/plain": [
       "\"Game ran like crap at first but a patch less then 24 hours after release fixed 95% of my problems. No other developer can deliver patches that quick these days.As far as the game goes, after almost 20 hours I'm still thoroughly enjoying it. It is nice to have a game that doesn't push you towards the end and allows you to play as your own pace while creating your own goals.\""
      ]
     },
     "execution_count": 7,
     "metadata": {},
     "output_type": "execute_result"
    }
   ],
   "source": [
    "content = df_dataset['raw_data']['content']\n",
    "content [1]"
   ]
  },
  {
   "cell_type": "markdown",
   "id": "94905ea8",
   "metadata": {},
   "source": [
    "# DPP"
   ]
  },
  {
   "cell_type": "code",
   "execution_count": 8,
   "id": "85c54a45",
   "metadata": {},
   "outputs": [],
   "source": [
    "from bs4 import BeautifulSoup\n",
    "import spacy\n",
    "import nltk\n",
    "import re\n",
    "import string\n",
    "import pandas as pd\n",
    "import numpy as np\n",
    "# from stop_word_list import *\n",
    "#from clean_text import *\n",
    "import gensim\n",
    "from gensim import corpora\n",
    "# import pyLDAvis.gensim_models\n",
    "import matplotlib.pyplot as plt\n",
    "import json\n",
    "%matplotlib inline"
   ]
  },
  {
   "cell_type": "code",
   "execution_count": 9,
   "id": "feba16d9",
   "metadata": {},
   "outputs": [],
   "source": [
    "content [1]= re.sub(r\"http\\S+\", \"\", content [1])"
   ]
  },
  {
   "cell_type": "code",
   "execution_count": 10,
   "id": "b7e3d415",
   "metadata": {},
   "outputs": [],
   "source": [
    "def decontracted(phrase):\n",
    "    # specific\n",
    "    phrase = re.sub(r\"won\\t\", \"will not\", phrase)\n",
    "    phrase = re.sub(r\"can\\'t\", \"can not\", phrase)\n",
    "    phrase = re.sub(r\"was\\'t\", \"was not\", phrase)\n",
    "    phrase = re.sub(r\"gonna\", \"going to\", phrase)\n",
    "    phrase = re.sub(r\"dont\", \"do not\", phrase)\n",
    "    phrase = re.sub(r\"doesnt \", \"does not\", phrase)\n",
    "    phrase = re.sub(r\" didnt \", \" did not \", phrase)\n",
    "    phrase = re.sub(r\" havent \", \" have not \", phrase)\n",
    "    phrase = re.sub(r\" cant \", \" can not \", phrase)\n",
    "    phrase = re.sub(r\" couldnt \", \" could not \", phrase)\n",
    "    phrase = re.sub(r\" wouldnt \", \" would not \", phrase)\n",
    "    phrase = re.sub(r\" thats \", \" that is \", phrase)\n",
    "    phrase = re.sub(r\" isnt \", \" is not \", phrase)\n",
    "    phrase = re.sub(r\" arent \", \" are not \", phrase)\n",
    "    phrase = re.sub(r\" ive \", \" i have \", phrase)\n",
    "    phrase = re.sub(r\" iam \", \" i am \", phrase)\n",
    "    phrase = re.sub(r\" dev \", \" developer \", phrase)\n",
    "    phrase = re.sub(r\" devs \", \" developers \", phrase)\n",
    "    phrase = re.sub(r\" thx \", \" thanks \", phrase)\n",
    "    phrase = re.sub(r\" btw \", \" by the way \", phrase)\n",
    "    phrase = re.sub(r\" pc \", \" personal computer \", phrase)\n",
    "    phrase = re.sub(r\" ur \", \" your are \", phrase)\n",
    "    phrase = re.sub(r\" hrs \", \" hours \", phrase)\n",
    "    phrase = re.sub(r\" hr \", \" hour \", phrase)\n",
    "    phrase = re.sub(r\" E3 \", \" electronic entertainment expo \", phrase)\n",
    "    phrase = re.sub(r\" e3 \", \" electronic entertainment expo \", phrase)\n",
    "    phrase = re.sub(r\" nms \", \" no mans sky \", phrase)\n",
    "    phrase = re.sub(r\" pve \", \" player versus environment \", phrase)\n",
    "    phrase = re.sub(r\" pvp \", \" player versus player \", phrase)\n",
    "    phrase = re.sub(r\" mmo \", \" massively multiplayer online game \", phrase)\n",
    "    phrase = re.sub(r\" tv \", \" television \", phrase)\n",
    "    phrase = re.sub(r\" rpg \", \" role-playing video game \", phrase)\n",
    "    phrase = re.sub(r\" wp \", \" well played \", phrase)\n",
    "    phrase = re.sub(r\" gg \", \" good game \", phrase)\n",
    "    phrase = re.sub(r\" dlc \", \" downloadable content \", phrase)\n",
    "    phrase = re.sub(r\" npc \", \" non-player character \", phrase)\n",
    "    phrase = re.sub(r\" hg \", \" hello games \", phrase)\n",
    "    phrase = re.sub(r\" hrs \", \" hours \", phrase)\n",
    "    phrase = re.sub(r\" btw \", \" by the way \", phrase)\n",
    "    phrase = re.sub(r\" mph \", \" miles per hour \", phrase) \n",
    "    phrase = re.sub(r\" fov \", \" field of view \", phrase) \n",
    "    phrase = re.sub(r\" rly \", \" really \", phrase) \n",
    "    phrase = re.sub(r\" em \", \" them \", phrase) \n",
    "    phrase = re.sub(r\" imho \", \" in my humble opinion \", phrase) \n",
    "    phrase = re.sub(r\" tl;dr \", \" too long; did not read \", phrase) \n",
    "    phrase = re.sub(r\" tldr \", \" too long; did not read \", phrase) \n",
    "    phrase = re.sub(r\" imao \", \" laughing my ass off \", phrase) \n",
    "    phrase = re.sub(r\" bs \", \" bullshit \", phrase) \n",
    "    phrase = re.sub(r\" tbh \", \" to be honest \", phrase)\n",
    "    phrase = re.sub(r\" cuz \", \" because \", phrase) \n",
    "    phrase = re.sub(r\" E:D \", \" elite dangerous \", phrase)\n",
    "    phrase = re.sub(r\" e:d \", \" elite dangerous \", phrase) \n",
    "    phrase = re.sub(r\" ad \", \" advantages \", phrase) \n",
    "    phrase = re.sub(r\" kok \", \" king of kings \", phrase) \n",
    "    phrase = re.sub(r\" wmr \", \" with much respect \", phrase) \n",
    "    phrase = re.sub(r\" tfw \", \" that feel when \", phrase) \n",
    "    phrase = re.sub(r\" f2p \", \" free to play \", phrase) \n",
    "    phrase = re.sub(r\" lmb \", \" left mouse button \", phrase) \n",
    "    phrase = re.sub(r\" eve \", \" everyone versus everyone \", phrase) \n",
    "    phrase = re.sub(r\" gui \", \" game user interface \", phrase) \n",
    "    phrase = re.sub(r\" c-mon \", \" come on \", phrase) \n",
    "    phrase = re.sub(r\" c'mon \", \" come on \", phrase) \n",
    "    \n",
    "    \n",
    "    # general\n",
    "    phrase = re.sub(r\"n\\'t\", \" not\", phrase)\n",
    "    phrase = re.sub(r\"\\'re\", \" are\", phrase)\n",
    "    phrase = re.sub(r\"\\'s\", \" is\", phrase)\n",
    "    phrase = re.sub(r\"\\'d\", \" would\", phrase)\n",
    "    phrase = re.sub(r\"\\'ll\", \" will\", phrase)\n",
    "    phrase = re.sub(r\"\\'t\", \" not\", phrase)\n",
    "    phrase = re.sub(r\"\\'ve\", \" have\", phrase)\n",
    "    phrase = re.sub(r\"\\'m\", \" am\", phrase)\n",
    "    return phrase"
   ]
  },
  {
   "cell_type": "code",
   "execution_count": 11,
   "id": "78a71525",
   "metadata": {},
   "outputs": [],
   "source": [
    "def to_lower(sent) :\n",
    "    return sent.lower()"
   ]
  },
  {
   "cell_type": "code",
   "execution_count": 12,
   "id": "015ba339",
   "metadata": {},
   "outputs": [],
   "source": [
    "stopwords= set([])\n",
    "# stopwords= set([\"i\", \"me\", \"my\", \"myself\", \"we\", \"our\", \"ours\", \"ourselves\", \"you\", \"your\", \"yours\", \"yourself\", \"yourselves\", \"he\", \"him\", \"his\", \"himself\", \"she\", \"her\", \"hers\", \"herself\", \"it\", \"its\", \"itself\", \"they\", \"them\", \"their\", \"theirs\", \"themselves\", \"what\", \"which\", \"who\", \"whom\", \"this\", \"that\", \"these\", \"those\", \"am\", \"is\", \"are\", \"was\", \"were\", \"be\", \"been\", \"being\", \"have\", \"has\", \"had\", \"having\", \"do\", \"does\", \"did\", \"doing\", \"a\", \"an\", \"the\", \"and\", \"but\", \"if\", \"or\", \"because\", \"as\", \"until\", \"while\", \"of\", \"at\", \"by\", \"for\", \"with\", \"about\", \"against\", \"between\", \"into\", \"through\", \"during\", \"before\", \"after\", \"above\", \"below\", \"to\", \"from\", \"up\", \"down\", \"in\", \"out\", \"on\", \"off\", \"over\", \"under\", \"again\", \"further\", \"then\", \"once\", \"here\", \"there\", \"when\", \"where\", \"why\", \"how\", \"all\", \"any\", \"both\", \"each\", \"few\", \"more\", \"most\", \"other\", \"some\", \"such\", \"nor\", \"not\", \"only\", \"own\", \"same\", \"so\", \"than\", \"too\", \"very\", \"s\", \"t\", \"can\", \"will\", \"just\", \"don\", \"should\", \"now\"])"
   ]
  },
  {
   "cell_type": "code",
   "execution_count": 13,
   "id": "f911aa3a",
   "metadata": {},
   "outputs": [],
   "source": [
    "def encode_emojis(s):\n",
    "    s = re.sub(r'♥+', 'profanity', s)\n",
    "    s = s.replace(':)', 'smiley')\n",
    "    s = s.replace(':D ', 'laughing')\n",
    "    s = s.replace(' xD ', 'laughing')\n",
    "    s = s.replace(' x‑D ', 'laughing')\n",
    "    s = s.replace(' :\"D ', 'tears of happiness')\n",
    "    s = s.replace(' :O ', 'surprise')\n",
    "    s = s.replace(':)', 'smiley')\n",
    "    s = s.replace(':(', 'frowney')\n",
    "    s = s.replace('<3', 'heart')\n",
    "    return s"
   ]
  },
  {
   "cell_type": "code",
   "execution_count": 14,
   "id": "71a90368",
   "metadata": {},
   "outputs": [
    {
     "name": "stderr",
     "output_type": "stream",
     "text": [
      "  0%|                                                                                          | 0/200 [00:00<?, ?it/s]D:\\Software\\Anaconda3\\envs\\pytorch\\lib\\site-packages\\bs4\\__init__.py:435: MarkupResemblesLocatorWarning: The input looks more like a filename than markup. You may want to open this file and pass the filehandle into Beautiful Soup.\n",
      "  warnings.warn(\n",
      "100%|██████████████████████████████████████████████████████████████████████████████| 200/200 [00:00<00:00, 1775.53it/s]\n"
     ]
    }
   ],
   "source": [
    "# Combining all the above. \n",
    "from tqdm import tqdm\n",
    "preprocessed_reviews = []\n",
    "# tqdm is for printing the status bar\n",
    "for sentance in tqdm(content):\n",
    "    sentance = re.sub(r\"http\\S+\", \"\", sentance)\n",
    "    sentance = to_lower (sentance)\n",
    "    # sentance = lemmatize (sentance)\n",
    "    sentance = decontracted(sentance)\n",
    "    sentance = BeautifulSoup(sentance, 'lxml').get_text()\n",
    "    sentance = encode_emojis(sentance)\n",
    "    sentance = re.sub(\"\\S*\\d\\S*\", \"\", sentance).strip()\n",
    "    # sentance = re.sub('[^A-Za-z]+', ' ', sentance)\n",
    "    # https://gist.github.com/sebleier/554280\n",
    "    sentance = ' '.join(e.lower() for e in sentance.split() if e.lower() not in stopwords)\n",
    "    preprocessed_reviews.append(sentance.strip())"
   ]
  },
  {
   "cell_type": "code",
   "execution_count": 15,
   "id": "a2618bc2",
   "metadata": {},
   "outputs": [
    {
     "data": {
      "text/plain": [
       "\"Game ran like crap at first but a patch less then 24 hours after release fixed 95% of my problems. No other developer can deliver patches that quick these days.As far as the game goes, after almost 20 hours I'm still thoroughly enjoying it. It is nice to have a game that doesn't push you towards the end and allows you to play as your own pace while creating your own goals.\""
      ]
     },
     "execution_count": 15,
     "metadata": {},
     "output_type": "execute_result"
    }
   ],
   "source": [
    "content[1]"
   ]
  },
  {
   "cell_type": "code",
   "execution_count": 16,
   "id": "e326042e",
   "metadata": {},
   "outputs": [
    {
     "data": {
      "text/plain": [
       "'game ran like crap at first but a patch less then hours after release fixed of my problems. no other developer can deliver patches that quick these days.as far as the game goes, after almost hours i am still thoroughly enjoying it. it is nice to have a game that does not push you towards the end and allows you to play as your own pace while creating your own goals.'"
      ]
     },
     "execution_count": 16,
     "metadata": {},
     "output_type": "execute_result"
    }
   ],
   "source": [
    "preprocessed_reviews[1]"
   ]
  },
  {
   "cell_type": "code",
   "execution_count": 19,
   "id": "126ca11b",
   "metadata": {},
   "outputs": [],
   "source": [
    "df_dataset['preprocessed_reviews'] =preprocessed_reviews"
   ]
  },
  {
   "cell_type": "code",
   "execution_count": 22,
   "id": "49222a63",
   "metadata": {},
   "outputs": [
    {
     "name": "stdout",
     "output_type": "stream",
     "text": [
      "                                          preprocessed\n",
      "0                              i am your xiao tiantian\n",
      "1    game ran like crap at first but a patch less t...\n",
      "2    the game has come a long way since release. i ...\n",
      "3    it is the most amazing conception created by m...\n",
      "4                              nope, not in this state\n",
      "..                                                 ...\n",
      "195  * post-next patch review *i am calling the nex...\n",
      "196  an early access indie game with little to no g...\n",
      "197  \"no mans lie\" this is how i knew this game for...\n",
      "198  no man is sky had very many features missing f...\n",
      "199  love this game if you like exploring give it a...\n",
      "\n",
      "[200 rows x 1 columns]\n"
     ]
    }
   ],
   "source": [
    "import pandas as pd\n",
    "name=['preprocessed']\n",
    "preprocessed_data=pd.DataFrame(columns=name,data=preprocessed_reviews)\n",
    "print(preprocessed_data)"
   ]
  },
  {
   "cell_type": "markdown",
   "id": "25a3edf7",
   "metadata": {},
   "source": [
    "# Model"
   ]
  },
  {
   "cell_type": "markdown",
   "id": "769919e6",
   "metadata": {},
   "source": [
    "## Two labels"
   ]
  },
  {
   "cell_type": "code",
   "execution_count": 23,
   "id": "9db3fd94",
   "metadata": {},
   "outputs": [
    {
     "name": "stderr",
     "output_type": "stream",
     "text": [
      "No model was supplied, defaulted to facebook/bart-large-mnli and revision c626438 (https://huggingface.co/facebook/bart-large-mnli).\n",
      "Using a pipeline without specifying a model name and revision in production is not recommended.\n",
      "The `multi_class` argument has been deprecated and renamed to `multi_label`. `multi_class` will be removed in a future version of Transformers.\n"
     ]
    }
   ],
   "source": [
    "from transformers import pipeline\n",
    "\n",
    "ppd= preprocessed_data['preprocessed']\n",
    "classifier = pipeline('zero-shot-classification')\n",
    "labels =['video games','refund']\n",
    "# 'contents','space','patch','running isses', 'developers', 'enjoyment', 'bug','promotion',\n",
    "results = classifier(ppd.to_list(), labels, multi_class=True)"
   ]
  },
  {
   "cell_type": "code",
   "execution_count": 24,
   "id": "491b6ef4",
   "metadata": {},
   "outputs": [
    {
     "data": {
      "text/plain": [
       "{'sequence': 'game ran like crap at first but a patch less then hours after release fixed of my problems. no other developer can deliver patches that quick these days.as far as the game goes, after almost hours i am still thoroughly enjoying it. it is nice to have a game that does not push you towards the end and allows you to play as your own pace while creating your own goals.',\n",
       " 'labels': ['video games', 'refund'],\n",
       " 'scores': [0.9867268800735474, 0.10791972279548645]}"
      ]
     },
     "execution_count": 24,
     "metadata": {},
     "output_type": "execute_result"
    }
   ],
   "source": [
    "results[1]"
   ]
  },
  {
   "cell_type": "markdown",
   "id": "99426af9",
   "metadata": {},
   "source": [
    "## Add labels"
   ]
  },
  {
   "cell_type": "code",
   "execution_count": 25,
   "id": "47a8e1cf",
   "metadata": {},
   "outputs": [
    {
     "name": "stderr",
     "output_type": "stream",
     "text": [
      "No model was supplied, defaulted to facebook/bart-large-mnli and revision c626438 (https://huggingface.co/facebook/bart-large-mnli).\n",
      "Using a pipeline without specifying a model name and revision in production is not recommended.\n",
      "The `multi_class` argument has been deprecated and renamed to `multi_label`. `multi_class` will be removed in a future version of Transformers.\n"
     ]
    }
   ],
   "source": [
    "ppd= preprocessed_data['preprocessed']\n",
    "# ppd[0]\n",
    "classifier = pipeline('zero-shot-classification')\n",
    "labels =['video games','space','update','operation','explore', 'developers', 'enjoyment', 'bug','promotion','refund']\n",
    "results = classifier(ppd.to_list(), labels, multi_class=True)"
   ]
  },
  {
   "cell_type": "code",
   "execution_count": 26,
   "id": "9393b55c",
   "metadata": {},
   "outputs": [
    {
     "data": {
      "text/plain": [
       "[{'sequence': 'i am your xiao tiantian',\n",
       "  'labels': ['promotion',\n",
       "   'update',\n",
       "   'operation',\n",
       "   'enjoyment',\n",
       "   'refund',\n",
       "   'bug',\n",
       "   'explore',\n",
       "   'video games',\n",
       "   'developers',\n",
       "   'space'],\n",
       "  'scores': [0.44755715131759644,\n",
       "   0.4319249391555786,\n",
       "   0.41336172819137573,\n",
       "   0.31854918599128723,\n",
       "   0.22503018379211426,\n",
       "   0.06361367553472519,\n",
       "   0.033668700605630875,\n",
       "   0.01616782508790493,\n",
       "   0.011091919615864754,\n",
       "   0.010751301422715187]},\n",
       " {'sequence': 'game ran like crap at first but a patch less then hours after release fixed of my problems. no other developer can deliver patches that quick these days.as far as the game goes, after almost hours i am still thoroughly enjoying it. it is nice to have a game that does not push you towards the end and allows you to play as your own pace while creating your own goals.',\n",
       "  'labels': ['video games',\n",
       "   'enjoyment',\n",
       "   'developers',\n",
       "   'explore',\n",
       "   'space',\n",
       "   'update',\n",
       "   'operation',\n",
       "   'bug',\n",
       "   'promotion',\n",
       "   'refund'],\n",
       "  'scores': [0.9867268800735474,\n",
       "   0.9743295907974243,\n",
       "   0.7993965744972229,\n",
       "   0.5485067963600159,\n",
       "   0.4035073220729828,\n",
       "   0.3606005907058716,\n",
       "   0.34618768095970154,\n",
       "   0.2101818323135376,\n",
       "   0.11741180717945099,\n",
       "   0.10791972279548645]}]"
      ]
     },
     "execution_count": 26,
     "metadata": {},
     "output_type": "execute_result"
    }
   ],
   "source": [
    "results[:2]"
   ]
  },
  {
   "cell_type": "code",
   "execution_count": 27,
   "id": "2c99dc61",
   "metadata": {},
   "outputs": [],
   "source": [
    "df_dataset['label_results'] = results"
   ]
  },
  {
   "cell_type": "code",
   "execution_count": 28,
   "id": "e2687e10",
   "metadata": {},
   "outputs": [
    {
     "data": {
      "text/plain": [
       "{'sequence': 'game ran like crap at first but a patch less then hours after release fixed of my problems. no other developer can deliver patches that quick these days.as far as the game goes, after almost hours i am still thoroughly enjoying it. it is nice to have a game that does not push you towards the end and allows you to play as your own pace while creating your own goals.',\n",
       " 'labels': ['video games',\n",
       "  'enjoyment',\n",
       "  'developers',\n",
       "  'explore',\n",
       "  'space',\n",
       "  'update',\n",
       "  'operation',\n",
       "  'bug',\n",
       "  'promotion',\n",
       "  'refund'],\n",
       " 'scores': [0.9867268800735474,\n",
       "  0.9743295907974243,\n",
       "  0.7993965744972229,\n",
       "  0.5485067963600159,\n",
       "  0.4035073220729828,\n",
       "  0.3606005907058716,\n",
       "  0.34618768095970154,\n",
       "  0.2101818323135376,\n",
       "  0.11741180717945099,\n",
       "  0.10791972279548645]}"
      ]
     },
     "execution_count": 28,
     "metadata": {},
     "output_type": "execute_result"
    }
   ],
   "source": [
    "df_dataset['label_results'][1]"
   ]
  },
  {
   "cell_type": "code",
   "execution_count": 29,
   "id": "064b13ce",
   "metadata": {},
   "outputs": [],
   "source": [
    "label_results=df_dataset['label_results']"
   ]
  },
  {
   "cell_type": "code",
   "execution_count": 30,
   "id": "9859e31c",
   "metadata": {},
   "outputs": [
    {
     "name": "stdout",
     "output_type": "stream",
     "text": [
      "                                                labels  \\\n",
      "0    [promotion, update, operation, enjoyment, refu...   \n",
      "1    [video games, enjoyment, developers, explore, ...   \n",
      "2    [video games, update, enjoyment, explore, deve...   \n",
      "3    [video games, enjoyment, developers, bug, upda...   \n",
      "4    [bug, developers, refund, operation, update, p...   \n",
      "..                                                 ...   \n",
      "195  [video games, refund, enjoyment, operation, bu...   \n",
      "196  [video games, developers, bug, explore, operat...   \n",
      "197  [video games, developers, operation, promotion...   \n",
      "198  [video games, space, developers, explore, oper...   \n",
      "199  [explore, enjoyment, video games, space, devel...   \n",
      "\n",
      "                                                scores  \\\n",
      "0    [0.44755715131759644, 0.4319249391555786, 0.41...   \n",
      "1    [0.9867268800735474, 0.9743295907974243, 0.799...   \n",
      "2    [0.985668420791626, 0.846666157245636, 0.67381...   \n",
      "3    [0.8799867630004883, 0.7243720293045044, 0.596...   \n",
      "4    [0.4779798984527588, 0.12355870753526688, 0.07...   \n",
      "..                                                 ...   \n",
      "195  [0.996522068977356, 0.990163266658783, 0.98803...   \n",
      "196  [0.9936266541481018, 0.9408005475997925, 0.589...   \n",
      "197  [0.9900982975959778, 0.9721837043762207, 0.728...   \n",
      "198  [0.9378065466880798, 0.5878689289093018, 0.463...   \n",
      "199  [0.929974377155304, 0.8936618566513062, 0.8766...   \n",
      "\n",
      "                                              sequence  \n",
      "0                              i am your xiao tiantian  \n",
      "1    game ran like crap at first but a patch less t...  \n",
      "2    the game has come a long way since release. i ...  \n",
      "3    it is the most amazing conception created by m...  \n",
      "4                              nope, not in this state  \n",
      "..                                                 ...  \n",
      "195  * post-next patch review *i am calling the nex...  \n",
      "196  an early access indie game with little to no g...  \n",
      "197  \"no mans lie\" this is how i knew this game for...  \n",
      "198  no man is sky had very many features missing f...  \n",
      "199  love this game if you like exploring give it a...  \n",
      "\n",
      "[200 rows x 3 columns]\n"
     ]
    }
   ],
   "source": [
    "name=['labels','scores','sequence']\n",
    "label_results=pd.DataFrame(columns=name,data=label_results)\n",
    "print(label_results)\n",
    "label_results.to_csv('./results/label_results.csv',encoding='utf-8', index=False)"
   ]
  },
  {
   "cell_type": "code",
   "execution_count": null,
   "id": "f8a7110a",
   "metadata": {},
   "outputs": [],
   "source": []
  }
 ],
 "metadata": {
  "kernelspec": {
   "display_name": "Python 3 (ipykernel)",
   "language": "python",
   "name": "python3"
  },
  "language_info": {
   "codemirror_mode": {
    "name": "ipython",
    "version": 3
   },
   "file_extension": ".py",
   "mimetype": "text/x-python",
   "name": "python",
   "nbconvert_exporter": "python",
   "pygments_lexer": "ipython3",
   "version": "3.11.5"
  },
  "toc": {
   "base_numbering": 1,
   "nav_menu": {},
   "number_sections": true,
   "sideBar": true,
   "skip_h1_title": false,
   "title_cell": "Table of Contents",
   "title_sidebar": "Contents",
   "toc_cell": false,
   "toc_position": {},
   "toc_section_display": true,
   "toc_window_display": false
  }
 },
 "nbformat": 4,
 "nbformat_minor": 5
}
