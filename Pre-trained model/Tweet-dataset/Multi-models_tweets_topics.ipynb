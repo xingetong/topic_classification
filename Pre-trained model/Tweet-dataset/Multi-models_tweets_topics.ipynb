{
 "cells": [
  {
   "cell_type": "code",
   "execution_count": 1,
   "id": "5b453f53",
   "metadata": {},
   "outputs": [],
   "source": [
    "from datasets import load_dataset\n",
    "import matplotlib.pyplot as plt\n",
    "from transformers import AutoModelForSequenceClassification, TFAutoModelForSequenceClassification\n",
    "from transformers import AutoTokenizer\n",
    "import numpy as np\n",
    "from scipy.special import expit\n",
    "from scipy.special import softmax\n",
    "from transformers import pipeline\n",
    "from sentence_transformers import CrossEncoder\n",
    "import torch\n",
    "from transformers import BartForSequenceClassification, BartTokenizer"
   ]
  },
  {
   "cell_type": "code",
   "execution_count": 2,
   "id": "b7513973",
   "metadata": {},
   "outputs": [],
   "source": [
    "# pip install nlp"
   ]
  },
  {
   "cell_type": "code",
   "execution_count": 3,
   "id": "d608a8ee",
   "metadata": {},
   "outputs": [],
   "source": [
    "import warnings\n",
    "warnings.filterwarnings(\"ignore\")"
   ]
  },
  {
   "cell_type": "markdown",
   "id": "df2c1ff5",
   "metadata": {},
   "source": [
    "# Multi_nli dataset"
   ]
  },
  {
   "cell_type": "code",
   "execution_count": 14,
   "id": "1482a272",
   "metadata": {
    "scrolled": false
   },
   "outputs": [
    {
     "name": "stderr",
     "output_type": "stream",
     "text": [
      "Using custom data configuration default\n"
     ]
    },
    {
     "name": "stdout",
     "output_type": "stream",
     "text": [
      "Downloading and preparing dataset multi_nli/default (download: 216.34 MiB, generated: 410.92 MiB, post-processed: Unknown size, total: 627.27 MiB) to C:/Users/researcher/.cache/huggingface/datasets/multi_nli/default/0.0.0/591f72eb6263d1ab527561777936b199b714cda156d35716881158a2bd144f39...\n"
     ]
    },
    {
     "data": {
      "application/vnd.jupyter.widget-view+json": {
       "model_id": "",
       "version_major": 2,
       "version_minor": 0
      },
      "text/plain": [
       "Generating train split:   0%|          | 0/392702 [00:00<?, ? examples/s]"
      ]
     },
     "metadata": {},
     "output_type": "display_data"
    },
    {
     "data": {
      "application/vnd.jupyter.widget-view+json": {
       "model_id": "",
       "version_major": 2,
       "version_minor": 0
      },
      "text/plain": [
       "Generating validation_matched split:   0%|          | 0/9815 [00:00<?, ? examples/s]"
      ]
     },
     "metadata": {},
     "output_type": "display_data"
    },
    {
     "data": {
      "application/vnd.jupyter.widget-view+json": {
       "model_id": "",
       "version_major": 2,
       "version_minor": 0
      },
      "text/plain": [
       "Generating validation_mismatched split:   0%|          | 0/9832 [00:00<?, ? examples/s]"
      ]
     },
     "metadata": {},
     "output_type": "display_data"
    },
    {
     "name": "stdout",
     "output_type": "stream",
     "text": [
      "Dataset multi_nli downloaded and prepared to C:/Users/researcher/.cache/huggingface/datasets/multi_nli/default/0.0.0/591f72eb6263d1ab527561777936b199b714cda156d35716881158a2bd144f39. Subsequent calls will reuse this data.\n"
     ]
    },
    {
     "data": {
      "application/vnd.jupyter.widget-view+json": {
       "model_id": "68a7f259a3354c2383ba7fe9f4c203c2",
       "version_major": 2,
       "version_minor": 0
      },
      "text/plain": [
       "  0%|          | 0/3 [00:00<?, ?it/s]"
      ]
     },
     "metadata": {},
     "output_type": "display_data"
    }
   ],
   "source": [
    "dataset = load_dataset('multi_nli')"
   ]
  },
  {
   "cell_type": "code",
   "execution_count": 15,
   "id": "ae450f53",
   "metadata": {},
   "outputs": [
    {
     "data": {
      "text/plain": [
       "DatasetDict({\n",
       "    train: Dataset({\n",
       "        features: ['promptID', 'pairID', 'premise', 'premise_binary_parse', 'premise_parse', 'hypothesis', 'hypothesis_binary_parse', 'hypothesis_parse', 'genre', 'label'],\n",
       "        num_rows: 392702\n",
       "    })\n",
       "    validation_matched: Dataset({\n",
       "        features: ['promptID', 'pairID', 'premise', 'premise_binary_parse', 'premise_parse', 'hypothesis', 'hypothesis_binary_parse', 'hypothesis_parse', 'genre', 'label'],\n",
       "        num_rows: 9815\n",
       "    })\n",
       "    validation_mismatched: Dataset({\n",
       "        features: ['promptID', 'pairID', 'premise', 'premise_binary_parse', 'premise_parse', 'hypothesis', 'hypothesis_binary_parse', 'hypothesis_parse', 'genre', 'label'],\n",
       "        num_rows: 9832\n",
       "    })\n",
       "})"
      ]
     },
     "execution_count": 15,
     "metadata": {},
     "output_type": "execute_result"
    }
   ],
   "source": [
    "dataset"
   ]
  },
  {
   "cell_type": "code",
   "execution_count": 16,
   "id": "c2439375",
   "metadata": {},
   "outputs": [
    {
     "data": {
      "text/plain": [
       "{'promptID': Value(dtype='int32', id=None),\n",
       " 'pairID': Value(dtype='string', id=None),\n",
       " 'premise': Value(dtype='string', id=None),\n",
       " 'premise_binary_parse': Value(dtype='string', id=None),\n",
       " 'premise_parse': Value(dtype='string', id=None),\n",
       " 'hypothesis': Value(dtype='string', id=None),\n",
       " 'hypothesis_binary_parse': Value(dtype='string', id=None),\n",
       " 'hypothesis_parse': Value(dtype='string', id=None),\n",
       " 'genre': Value(dtype='string', id=None),\n",
       " 'label': ClassLabel(num_classes=3, names=['entailment', 'neutral', 'contradiction'], id=None)}"
      ]
     },
     "execution_count": 16,
     "metadata": {},
     "output_type": "execute_result"
    }
   ],
   "source": [
    "dataset['train'].features"
   ]
  },
  {
   "cell_type": "code",
   "execution_count": 17,
   "id": "38466981",
   "metadata": {},
   "outputs": [
    {
     "data": {
      "image/png": "[encoded data removed]",
      "text/plain": [
       "<Figure size 640x480 with 1 Axes>"
      ]
     },
     "metadata": {},
     "output_type": "display_data"
    }
   ],
   "source": [
    "df=dataset['train']\n",
    "plt.hist(df[\"genre\"])\n",
    "plt.xlabel('genre')\n",
    "plt.ylabel('Frequency')\n",
    "plt.grid(True)\n",
    "plt.show()"
   ]
  },
  {
   "cell_type": "markdown",
   "id": "b3b06ad1",
   "metadata": {},
   "source": [
    "# Text classification"
   ]
  },
  {
   "cell_type": "markdown",
   "id": "d14745b8",
   "metadata": {},
   "source": [
    "## AutoModelForSequenceClassification"
   ]
  },
  {
   "cell_type": "markdown",
   "id": "68f7d288",
   "metadata": {},
   "source": [
    "### tweet-topic-21-multi"
   ]
  },
  {
   "cell_type": "code",
   "execution_count": 18,
   "id": "805f822a",
   "metadata": {},
   "outputs": [
    {
     "data": {
      "application/vnd.jupyter.widget-view+json": {
       "model_id": "6011de94f4a84a7f9fdefac2f9785749",
       "version_major": 2,
       "version_minor": 0
      },
      "text/plain": [
       "Downloading:   0%|          | 0.00/1.30k [00:00<?, ?B/s]"
      ]
     },
     "metadata": {},
     "output_type": "display_data"
    },
    {
     "data": {
      "application/vnd.jupyter.widget-view+json": {
       "model_id": "329d45637f40404e9e5cde54665ec5c1",
       "version_major": 2,
       "version_minor": 0
      },
      "text/plain": [
       "Downloading:   0%|          | 0.00/798k [00:00<?, ?B/s]"
      ]
     },
     "metadata": {},
     "output_type": "display_data"
    },
    {
     "data": {
      "application/vnd.jupyter.widget-view+json": {
       "model_id": "a4d4e82359b845a3a4330bfb1673deba",
       "version_major": 2,
       "version_minor": 0
      },
      "text/plain": [
       "Downloading:   0%|          | 0.00/456k [00:00<?, ?B/s]"
      ]
     },
     "metadata": {},
     "output_type": "display_data"
    },
    {
     "data": {
      "application/vnd.jupyter.widget-view+json": {
       "model_id": "5c654fbb8b3742058fbc150afe18c752",
       "version_major": 2,
       "version_minor": 0
      },
      "text/plain": [
       "Downloading:   0%|          | 0.00/1.36M [00:00<?, ?B/s]"
      ]
     },
     "metadata": {},
     "output_type": "display_data"
    },
    {
     "data": {
      "application/vnd.jupyter.widget-view+json": {
       "model_id": "3c95e8bede3f42dea3e2fc76456c637b",
       "version_major": 2,
       "version_minor": 0
      },
      "text/plain": [
       "Downloading:   0%|          | 0.00/239 [00:00<?, ?B/s]"
      ]
     },
     "metadata": {},
     "output_type": "display_data"
    },
    {
     "data": {
      "application/vnd.jupyter.widget-view+json": {
       "model_id": "3ac683b29c24425998fa207aa1a3c520",
       "version_major": 2,
       "version_minor": 0
      },
      "text/plain": [
       "Downloading:   0%|          | 0.00/1.16k [00:00<?, ?B/s]"
      ]
     },
     "metadata": {},
     "output_type": "display_data"
    },
    {
     "data": {
      "application/vnd.jupyter.widget-view+json": {
       "model_id": "440ff860d77a49c2a93783eec8a0283e",
       "version_major": 2,
       "version_minor": 0
      },
      "text/plain": [
       "Downloading:   0%|          | 0.00/499M [00:00<?, ?B/s]"
      ]
     },
     "metadata": {},
     "output_type": "display_data"
    },
    {
     "name": "stdout",
     "output_type": "stream",
     "text": [
      "pop_culture\n"
     ]
    }
   ],
   "source": [
    "MODEL = f\"cardiffnlp/tweet-topic-21-single\"\n",
    "tokenizer = AutoTokenizer.from_pretrained(MODEL)\n",
    "\n",
    "# PT\n",
    "model = AutoModelForSequenceClassification.from_pretrained(MODEL)\n",
    "class_mapping = model.config.id2label\n",
    "\n",
    "text = \"music is not bad, it corresponds to the lonely atmosphere but nothing outstanding if u ask.\"\n",
    "tokens = tokenizer(text, return_tensors='pt')\n",
    "output = model(**tokens)\n",
    "\n",
    "scores = output[0][0].detach().numpy()\n",
    "scores = expit(scores)\n",
    "predictions = (scores >= 0.5) * 1\n",
    "\n",
    "\n",
    "# TF\n",
    "#tf_model = TFAutoModelForSequenceClassification.from_pretrained(MODEL)\n",
    "#class_mapping = model.config.id2label\n",
    "#text = \"It is great to see athletes promoting awareness for climate change.\"\n",
    "#tokens = tokenizer(text, return_tensors='tf')\n",
    "#output = tf_model(**tokens)\n",
    "#scores = output[0][0]\n",
    "#scores = expit(scores)\n",
    "#predictions = (scores >= 0.5) * 1\n",
    "\n",
    "# Map to classes\n",
    "for i in range(len(predictions)):\n",
    "    if predictions[i]:\n",
    "        print(class_mapping[i])"
   ]
  },
  {
   "cell_type": "markdown",
   "id": "28dcacc3",
   "metadata": {},
   "source": [
    "### cardiffnlp/tweet-topic-21-single"
   ]
  },
  {
   "cell_type": "code",
   "execution_count": 19,
   "id": "4b423e29",
   "metadata": {},
   "outputs": [
    {
     "name": "stdout",
     "output_type": "stream",
     "text": [
      "1) pop_culture 0.9834\n",
      "2) daily_life 0.0055\n",
      "3) arts_&_culture 0.0036\n",
      "4) sports_&_gaming 0.0033\n",
      "5) science_&_technology 0.0023\n",
      "6) business_&_entrepreneurs 0.002\n"
     ]
    }
   ],
   "source": [
    "MODEL = f\"cardiffnlp/tweet-topic-21-single\"\n",
    "tokenizer = AutoTokenizer.from_pretrained(MODEL)\n",
    "\n",
    "# PT\n",
    "model = AutoModelForSequenceClassification.from_pretrained(MODEL)\n",
    "class_mapping = model.config.id2label\n",
    "\n",
    "text = \"music is not bad, it corresponds to the lonely atmosphere but nothing outstanding if u ask.\"\n",
    "encoded_input = tokenizer(text, return_tensors='pt')\n",
    "output = model(**encoded_input)\n",
    "\n",
    "scores = output[0][0].detach().numpy()\n",
    "scores = softmax(scores)\n",
    "\n",
    "# TF\n",
    "#model = TFAutoModelForSequenceClassification.from_pretrained(MODEL)\n",
    "#class_mapping = model.config.id2label\n",
    "#text = \"Tesla stock is on the rise!\"\n",
    "#encoded_input = tokenizer(text, return_tensors='tf')\n",
    "#output = model(**encoded_input)\n",
    "#scores = output[0][0]\n",
    "#scores = softmax(scores)\n",
    "\n",
    "\n",
    "ranking = np.argsort(scores)\n",
    "ranking = ranking[::-1]\n",
    "for i in range(scores.shape[0]):\n",
    "    l = class_mapping[ranking[i]]\n",
    "    s = scores[ranking[i]]\n",
    "    print(f\"{i+1}) {l} {np.round(float(s), 4)}\")"
   ]
  },
  {
   "cell_type": "markdown",
   "id": "ff16f62c",
   "metadata": {},
   "source": [
    "### typeform/distilbert-base-uncased-mnli"
   ]
  },
  {
   "cell_type": "code",
   "execution_count": 20,
   "id": "b901078d",
   "metadata": {},
   "outputs": [
    {
     "data": {
      "application/vnd.jupyter.widget-view+json": {
       "model_id": "f117163029254e99aba35b22b04e4b73",
       "version_major": 2,
       "version_minor": 0
      },
      "text/plain": [
       "Downloading:   0%|          | 0.00/258 [00:00<?, ?B/s]"
      ]
     },
     "metadata": {},
     "output_type": "display_data"
    },
    {
     "data": {
      "application/vnd.jupyter.widget-view+json": {
       "model_id": "e13f163c6b43492685c5a9fdc9b46296",
       "version_major": 2,
       "version_minor": 0
      },
      "text/plain": [
       "Downloading:   0%|          | 0.00/776 [00:00<?, ?B/s]"
      ]
     },
     "metadata": {},
     "output_type": "display_data"
    },
    {
     "name": "stderr",
     "output_type": "stream",
     "text": [
      "The `xla_device` argument has been deprecated in v4.4.0 of Transformers. It is ignored and you can safely remove it from your `config.json` file.\n"
     ]
    },
    {
     "data": {
      "application/vnd.jupyter.widget-view+json": {
       "model_id": "70e1e365bb88486aa328e1705ad6af88",
       "version_major": 2,
       "version_minor": 0
      },
      "text/plain": [
       "Downloading:   0%|          | 0.00/232k [00:00<?, ?B/s]"
      ]
     },
     "metadata": {},
     "output_type": "display_data"
    },
    {
     "data": {
      "application/vnd.jupyter.widget-view+json": {
       "model_id": "b2f135edd7f744298db950e20b15ab52",
       "version_major": 2,
       "version_minor": 0
      },
      "text/plain": [
       "Downloading:   0%|          | 0.00/112 [00:00<?, ?B/s]"
      ]
     },
     "metadata": {},
     "output_type": "display_data"
    },
    {
     "name": "stderr",
     "output_type": "stream",
     "text": [
      "The `xla_device` argument has been deprecated in v4.4.0 of Transformers. It is ignored and you can safely remove it from your `config.json` file.\n",
      "The `xla_device` argument has been deprecated in v4.4.0 of Transformers. It is ignored and you can safely remove it from your `config.json` file.\n",
      "The `xla_device` argument has been deprecated in v4.4.0 of Transformers. It is ignored and you can safely remove it from your `config.json` file.\n"
     ]
    },
    {
     "data": {
      "application/vnd.jupyter.widget-view+json": {
       "model_id": "a0a68575e0124f9d8cd4f0396ed5233f",
       "version_major": 2,
       "version_minor": 0
      },
      "text/plain": [
       "Downloading:   0%|          | 0.00/268M [00:00<?, ?B/s]"
      ]
     },
     "metadata": {},
     "output_type": "display_data"
    },
    {
     "name": "stdout",
     "output_type": "stream",
     "text": [
      "[{'sequence': 'multiplayer before being something that could happen if you were lucky, is now a easy, more engaging and fun experience!', 'labels': ['Game', 'Multiplayer version', 'Interaction with players', 'Comparison', 'Optimise', 'Save progress', 'Structuring', 'Dexterity', 'New Content', 'Interaction with NPC', 'Encouragement', 'Recommendation', 'Refund', 'Self-improvement', 'Skill', 'Promotion', 'Socio-Cultural Proximity', 'Reviewers Other players', 'Realism', 'Input devices', 'Graphics', 'Sensory Appeal', 'Absorption', 'Speed', 'Review', 'Story', 'Customise', 'Worth issues', 'Guide', 'Conscious Awareness', 'Curiosity', 'Base building', 'In-game setting', 'Early access', 'Game Knowledge', 'Computer configuration', 'Completion', 'Cargo trade goods', 'Exploration mechanics', 'Environment', 'Survival mechanics', 'Devs/game types: AAA/indie', 'Missions', 'Pre-ordered', 'Combat mechanics', 'Camera angle', 'Non-pre-ordered', 'Developer Publisher', 'Target player', 'Mod', 'Streaming YouTuber', 'UI', 'Gameplay length', 'Playing hours', 'Avatar agent', 'Economy (sell price)', 'Music', 'Trading mechanics', 'Returned player', 'Reaction', 'Patches', 'Game running', 'Single player version', 'Difficulty', 'Advertising', 'Discovery', 'Inventory management', 'Launch', 'Frustration', 'Bugs and Crashes', 'Homogeneity'], 'scores': [0.9997914433479309, 0.9996122121810913, 0.9992433786392212, 0.9978557825088501, 0.9842334985733032, 0.9312619566917419, 0.922519326210022, 0.8734206557273865, 0.8473884463310242, 0.8359116911888123, 0.7935210466384888, 0.7518298029899597, 0.6812930107116699, 0.6747814416885376, 0.6118313074111938, 0.5930492877960205, 0.5463148355484009, 0.4990057349205017, 0.48942747712135315, 0.4773111939430237, 0.43692514300346375, 0.4345136284828186, 0.4161105155944824, 0.3829563856124878, 0.3821515738964081, 0.37890860438346863, 0.3765864372253418, 0.3676498532295227, 0.3457046449184418, 0.30177637934684753, 0.3008629083633423, 0.3000091314315796, 0.27805185317993164, 0.2713486850261688, 0.267724871635437, 0.2353181093931198, 0.18837343156337738, 0.18097944557666779, 0.1768265813589096, 0.1432911902666092, 0.11879005283117294, 0.11817707121372223, 0.1148315817117691, 0.101348876953125, 0.09555342048406601, 0.08969864249229431, 0.08826395869255066, 0.06190851330757141, 0.04981976002454758, 0.04895846173167229, 0.04606188088655472, 0.037337563931941986, 0.03428377956151962, 0.0338941365480423, 0.03385390341281891, 0.032783057540655136, 0.030334314331412315, 0.024956366047263145, 0.024733109399676323, 0.012823493219912052, 0.005055167246609926, 0.004977428819984198, 0.003692172933369875, 0.0017609872156754136, 0.000639825826510787, 0.000587454647757113, 0.0002808501594699919, 0.00014480322715826333, 0.00010632650810293853, 3.465105328359641e-05, 2.3358588805422187e-05]}]\n"
     ]
    }
   ],
   "source": [
    "tokenizer = AutoTokenizer.from_pretrained(\"typeform/distilbert-base-uncased-mnli\")\n",
    "model = AutoModelForSequenceClassification.from_pretrained(\"typeform/distilbert-base-uncased-mnli\")\n",
    "classifier = pipeline('zero-shot-classification', model=model, tokenizer=tokenizer)\n",
    "labels =['Computer configuration', 'Input devices',  'In-game setting', 'Game running', 'Optimise', 'Bugs and Crashes', 'Save progress', 'Trading mechanics', 'Exploration mechanics', 'Combat mechanics', 'Survival mechanics', 'Multiplayer version','Single player version', 'Missions', 'Base building', 'Customise', 'Gameplay length','Inventory management' , 'Cargo trade goods', 'Graphics' , 'Environment', 'Music', 'Camera angle','Story', 'UI', 'Guide', 'Avatar agent', 'Game Knowledge', 'Skill', 'Difficulty','Frustration', 'Speed', 'Discovery', 'Completion', 'Structuring', 'Conscious Awareness', 'Absorption', 'Realism','Dexterity', 'Socio-Cultural Proximity', 'Encouragement', 'Curiosity', 'Self-improvement', 'Homogeneity', 'Reaction','Sensory Appeal', 'Interaction with NPC', 'Interaction with players', 'Pre-ordered', 'Non-pre-ordered', 'Returned player','Playing hours', 'Patches' , 'New Content' , 'Mod', 'Promotion', 'Advertising', 'Launch', 'Streaming YouTuber','Recommendation', 'Target player', 'Comparison', 'Developer Publisher', 'Game', 'Review', 'Reviewers Other players','Devs/game types: AAA/indie', 'Early access', 'Worth issues', 'Economy (sell price)', 'Refund']\n",
    "text=['multiplayer before being something that could happen if you were lucky, is now a easy, more engaging and fun experience!']\n",
    "\n",
    "result1 = classifier(text, labels, multi_label=True)\n",
    "print (result1)"
   ]
  },
  {
   "cell_type": "markdown",
   "id": "7bff5b50",
   "metadata": {},
   "source": [
    "### Narsil/deberta-large-mnli-zero-cls"
   ]
  },
  {
   "cell_type": "code",
   "execution_count": 21,
   "id": "5fb64025",
   "metadata": {},
   "outputs": [
    {
     "data": {
      "application/vnd.jupyter.widget-view+json": {
       "model_id": "c726225d0f7040d39ee4136c27c159fa",
       "version_major": 2,
       "version_minor": 0
      },
      "text/plain": [
       "Downloading:   0%|          | 0.00/52.0 [00:00<?, ?B/s]"
      ]
     },
     "metadata": {},
     "output_type": "display_data"
    },
    {
     "data": {
      "application/vnd.jupyter.widget-view+json": {
       "model_id": "f184868d319d471080473c8307544f12",
       "version_major": 2,
       "version_minor": 0
      },
      "text/plain": [
       "Downloading:   0%|          | 0.00/729 [00:00<?, ?B/s]"
      ]
     },
     "metadata": {},
     "output_type": "display_data"
    },
    {
     "data": {
      "application/vnd.jupyter.widget-view+json": {
       "model_id": "d2da7ff615f846878dc9ac52bc8ec07e",
       "version_major": 2,
       "version_minor": 0
      },
      "text/plain": [
       "Downloading:   0%|          | 0.00/899k [00:00<?, ?B/s]"
      ]
     },
     "metadata": {},
     "output_type": "display_data"
    },
    {
     "data": {
      "application/vnd.jupyter.widget-view+json": {
       "model_id": "1578f0944a9649b298ad882b11cb4ea7",
       "version_major": 2,
       "version_minor": 0
      },
      "text/plain": [
       "Downloading:   0%|          | 0.00/456k [00:00<?, ?B/s]"
      ]
     },
     "metadata": {},
     "output_type": "display_data"
    },
    {
     "data": {
      "application/vnd.jupyter.widget-view+json": {
       "model_id": "23caa4ee90264ac0a20cdef42b284fbe",
       "version_major": 2,
       "version_minor": 0
      },
      "text/plain": [
       "Downloading:   0%|          | 0.00/1.62G [00:00<?, ?B/s]"
      ]
     },
     "metadata": {},
     "output_type": "display_data"
    },
    {
     "name": "stderr",
     "output_type": "stream",
     "text": [
      "Some weights of the model checkpoint at Narsil/deberta-large-mnli-zero-cls were not used when initializing DebertaForSequenceClassification: ['config']\n",
      "- This IS expected if you are initializing DebertaForSequenceClassification from the checkpoint of a model trained on another task or with another architecture (e.g. initializing a BertForSequenceClassification model from a BertForPreTraining model).\n",
      "- This IS NOT expected if you are initializing DebertaForSequenceClassification from the checkpoint of a model that you expect to be exactly identical (initializing a BertForSequenceClassification model from a BertForSequenceClassification model).\n",
      "Asking to truncate to max_length but no maximum length is provided and the model has no predefined maximum length. Default to no truncation.\n"
     ]
    },
    {
     "name": "stdout",
     "output_type": "stream",
     "text": [
      "[{'sequence': 'multiplayer before being something that could happen if you were lucky, is now a easy, more engaging and fun experience!', 'labels': ['Interaction with players', 'Encouragement', 'Multiplayer version', 'New Content', 'Recommendation', 'Comparison', 'Cargo trade goods', 'Optimise', 'Game Knowledge', 'Interaction with NPC', 'In-game setting', 'Review', 'Promotion', 'Reviewers Other players', 'Game', 'Gameplay length', 'Guide', 'Worth issues', 'Camera angle', 'Pre-ordered', 'Launch', 'Reaction', 'Exploration mechanics', 'Skill', 'Dexterity', 'Game running', 'Base building', 'Avatar agent', 'Trading mechanics', 'Curiosity', 'Sensory Appeal', 'Save progress', 'Completion', 'Structuring', 'Devs/game types: AAA/indie', 'UI', 'Missions', 'Non-pre-ordered', 'Graphics', 'Combat mechanics', 'Target player', 'Difficulty', 'Playing hours', 'Discovery', 'Mod', 'Realism', 'Returned player', 'Developer Publisher', 'Absorption', 'Patches', 'Story', 'Advertising', 'Environment', 'Input devices', 'Conscious Awareness', 'Streaming YouTuber', 'Survival mechanics', 'Economy (sell price)', 'Early access', 'Speed', 'Inventory management', 'Refund', 'Socio-Cultural Proximity', 'Computer configuration', 'Customise', 'Self-improvement', 'Music', 'Single player version', 'Bugs and Crashes', 'Frustration', 'Homogeneity'], 'scores': [0.9700899124145508, 0.9513858556747437, 0.9209771156311035, 0.8494520783424377, 0.8199416995048523, 0.5528578162193298, 0.4569522440433502, 0.4227350354194641, 0.37596458196640015, 0.3752712905406952, 0.3621028959751129, 0.34952688217163086, 0.34292134642601013, 0.3337455987930298, 0.3221644461154938, 0.29441210627555847, 0.28141704201698303, 0.28132161498069763, 0.27804243564605713, 0.2656835913658142, 0.2499895840883255, 0.24427464604377747, 0.22163860499858856, 0.2014441043138504, 0.19505509734153748, 0.19113901257514954, 0.17415092885494232, 0.16901685297489166, 0.16603274643421173, 0.14963439106941223, 0.14820685982704163, 0.14802008867263794, 0.1450197547674179, 0.1449689269065857, 0.14359164237976074, 0.13233280181884766, 0.1293284147977829, 0.11152074486017227, 0.11130669713020325, 0.10992960631847382, 0.10966737568378448, 0.10801593959331512, 0.09998636692762375, 0.09775131940841675, 0.09453243017196655, 0.09121350944042206, 0.0894307792186737, 0.0894254520535469, 0.08791528642177582, 0.08178362995386124, 0.08089269697666168, 0.07291850447654724, 0.07006020098924637, 0.06810968369245529, 0.06563080102205276, 0.06334841996431351, 0.052444539964199066, 0.05148269608616829, 0.04296980798244476, 0.03919209912419319, 0.03895224258303642, 0.030785387381911278, 0.028423041105270386, 0.020155729725956917, 0.018878556787967682, 0.016418805345892906, 0.009132404811680317, 0.004055100493133068, 0.003121454967185855, 0.0008229547529481351, 0.0007083764066919684]}]\n"
     ]
    }
   ],
   "source": [
    "tokenizer = AutoTokenizer.from_pretrained(\"Narsil/deberta-large-mnli-zero-cls\")\n",
    "model = AutoModelForSequenceClassification.from_pretrained(\"Narsil/deberta-large-mnli-zero-cls\")\n",
    "classifier = pipeline('zero-shot-classification', model=model, tokenizer=tokenizer)\n",
    "labels =['Computer configuration', 'Input devices',  'In-game setting', 'Game running', 'Optimise', 'Bugs and Crashes', 'Save progress', 'Trading mechanics', 'Exploration mechanics', 'Combat mechanics', 'Survival mechanics', 'Multiplayer version','Single player version', 'Missions', 'Base building', 'Customise', 'Gameplay length','Inventory management' , 'Cargo trade goods', 'Graphics' , 'Environment', 'Music', 'Camera angle','Story', 'UI', 'Guide', 'Avatar agent', 'Game Knowledge', 'Skill', 'Difficulty','Frustration', 'Speed', 'Discovery', 'Completion', 'Structuring', 'Conscious Awareness', 'Absorption', 'Realism','Dexterity', 'Socio-Cultural Proximity', 'Encouragement', 'Curiosity', 'Self-improvement', 'Homogeneity', 'Reaction','Sensory Appeal', 'Interaction with NPC', 'Interaction with players', 'Pre-ordered', 'Non-pre-ordered', 'Returned player','Playing hours', 'Patches' , 'New Content' , 'Mod', 'Promotion', 'Advertising', 'Launch', 'Streaming YouTuber','Recommendation', 'Target player', 'Comparison', 'Developer Publisher', 'Game', 'Review', 'Reviewers Other players','Devs/game types: AAA/indie', 'Early access', 'Worth issues', 'Economy (sell price)', 'Refund']\n",
    "text=['multiplayer before being something that could happen if you were lucky, is now a easy, more engaging and fun experience!']\n",
    "\n",
    "result1 = classifier(text, labels, multi_label=True)\n",
    "print (result1)"
   ]
  },
  {
   "cell_type": "markdown",
   "id": "ebb33e7f",
   "metadata": {},
   "source": [
    "### DeBERTa-v3-xsmall-mnli-fever-anli-ling-binary"
   ]
  },
  {
   "cell_type": "code",
   "execution_count": 23,
   "id": "84716bf8",
   "metadata": {
    "scrolled": false
   },
   "outputs": [
    {
     "name": "stdout",
     "output_type": "stream",
     "text": [
      "{'entailment': 61.5, 'not_entailment': 38.5}\n"
     ]
    }
   ],
   "source": [
    "# device = torch.device(\"cuda\") if torch.cuda.is_available() else torch.device(\"cpu\")\n",
    "device=torch.device('cpu')\n",
    "\n",
    "model_name = \"MoritzLaurer/DeBERTa-v3-xsmall-mnli-fever-anli-ling-binary\"\n",
    "tokenizer = AutoTokenizer.from_pretrained(model_name)\n",
    "model = AutoModelForSequenceClassification.from_pretrained(model_name)\n",
    "\n",
    "premise = \"multiplayer before being something that could happen if you were lucky, is now a easy, more engaging and fun experience!\"\n",
    "hypothesis = \"The game is attractive because of the multiplayer pattern.\"\n",
    "\n",
    "input = tokenizer(premise, hypothesis, truncation=True, return_tensors=\"pt\")\n",
    "output = model(input[\"input_ids\"].to(device))  # device = \"cuda:0\" or \"cpu\"\n",
    "prediction = torch.softmax(output[\"logits\"][0], -1).tolist()\n",
    "label_names = [\"entailment\", \"not_entailment\"]\n",
    "prediction = {name: round(float(pred) * 100, 1) for pred, name in zip(prediction, label_names)}\n",
    "print(prediction)"
   ]
  },
  {
   "cell_type": "markdown",
   "id": "3364d4fa",
   "metadata": {},
   "source": [
    "### NDugar/ZSD-microsoft-v2xxlmnli"
   ]
  },
  {
   "cell_type": "code",
   "execution_count": 24,
   "id": "db9e657c",
   "metadata": {},
   "outputs": [
    {
     "data": {
      "application/vnd.jupyter.widget-view+json": {
       "model_id": "fa69f09935cb43d9b3846bd2e9b0e7fb",
       "version_major": 2,
       "version_minor": 0
      },
      "text/plain": [
       "Downloading:   0%|          | 0.00/52.0 [00:00<?, ?B/s]"
      ]
     },
     "metadata": {},
     "output_type": "display_data"
    },
    {
     "data": {
      "application/vnd.jupyter.widget-view+json": {
       "model_id": "be05b451dfe3407baf616f70581ad867",
       "version_major": 2,
       "version_minor": 0
      },
      "text/plain": [
       "Downloading:   0%|          | 0.00/952 [00:00<?, ?B/s]"
      ]
     },
     "metadata": {},
     "output_type": "display_data"
    },
    {
     "data": {
      "application/vnd.jupyter.widget-view+json": {
       "model_id": "651e2bd1c60c4d4ca86c633eab6b8ed5",
       "version_major": 2,
       "version_minor": 0
      },
      "text/plain": [
       "Downloading:   0%|          | 0.00/2.45M [00:00<?, ?B/s]"
      ]
     },
     "metadata": {},
     "output_type": "display_data"
    },
    {
     "name": "stderr",
     "output_type": "stream",
     "text": [
      "Special tokens have been added in the vocabulary, make sure the associated word embeddings are fine-tuned or trained.\n",
      "Special tokens have been added in the vocabulary, make sure the associated word embeddings are fine-tuned or trained.\n"
     ]
    },
    {
     "data": {
      "application/vnd.jupyter.widget-view+json": {
       "model_id": "3125b6c86db84e7b8e1205fab31782bb",
       "version_major": 2,
       "version_minor": 0
      },
      "text/plain": [
       "Downloading:   0%|          | 0.00/3.13G [00:00<?, ?B/s]"
      ]
     },
     "metadata": {},
     "output_type": "display_data"
    },
    {
     "name": "stderr",
     "output_type": "stream",
     "text": [
      "Asking to truncate to max_length but no maximum length is provided and the model has no predefined maximum length. Default to no truncation.\n"
     ]
    },
    {
     "name": "stdout",
     "output_type": "stream",
     "text": [
      "[{'sequence': 'multiplayer before being something that could happen if you were lucky, is now a easy, more engaging and fun experience!', 'labels': ['Interaction with players', 'Comparison', 'Multiplayer version', 'Self-improvement', 'Encouragement', 'New Content', 'Promotion', 'In-game setting', 'Skill', 'Optimise', 'Game Knowledge', 'Recommendation', 'Game', 'Mod', 'Reviewers Other players', 'Realism', 'Sensory Appeal', 'Game running', 'Completion', 'Returned player', 'Gameplay length', 'Save progress', 'Review', 'Conscious Awareness', 'Guide', 'Dexterity', 'Difficulty', 'Patches', 'Reaction', 'Worth issues', 'Story', 'Avatar agent', 'Non-pre-ordered', 'Curiosity', 'Launch', 'Customise', 'Discovery', 'Missions', 'Homogeneity', 'Target player', 'Developer Publisher', 'Interaction with NPC', 'Speed', 'Socio-Cultural Proximity', 'Absorption', 'Environment', 'Structuring', 'Trading mechanics', 'Devs/game types: AAA/indie', 'Advertising', 'Early access', 'Playing hours', 'Combat mechanics', 'Camera angle', 'Exploration mechanics', 'Pre-ordered', 'Survival mechanics', 'Base building', 'Graphics', 'Refund', 'Input devices', 'Computer configuration', 'Streaming YouTuber', 'UI', 'Cargo trade goods', 'Music', 'Economy (sell price)', 'Inventory management', 'Frustration', 'Bugs and Crashes', 'Single player version'], 'scores': [0.8908389806747437, 0.8886151909828186, 0.874751627445221, 0.8525113463401794, 0.809532105922699, 0.7682133913040161, 0.7344185709953308, 0.7228768467903137, 0.6341134905815125, 0.5915724635124207, 0.5762470364570618, 0.5616270899772644, 0.5136818289756775, 0.46491971611976624, 0.4340974986553192, 0.4236967861652374, 0.4179927110671997, 0.40853753685951233, 0.39468175172805786, 0.38926929235458374, 0.38897520303726196, 0.3851924538612366, 0.37985268235206604, 0.3454223573207855, 0.33028578758239746, 0.26511266827583313, 0.26443469524383545, 0.22735336422920227, 0.21898843348026276, 0.20520535111427307, 0.20199361443519592, 0.18799646198749542, 0.1862371414899826, 0.18152284622192383, 0.15782806277275085, 0.1570911705493927, 0.1568404734134674, 0.14640337228775024, 0.1447785645723343, 0.13034357130527496, 0.11196400970220566, 0.1116388812661171, 0.1082792803645134, 0.10595463216304779, 0.10378388315439224, 0.08710569143295288, 0.08211851119995117, 0.07740151882171631, 0.07390053570270538, 0.07328853011131287, 0.06701730191707611, 0.06349451839923859, 0.06154201924800873, 0.055476684123277664, 0.04905010759830475, 0.047883231192827225, 0.04546837508678436, 0.04083797335624695, 0.03964034467935562, 0.03708987310528755, 0.029137171804904938, 0.02856655977666378, 0.027277277782559395, 0.02614304982125759, 0.022459547966718674, 0.01349166501313448, 0.012533498927950859, 0.005905367899686098, 0.005848555359989405, 0.0032889568246901035, 0.0015539543237537146]}]\n"
     ]
    }
   ],
   "source": [
    "tokenizer = AutoTokenizer.from_pretrained(\"NDugar/ZSD-microsoft-v2xxlmnli\")\n",
    "model = AutoModelForSequenceClassification.from_pretrained(\"NDugar/ZSD-microsoft-v2xxlmnli\")\n",
    "classifier = pipeline('zero-shot-classification', model=model, tokenizer=tokenizer)\n",
    "labels =['Computer configuration', 'Input devices',  'In-game setting', 'Game running', 'Optimise', 'Bugs and Crashes', 'Save progress', 'Trading mechanics', 'Exploration mechanics', 'Combat mechanics', 'Survival mechanics', 'Multiplayer version','Single player version', 'Missions', 'Base building', 'Customise', 'Gameplay length','Inventory management' , 'Cargo trade goods', 'Graphics' , 'Environment', 'Music', 'Camera angle','Story', 'UI', 'Guide', 'Avatar agent', 'Game Knowledge', 'Skill', 'Difficulty','Frustration', 'Speed', 'Discovery', 'Completion', 'Structuring', 'Conscious Awareness', 'Absorption', 'Realism','Dexterity', 'Socio-Cultural Proximity', 'Encouragement', 'Curiosity', 'Self-improvement', 'Homogeneity', 'Reaction','Sensory Appeal', 'Interaction with NPC', 'Interaction with players', 'Pre-ordered', 'Non-pre-ordered', 'Returned player','Playing hours', 'Patches' , 'New Content' , 'Mod', 'Promotion', 'Advertising', 'Launch', 'Streaming YouTuber','Recommendation', 'Target player', 'Comparison', 'Developer Publisher', 'Game', 'Review', 'Reviewers Other players','Devs/game types: AAA/indie', 'Early access', 'Worth issues', 'Economy (sell price)', 'Refund']\n",
    "text=['multiplayer before being something that could happen if you were lucky, is now a easy, more engaging and fun experience!']\n",
    "\n",
    "result1 = classifier(text, labels, multi_label=True)\n",
    "print (result1)"
   ]
  },
  {
   "cell_type": "code",
   "execution_count": 25,
   "id": "37b10f14",
   "metadata": {},
   "outputs": [
    {
     "data": {
      "application/vnd.jupyter.widget-view+json": {
       "model_id": "7c4dde7dc7fc411da407c5f62c132980",
       "version_major": 2,
       "version_minor": 0
      },
      "text/plain": [
       "Downloading:   0%|          | 0.00/418 [00:00<?, ?B/s]"
      ]
     },
     "metadata": {},
     "output_type": "display_data"
    },
    {
     "data": {
      "application/vnd.jupyter.widget-view+json": {
       "model_id": "581acc15cdab4e87ad26e00d9ca6b6bb",
       "version_major": 2,
       "version_minor": 0
      },
      "text/plain": [
       "Downloading:   0%|          | 0.00/2.46M [00:00<?, ?B/s]"
      ]
     },
     "metadata": {},
     "output_type": "display_data"
    },
    {
     "data": {
      "application/vnd.jupyter.widget-view+json": {
       "model_id": "e62c72feb7e548e3a335d3ac64a97e81",
       "version_major": 2,
       "version_minor": 0
      },
      "text/plain": [
       "Downloading:   0%|          | 0.00/18.0 [00:00<?, ?B/s]"
      ]
     },
     "metadata": {},
     "output_type": "display_data"
    },
    {
     "data": {
      "application/vnd.jupyter.widget-view+json": {
       "model_id": "39a5b79948584902b7eb8a36d4c33ff0",
       "version_major": 2,
       "version_minor": 0
      },
      "text/plain": [
       "Downloading:   0%|          | 0.00/156 [00:00<?, ?B/s]"
      ]
     },
     "metadata": {},
     "output_type": "display_data"
    },
    {
     "data": {
      "application/vnd.jupyter.widget-view+json": {
       "model_id": "322ea5b1af98485582f420de26a404b2",
       "version_major": 2,
       "version_minor": 0
      },
      "text/plain": [
       "Downloading:   0%|          | 0.00/1.06k [00:00<?, ?B/s]"
      ]
     },
     "metadata": {},
     "output_type": "display_data"
    },
    {
     "data": {
      "application/vnd.jupyter.widget-view+json": {
       "model_id": "b5c271dd08694adeb467223e7df99011",
       "version_major": 2,
       "version_minor": 0
      },
      "text/plain": [
       "Downloading:   0%|          | 0.00/1.74G [00:00<?, ?B/s]"
      ]
     },
     "metadata": {},
     "output_type": "display_data"
    },
    {
     "name": "stdout",
     "output_type": "stream",
     "text": [
      "[{'sequence': 'multiplayer before being something that could happen if you were lucky, is now a easy, more engaging and fun experience!', 'labels': ['Interaction with players', 'Multiplayer version', 'Comparison', 'Review', 'New Content', 'Game', 'Recommendation', 'Computer configuration', 'Non-pre-ordered', 'Input devices', 'Early access', 'Patches', 'Mod', 'Launch', 'Reviewers Other players', 'Guide', 'Gameplay length', 'Optimise', 'Base building', 'Discovery', 'Interaction with NPC', 'Developer Publisher', 'Save progress', 'Worth issues', 'Avatar agent', 'Customise', 'Returned player', 'Pre-ordered', 'Target player', 'Combat mechanics', 'Curiosity', 'In-game setting', 'Missions', 'Game Knowledge', 'Speed', 'Devs/game types: AAA/indie', 'Reaction', 'Streaming YouTuber', 'Music', 'Bugs and Crashes', 'Survival mechanics', 'Exploration mechanics', 'Socio-Cultural Proximity', 'Self-improvement', 'Promotion', 'Encouragement', 'Game running', 'Completion', 'Playing hours', 'Skill', 'Dexterity', 'Absorption', 'Structuring', 'Sensory Appeal', 'Trading mechanics', 'Story', 'UI', 'Cargo trade goods', 'Advertising', 'Refund', 'Graphics', 'Difficulty', 'Camera angle', 'Economy (sell price)', 'Realism', 'Single player version', 'Homogeneity', 'Environment', 'Frustration', 'Conscious Awareness', 'Inventory management'], 'scores': [0.9999810457229614, 0.9999723434448242, 0.9997621774673462, 0.9976516366004944, 0.9409540295600891, 0.917229413986206, 0.9115937352180481, 0.5731697082519531, 0.5626380443572998, 0.4164115786552429, 0.3415197730064392, 0.31728172302246094, 0.27663159370422363, 0.2690940797328949, 0.2637244760990143, 0.24856172502040863, 0.23090700805187225, 0.19458989799022675, 0.18456049263477325, 0.11989542841911316, 0.11664767563343048, 0.08675435930490494, 0.08628056198358536, 0.06513707339763641, 0.06418871134519577, 0.057904038578271866, 0.057341963052749634, 0.05583273991942406, 0.04005442559719086, 0.035413358360528946, 0.033747658133506775, 0.030308227986097336, 0.022264806553721428, 0.019225817173719406, 0.01916143111884594, 0.012518911622464657, 0.0122262854129076, 0.010846161283552647, 0.007960361428558826, 0.005208830814808607, 0.003578837728127837, 0.0030188793316483498, 0.0020437187049537897, 0.001773923635482788, 0.001318829832598567, 0.000722817552741617, 0.0004248171462677419, 0.000285646237898618, 0.00020168963237665594, 0.00011880270903930068, 3.8421865610871464e-05, 3.6197710869600996e-05, 3.548547101672739e-05, 2.6591391360852867e-05, 2.310304989805445e-05, 1.9674840586958453e-05, 1.962588430615142e-05, 1.9295050151413307e-05, 1.9068111214437522e-05, 1.5777897715452127e-05, 7.042803190415725e-06, 5.635529760183999e-06, 4.966176675225142e-06, 4.959259513270808e-06, 4.738623829325661e-06, 4.5336901166592725e-06, 4.520357833825983e-06, 4.463303412194364e-06, 3.5107354960928205e-06, 2.6289428660675185e-06, 2.3640736799279694e-06]}]\n"
     ]
    }
   ],
   "source": [
    "tokenizer = AutoTokenizer.from_pretrained(\"NDugar/debertav3-mnli-snli-anli\")\n",
    "model = AutoModelForSequenceClassification.from_pretrained(\"NDugar/debertav3-mnli-snli-anli\")\n",
    "classifier = pipeline('zero-shot-classification', model=model, tokenizer=tokenizer)\n",
    "labels =['Computer configuration', 'Input devices',  'In-game setting', 'Game running', 'Optimise', 'Bugs and Crashes', 'Save progress', 'Trading mechanics', 'Exploration mechanics', 'Combat mechanics', 'Survival mechanics', 'Multiplayer version','Single player version', 'Missions', 'Base building', 'Customise', 'Gameplay length','Inventory management' , 'Cargo trade goods', 'Graphics' , 'Environment', 'Music', 'Camera angle','Story', 'UI', 'Guide', 'Avatar agent', 'Game Knowledge', 'Skill', 'Difficulty','Frustration', 'Speed', 'Discovery', 'Completion', 'Structuring', 'Conscious Awareness', 'Absorption', 'Realism','Dexterity', 'Socio-Cultural Proximity', 'Encouragement', 'Curiosity', 'Self-improvement', 'Homogeneity', 'Reaction','Sensory Appeal', 'Interaction with NPC', 'Interaction with players', 'Pre-ordered', 'Non-pre-ordered', 'Returned player','Playing hours', 'Patches' , 'New Content' , 'Mod', 'Promotion', 'Advertising', 'Launch', 'Streaming YouTuber','Recommendation', 'Target player', 'Comparison', 'Developer Publisher', 'Game', 'Review', 'Reviewers Other players','Devs/game types: AAA/indie', 'Early access', 'Worth issues', 'Economy (sell price)', 'Refund']\n",
    "text=['multiplayer before being something that could happen if you were lucky, is now a easy, more engaging and fun experience!']\n",
    "\n",
    "result1 = classifier(text, labels, multi_label=True)\n",
    "print (result1)"
   ]
  },
  {
   "cell_type": "markdown",
   "id": "8c7a0811",
   "metadata": {},
   "source": [
    "## Cross-Encoder for Natural Language Inference"
   ]
  },
  {
   "cell_type": "code",
   "execution_count": 26,
   "id": "813c21ac",
   "metadata": {},
   "outputs": [],
   "source": [
    "# pip install sentence-transformers"
   ]
  },
  {
   "cell_type": "code",
   "execution_count": 27,
   "id": "ea172996",
   "metadata": {},
   "outputs": [
    {
     "data": {
      "application/vnd.jupyter.widget-view+json": {
       "model_id": "3779459b51814581a9bf1887078605af",
       "version_major": 2,
       "version_minor": 0
      },
      "text/plain": [
       "Downloading:   0%|          | 0.00/701 [00:00<?, ?B/s]"
      ]
     },
     "metadata": {},
     "output_type": "display_data"
    },
    {
     "data": {
      "application/vnd.jupyter.widget-view+json": {
       "model_id": "e0b85af804aa42e3a9d30fa51b6d3d41",
       "version_major": 2,
       "version_minor": 0
      },
      "text/plain": [
       "Downloading:   0%|          | 0.00/329M [00:00<?, ?B/s]"
      ]
     },
     "metadata": {},
     "output_type": "display_data"
    },
    {
     "data": {
      "application/vnd.jupyter.widget-view+json": {
       "model_id": "b8d85a744a4c4730a5cfd173fadd7265",
       "version_major": 2,
       "version_minor": 0
      },
      "text/plain": [
       "Downloading:   0%|          | 0.00/25.0 [00:00<?, ?B/s]"
      ]
     },
     "metadata": {},
     "output_type": "display_data"
    },
    {
     "data": {
      "application/vnd.jupyter.widget-view+json": {
       "model_id": "973993012db74410b8c8e3e95f5e2525",
       "version_major": 2,
       "version_minor": 0
      },
      "text/plain": [
       "Downloading:   0%|          | 0.00/899k [00:00<?, ?B/s]"
      ]
     },
     "metadata": {},
     "output_type": "display_data"
    },
    {
     "data": {
      "application/vnd.jupyter.widget-view+json": {
       "model_id": "d47fe0f5e1e74ceb9af3fd0aa85c6007",
       "version_major": 2,
       "version_minor": 0
      },
      "text/plain": [
       "Downloading:   0%|          | 0.00/456k [00:00<?, ?B/s]"
      ]
     },
     "metadata": {},
     "output_type": "display_data"
    },
    {
     "data": {
      "application/vnd.jupyter.widget-view+json": {
       "model_id": "c64cf8cfcf3c4ccc9630ea42bf7e9f14",
       "version_major": 2,
       "version_minor": 0
      },
      "text/plain": [
       "Downloading:   0%|          | 0.00/772 [00:00<?, ?B/s]"
      ]
     },
     "metadata": {},
     "output_type": "display_data"
    },
    {
     "name": "stdout",
     "output_type": "stream",
     "text": [
      "{'sequence': 'multiplayer before being something that could happen if you were lucky, is now a easy, more engaging and fun experience!', 'labels': ['Multiplayer version', 'Encouragement', 'Game', 'Interaction with players', 'Non-pre-ordered', 'Comparison', 'New Content', 'Gameplay length', 'Save progress', 'Returned player', 'Single player version', 'Game running', 'Worth issues', 'Self-improvement', 'Skill', 'Interaction with NPC', 'Completion', 'Environment', 'Pre-ordered', 'Guide', 'In-game setting', 'Game Knowledge', 'Reaction', 'Review', 'Homogeneity', 'Difficulty', 'UI', 'Recommendation', 'Promotion', 'Patches', 'Missions', 'Dexterity', 'Reviewers Other players', 'Optimise', 'Discovery', 'Mod', 'Early access', 'Customise', 'Combat mechanics', 'Advertising', 'Camera angle', 'Computer configuration', 'Structuring', 'Devs/game types: AAA/indie', 'Exploration mechanics', 'Graphics', 'Story', 'Trading mechanics', 'Speed', 'Input devices', 'Survival mechanics', 'Realism', 'Music', 'Socio-Cultural Proximity', 'Playing hours', 'Absorption', 'Sensory Appeal', 'Launch', 'Streaming YouTuber', 'Developer Publisher', 'Refund', 'Target player', 'Base building', 'Conscious Awareness', 'Curiosity', 'Avatar agent', 'Inventory management', 'Frustration', 'Economy (sell price)', 'Bugs and Crashes', 'Cargo trade goods'], 'scores': [0.2054702341556549, 0.05188979208469391, 0.05087186023592949, 0.04763016104698181, 0.042003996670246124, 0.03810450807213783, 0.032467883080244064, 0.031155558302998543, 0.02785945124924183, 0.023224713280797005, 0.021842658519744873, 0.01988263614475727, 0.01680886372923851, 0.01670628786087036, 0.015350798144936562, 0.014154937118291855, 0.01328125037252903, 0.013124991208314896, 0.013119412586092949, 0.012299301102757454, 0.011892491020262241, 0.011359583586454391, 0.011028042063117027, 0.010632505640387535, 0.009875227697193623, 0.008831053972244263, 0.008091576397418976, 0.00804301630705595, 0.007937910966575146, 0.00788654200732708, 0.007518732454627752, 0.007266949396580458, 0.007027567829936743, 0.007003126200288534, 0.006896382197737694, 0.006873090285807848, 0.00664800638332963, 0.006631084252148867, 0.0065352534875273705, 0.00647354032844305, 0.006217664573341608, 0.006140801124274731, 0.005999797955155373, 0.0058394200168550014, 0.005839352961629629, 0.0056724511086940765, 0.005580012686550617, 0.005291716195642948, 0.005250583402812481, 0.005242645740509033, 0.004916219972074032, 0.004748159553855658, 0.004710798151791096, 0.004506474826484919, 0.0042162444442510605, 0.004190550651401281, 0.0039360057562589645, 0.003912146668881178, 0.0038556144572794437, 0.003665525931864977, 0.0034578891936689615, 0.0031859353184700012, 0.0029745015781372786, 0.0028530419804155827, 0.0026951665058732033, 0.002597744343802333, 0.0025879887398332357, 0.0022793232928961515, 0.0022184327244758606, 0.0019611844327300787, 0.0017556303646415472]}\n"
     ]
    }
   ],
   "source": [
    "classifier = pipeline(\"zero-shot-classification\", model='cross-encoder/nli-distilroberta-base')\n",
    "\n",
    "sent = \"multiplayer before being something that could happen if you were lucky, is now a easy, more engaging and fun experience!\"\n",
    "candidate_labels = labels\n",
    "res = classifier(sent, candidate_labels)\n",
    "print(res)"
   ]
  },
  {
   "cell_type": "code",
   "execution_count": 28,
   "id": "0983f0b1",
   "metadata": {},
   "outputs": [
    {
     "data": {
      "application/vnd.jupyter.widget-view+json": {
       "model_id": "a433af5fabc7458583b119d64a44b97a",
       "version_major": 2,
       "version_minor": 0
      },
      "text/plain": [
       "Downloading:   0%|          | 0.00/1.05k [00:00<?, ?B/s]"
      ]
     },
     "metadata": {},
     "output_type": "display_data"
    },
    {
     "data": {
      "application/vnd.jupyter.widget-view+json": {
       "model_id": "fc0afcf1223846eca8e099f306119234",
       "version_major": 2,
       "version_minor": 0
      },
      "text/plain": [
       "Downloading:   0%|          | 0.00/738M [00:00<?, ?B/s]"
      ]
     },
     "metadata": {},
     "output_type": "display_data"
    },
    {
     "data": {
      "application/vnd.jupyter.widget-view+json": {
       "model_id": "38df96e9911640d5bf6a5ac98c2bc11d",
       "version_major": 2,
       "version_minor": 0
      },
      "text/plain": [
       "Downloading:   0%|          | 0.00/417 [00:00<?, ?B/s]"
      ]
     },
     "metadata": {},
     "output_type": "display_data"
    },
    {
     "data": {
      "application/vnd.jupyter.widget-view+json": {
       "model_id": "7891271ba58548219109946a60fee147",
       "version_major": 2,
       "version_minor": 0
      },
      "text/plain": [
       "Downloading:   0%|          | 0.00/2.46M [00:00<?, ?B/s]"
      ]
     },
     "metadata": {},
     "output_type": "display_data"
    },
    {
     "data": {
      "application/vnd.jupyter.widget-view+json": {
       "model_id": "563b7750b85a41aa84c02634fc3e458a",
       "version_major": 2,
       "version_minor": 0
      },
      "text/plain": [
       "Downloading:   0%|          | 0.00/18.0 [00:00<?, ?B/s]"
      ]
     },
     "metadata": {},
     "output_type": "display_data"
    },
    {
     "data": {
      "application/vnd.jupyter.widget-view+json": {
       "model_id": "910d9afb1f2541b8aae00c825b41a14d",
       "version_major": 2,
       "version_minor": 0
      },
      "text/plain": [
       "Downloading:   0%|          | 0.00/156 [00:00<?, ?B/s]"
      ]
     },
     "metadata": {},
     "output_type": "display_data"
    },
    {
     "name": "stdout",
     "output_type": "stream",
     "text": [
      "{'sequence': 'multiplayer before being something that could happen if you were lucky, is now a easy, more engaging and fun experience!', 'labels': ['Interaction with players', 'Socio-Cultural Proximity', 'Multiplayer version', 'New Content', 'In-game setting', 'Non-pre-ordered', 'Interaction with NPC', 'Camera angle', 'Game', 'Comparison', 'Recommendation', 'Sensory Appeal', 'Homogeneity', 'Guide', 'Skill', 'Self-improvement', 'Game running', 'Survival mechanics', 'Streaming YouTuber', 'Gameplay length', 'Realism', 'Combat mechanics', 'Devs/game types: AAA/indie', 'Mod', 'Optimise', 'Reviewers Other players', 'Promotion', 'Target player', 'Difficulty', 'Returned player', 'Developer Publisher', 'Computer configuration', 'Review', 'Customise', 'Save progress', 'Worth issues', 'Launch', 'Conscious Awareness', 'Early access', 'Single player version', 'Game Knowledge', 'Completion', 'Trading mechanics', 'Environment', 'Exploration mechanics', 'UI', 'Encouragement', 'Reaction', 'Graphics', 'Base building', 'Missions', 'Cargo trade goods', 'Pre-ordered', 'Story', 'Avatar agent', 'Dexterity', 'Economy (sell price)', 'Patches', 'Speed', 'Curiosity', 'Input devices', 'Discovery', 'Bugs and Crashes', 'Absorption', 'Playing hours', 'Music', 'Frustration', 'Advertising', 'Structuring', 'Refund', 'Inventory management'], 'scores': [0.39183783531188965, 0.15061594545841217, 0.11531265079975128, 0.10542470961809158, 0.07415575534105301, 0.05435487627983093, 0.042065106332302094, 0.014090826734900475, 0.003212957177311182, 0.0030851978808641434, 0.002839578315615654, 0.0027623481582850218, 0.002633371390402317, 0.002497091656550765, 0.0023379595950245857, 0.002088522771373391, 0.0020128164906054735, 0.0018949491204693913, 0.0014992706710472703, 0.0014560818672180176, 0.0013593658804893494, 0.0012522944016382098, 0.0011918783420696855, 0.0011898467782884836, 0.0011386420810595155, 0.0011383533710613847, 0.0010130235459655523, 0.0009496246348135173, 0.0007111501763574779, 0.0006943420739844441, 0.0006628874107263982, 0.0005987035110592842, 0.0005891416221857071, 0.000584193563554436, 0.0005556042888201773, 0.0005520516424439847, 0.0005321583012118936, 0.0005224267952144146, 0.0004587776493281126, 0.00043446256313472986, 0.00042576968553476036, 0.0004221339477226138, 0.00041040725773200393, 0.00039905193261802197, 0.0003826594911515713, 0.0003815265081357211, 0.00036868700408376753, 0.0003505581116769463, 0.0003249300643801689, 0.00031755483360029757, 0.00031533464789390564, 0.00030627785599790514, 0.00026851307484321296, 0.0002655656717251986, 0.000259477092185989, 0.00022294503287412226, 0.00022136002371553332, 0.00020238800789229572, 0.00020027272694278508, 0.00019832185353152454, 0.00019270728807896376, 0.00018149435345549136, 0.0001408856041962281, 0.00014024482516106218, 0.00013158255023881793, 0.000126545739476569, 0.00012622142094187438, 0.00012513577530626208, 0.0001203696956508793, 9.09895243239589e-05, 7.34391069272533e-05]}\n"
     ]
    }
   ],
   "source": [
    "classifier = pipeline(\"zero-shot-classification\", model='cross-encoder/nli-deberta-v3-base')\n",
    "\n",
    "sent = \"multiplayer before being something that could happen if you were lucky, is now a easy, more engaging and fun experience!\"\n",
    "candidate_labels = labels\n",
    "res = classifier(sent, candidate_labels)\n",
    "print(res)"
   ]
  },
  {
   "cell_type": "code",
   "execution_count": 29,
   "id": "ae966fa4",
   "metadata": {},
   "outputs": [
    {
     "data": {
      "application/vnd.jupyter.widget-view+json": {
       "model_id": "21e050fba606462b8f647445fa8f6152",
       "version_major": 2,
       "version_minor": 0
      },
      "text/plain": [
       "Downloading:   0%|          | 0.00/702 [00:00<?, ?B/s]"
      ]
     },
     "metadata": {},
     "output_type": "display_data"
    },
    {
     "data": {
      "application/vnd.jupyter.widget-view+json": {
       "model_id": "a0b6625e6c104ef9b91530483d6dca3e",
       "version_major": 2,
       "version_minor": 0
      },
      "text/plain": [
       "Downloading:   0%|          | 0.00/499M [00:00<?, ?B/s]"
      ]
     },
     "metadata": {},
     "output_type": "display_data"
    },
    {
     "data": {
      "application/vnd.jupyter.widget-view+json": {
       "model_id": "63a7bba2a1dc4f2e95fd10005ae227e5",
       "version_major": 2,
       "version_minor": 0
      },
      "text/plain": [
       "Downloading:   0%|          | 0.00/25.0 [00:00<?, ?B/s]"
      ]
     },
     "metadata": {},
     "output_type": "display_data"
    },
    {
     "data": {
      "application/vnd.jupyter.widget-view+json": {
       "model_id": "c4a83aaa9b3444ca8ee2ec4554a6b214",
       "version_major": 2,
       "version_minor": 0
      },
      "text/plain": [
       "Downloading:   0%|          | 0.00/899k [00:00<?, ?B/s]"
      ]
     },
     "metadata": {},
     "output_type": "display_data"
    },
    {
     "data": {
      "application/vnd.jupyter.widget-view+json": {
       "model_id": "5b04c8e981d94c06b5733835074610e9",
       "version_major": 2,
       "version_minor": 0
      },
      "text/plain": [
       "Downloading:   0%|          | 0.00/456k [00:00<?, ?B/s]"
      ]
     },
     "metadata": {},
     "output_type": "display_data"
    },
    {
     "data": {
      "application/vnd.jupyter.widget-view+json": {
       "model_id": "e6f880346a084014a5a5aeb3aa4cae4d",
       "version_major": 2,
       "version_minor": 0
      },
      "text/plain": [
       "Downloading:   0%|          | 0.00/772 [00:00<?, ?B/s]"
      ]
     },
     "metadata": {},
     "output_type": "display_data"
    },
    {
     "name": "stdout",
     "output_type": "stream",
     "text": [
      "{'sequence': 'multiplayer before being something that could happen if you were lucky, is now a easy, more engaging and fun experience!', 'labels': ['Multiplayer version', 'Game', 'Interaction with players', 'Gameplay length', 'New Content', 'Non-pre-ordered', 'Mod', 'Comparison', 'Single player version', 'In-game setting', 'Encouragement', 'Game running', 'UI', 'Returned player', 'Recommendation', 'Camera angle', 'Reaction', 'Playing hours', 'Advertising', 'Customise', 'Save progress', 'Graphics', 'Input devices', 'Early access', 'Pre-ordered', 'Environment', 'Promotion', 'Self-improvement', 'Skill', 'Review', 'Computer configuration', 'Missions', 'Reviewers Other players', 'Realism', 'Story', 'Completion', 'Guide', 'Launch', 'Trading mechanics', 'Difficulty', 'Game Knowledge', 'Optimise', 'Structuring', 'Dexterity', 'Interaction with NPC', 'Speed', 'Worth issues', 'Music', 'Exploration mechanics', 'Devs/game types: AAA/indie', 'Absorption', 'Combat mechanics', 'Developer Publisher', 'Survival mechanics', 'Homogeneity', 'Sensory Appeal', 'Socio-Cultural Proximity', 'Streaming YouTuber', 'Refund', 'Inventory management', 'Base building', 'Conscious Awareness', 'Discovery', 'Economy (sell price)', 'Cargo trade goods', 'Target player', 'Patches', 'Avatar agent', 'Curiosity', 'Frustration', 'Bugs and Crashes'], 'scores': [0.18183709681034088, 0.0412263460457325, 0.037065982818603516, 0.032822925597429276, 0.03083464875817299, 0.027877680957317352, 0.027699587866663933, 0.026591546833515167, 0.024196254089474678, 0.022518428042531013, 0.019514601677656174, 0.018744109198451042, 0.01751013658940792, 0.01733371987938881, 0.016938786953687668, 0.015596788376569748, 0.014439454302191734, 0.014049899764358997, 0.01327825989574194, 0.013107082806527615, 0.013019484467804432, 0.011856219731271267, 0.011788787320256233, 0.011643544770777225, 0.011558987200260162, 0.011258156970143318, 0.010627564042806625, 0.010522137396037579, 0.010479992255568504, 0.009780419059097767, 0.009709108620882034, 0.00954168289899826, 0.009317126125097275, 0.009272584691643715, 0.009029947221279144, 0.008997272700071335, 0.008937643840909004, 0.008670412003993988, 0.008494987152516842, 0.008449218235909939, 0.008130062371492386, 0.00811744574457407, 0.008080525323748589, 0.007764534559100866, 0.00761309452354908, 0.007154417224228382, 0.006999055854976177, 0.006897570565342903, 0.006715092342346907, 0.006470185704529285, 0.006465937476605177, 0.006341323722153902, 0.00615574000403285, 0.0059322514571249485, 0.0057670907117426395, 0.005639673210680485, 0.005628237035125494, 0.005596697796136141, 0.005518520716577768, 0.0052356724627316, 0.005198092199862003, 0.005138066131621599, 0.005092700943350792, 0.005059451330453157, 0.004950364585965872, 0.004680193495005369, 0.004556674975901842, 0.0044501121155917645, 0.004306409042328596, 0.004278828389942646, 0.003927328623831272]}\n"
     ]
    }
   ],
   "source": [
    "classifier = pipeline(\"zero-shot-classification\", model='cross-encoder/nli-roberta-base')\n",
    "\n",
    "sent = \"multiplayer before being something that could happen if you were lucky, is now a easy, more engaging and fun experience!\"\n",
    "candidate_labels = labels\n",
    "res = classifier(sent, candidate_labels)\n",
    "print(res)"
   ]
  },
  {
   "cell_type": "code",
   "execution_count": 30,
   "id": "7e69c57c",
   "metadata": {},
   "outputs": [
    {
     "data": {
      "application/vnd.jupyter.widget-view+json": {
       "model_id": "0766b715dc0b487e9402a84c3f375e18",
       "version_major": 2,
       "version_minor": 0
      },
      "text/plain": [
       "Downloading:   0%|          | 0.00/1.05k [00:00<?, ?B/s]"
      ]
     },
     "metadata": {},
     "output_type": "display_data"
    },
    {
     "data": {
      "application/vnd.jupyter.widget-view+json": {
       "model_id": "ded6d147526a4686ace59f247671c756",
       "version_major": 2,
       "version_minor": 0
      },
      "text/plain": [
       "Downloading:   0%|          | 0.00/283M [00:00<?, ?B/s]"
      ]
     },
     "metadata": {},
     "output_type": "display_data"
    },
    {
     "data": {
      "application/vnd.jupyter.widget-view+json": {
       "model_id": "52e2754d14c441589a5c70cbc9e4b6f5",
       "version_major": 2,
       "version_minor": 0
      },
      "text/plain": [
       "Downloading:   0%|          | 0.00/419 [00:00<?, ?B/s]"
      ]
     },
     "metadata": {},
     "output_type": "display_data"
    },
    {
     "data": {
      "application/vnd.jupyter.widget-view+json": {
       "model_id": "f1dd0a74b6ab4e518a2f41ba3cc7206e",
       "version_major": 2,
       "version_minor": 0
      },
      "text/plain": [
       "Downloading:   0%|          | 0.00/2.46M [00:00<?, ?B/s]"
      ]
     },
     "metadata": {},
     "output_type": "display_data"
    },
    {
     "data": {
      "application/vnd.jupyter.widget-view+json": {
       "model_id": "60b4fc76b4ca4b6f8bbfdfa4fd763078",
       "version_major": 2,
       "version_minor": 0
      },
      "text/plain": [
       "Downloading:   0%|          | 0.00/18.0 [00:00<?, ?B/s]"
      ]
     },
     "metadata": {},
     "output_type": "display_data"
    },
    {
     "data": {
      "application/vnd.jupyter.widget-view+json": {
       "model_id": "909c7d7964e7431f949feacd21961c34",
       "version_major": 2,
       "version_minor": 0
      },
      "text/plain": [
       "Downloading:   0%|          | 0.00/156 [00:00<?, ?B/s]"
      ]
     },
     "metadata": {},
     "output_type": "display_data"
    },
    {
     "name": "stdout",
     "output_type": "stream",
     "text": [
      "{'sequence': 'multiplayer before being something that could happen if you were lucky, is now a easy, more engaging and fun experience!', 'labels': ['Interaction with players', 'New Content', 'Game running', 'Multiplayer version', 'In-game setting', 'Homogeneity', 'Game', 'Recommendation', 'Reviewers Other players', 'Interaction with NPC', 'Worth issues', 'Game Knowledge', 'Self-improvement', 'Curiosity', 'Pre-ordered', 'Save progress', 'Sensory Appeal', 'Non-pre-ordered', 'Single player version', 'Combat mechanics', 'Optimise', 'Returned player', 'Computer configuration', 'Streaming YouTuber', 'Completion', 'Speed', 'Socio-Cultural Proximity', 'Target player', 'Playing hours', 'Devs/game types: AAA/indie', 'Customise', 'Guide', 'Gameplay length', 'Difficulty', 'Encouragement', 'Missions', 'Input devices', 'Comparison', 'Environment', 'Early access', 'Exploration mechanics', 'Launch', 'Camera angle', 'Mod', 'Developer Publisher', 'Survival mechanics', 'Promotion', 'Trading mechanics', 'Skill', 'Review', 'Structuring', 'Discovery', 'Reaction', 'Base building', 'Story', 'Dexterity', 'Absorption', 'Cargo trade goods', 'Conscious Awareness', 'Patches', 'Realism', 'Avatar agent', 'Music', 'Advertising', 'Bugs and Crashes', 'Graphics', 'Economy (sell price)', 'Refund', 'UI', 'Inventory management', 'Frustration'], 'scores': [0.5711462497711182, 0.06757203489542007, 0.05814110115170479, 0.04310454800724983, 0.03300272300839424, 0.011861763894557953, 0.010487000457942486, 0.008946860209107399, 0.008325734175741673, 0.006838331464678049, 0.006348027382045984, 0.005954206455498934, 0.005865565966814756, 0.0055999127216637135, 0.005515994504094124, 0.00511050783097744, 0.004952122922986746, 0.004767409060150385, 0.003925559110939503, 0.003876680741086602, 0.00366982351988554, 0.0036565307527780533, 0.0034704969730228186, 0.00341962743550539, 0.0034158602356910706, 0.0032535986974835396, 0.0032327650114893913, 0.003216393291950226, 0.0032110996544361115, 0.003201186889782548, 0.00315942894667387, 0.003124546492472291, 0.0031114814337342978, 0.0031004073098301888, 0.0030660885386168957, 0.003020509844645858, 0.0029928034637123346, 0.0028800617437809706, 0.0028709336183965206, 0.0028654285706579685, 0.0028002012986689806, 0.0027323178946971893, 0.002705716760829091, 0.002581116044893861, 0.002571412594988942, 0.0025697213131934404, 0.0025507095269858837, 0.002429234329611063, 0.0024290899746119976, 0.002378817880526185, 0.0023450409062206745, 0.002282863948494196, 0.0022386417258530855, 0.002229979494586587, 0.002218423178419471, 0.002202974632382393, 0.002097972435876727, 0.0020628198981285095, 0.002041798084974289, 0.0020120316185057163, 0.0018675605533644557, 0.0018005571328103542, 0.0017400786746293306, 0.0017270167591050267, 0.0015878016129136086, 0.001546318642795086, 0.0014930855249986053, 0.0014341752976179123, 0.001400552922859788, 0.0013804018963128328, 0.001260190038010478]}\n"
     ]
    }
   ],
   "source": [
    "classifier = pipeline(\"zero-shot-classification\", model='cross-encoder/nli-deberta-v3-xsmall')\n",
    "\n",
    "sent = \"multiplayer before being something that could happen if you were lucky, is now a easy, more engaging and fun experience!\"\n",
    "candidate_labels = labels\n",
    "res = classifier(sent, candidate_labels)\n",
    "print(res)"
   ]
  },
  {
   "cell_type": "code",
   "execution_count": 31,
   "id": "caf4bb87",
   "metadata": {},
   "outputs": [
    {
     "data": {
      "application/vnd.jupyter.widget-view+json": {
       "model_id": "0e6caaed3a7b46cab34a9c586f086c75",
       "version_major": 2,
       "version_minor": 0
      },
      "text/plain": [
       "Downloading:   0%|          | 0.00/875 [00:00<?, ?B/s]"
      ]
     },
     "metadata": {},
     "output_type": "display_data"
    },
    {
     "data": {
      "application/vnd.jupyter.widget-view+json": {
       "model_id": "aaa0bdb4236e460aac2b88573a3d2922",
       "version_major": 2,
       "version_minor": 0
      },
      "text/plain": [
       "Downloading:   0%|          | 0.00/329M [00:00<?, ?B/s]"
      ]
     },
     "metadata": {},
     "output_type": "display_data"
    },
    {
     "data": {
      "application/vnd.jupyter.widget-view+json": {
       "model_id": "6317b0949356471fb872a8e020d5b203",
       "version_major": 2,
       "version_minor": 0
      },
      "text/plain": [
       "Downloading:   0%|          | 0.00/330 [00:00<?, ?B/s]"
      ]
     },
     "metadata": {},
     "output_type": "display_data"
    },
    {
     "data": {
      "application/vnd.jupyter.widget-view+json": {
       "model_id": "b4cb0095a1914ab5bb93e9ee07bb9a19",
       "version_major": 2,
       "version_minor": 0
      },
      "text/plain": [
       "Downloading:   0%|          | 0.00/798k [00:00<?, ?B/s]"
      ]
     },
     "metadata": {},
     "output_type": "display_data"
    },
    {
     "data": {
      "application/vnd.jupyter.widget-view+json": {
       "model_id": "490cb19761544742adbfe9cbec24264d",
       "version_major": 2,
       "version_minor": 0
      },
      "text/plain": [
       "Downloading:   0%|          | 0.00/456k [00:00<?, ?B/s]"
      ]
     },
     "metadata": {},
     "output_type": "display_data"
    },
    {
     "data": {
      "application/vnd.jupyter.widget-view+json": {
       "model_id": "faa6a007371e41c2b8a6f781623e0c37",
       "version_major": 2,
       "version_minor": 0
      },
      "text/plain": [
       "Downloading:   0%|          | 0.00/1.36M [00:00<?, ?B/s]"
      ]
     },
     "metadata": {},
     "output_type": "display_data"
    },
    {
     "data": {
      "application/vnd.jupyter.widget-view+json": {
       "model_id": "097fb7e7f82c445aaef1a8f5459dbbee",
       "version_major": 2,
       "version_minor": 0
      },
      "text/plain": [
       "Downloading:   0%|          | 0.00/239 [00:00<?, ?B/s]"
      ]
     },
     "metadata": {},
     "output_type": "display_data"
    },
    {
     "name": "stdout",
     "output_type": "stream",
     "text": [
      "{'sequence': 'multiplayer before being something that could happen if you were lucky, is now a easy, more engaging and fun experience!', 'labels': ['Multiplayer version', 'Interaction with players', 'New Content', 'Encouragement', 'Gameplay length', 'Non-pre-ordered', 'In-game setting', 'Save progress', 'Input devices', 'Customise', 'Recommendation', 'Game', 'Comparison', 'Reviewers Other players', 'Early access', 'Skill', 'Returned player', 'Optimise', 'Game Knowledge', 'Game running', 'Devs/game types: AAA/indie', 'Mod', 'Single player version', 'Worth issues', 'Interaction with NPC', 'Structuring', 'UI', 'Self-improvement', 'Survival mechanics', 'Promotion', 'Pre-ordered', 'Completion', 'Realism', 'Graphics', 'Dexterity', 'Conscious Awareness', 'Camera angle', 'Guide', 'Review', 'Absorption', 'Combat mechanics', 'Trading mechanics', 'Reaction', 'Story', 'Playing hours', 'Launch', 'Speed', 'Missions', 'Computer configuration', 'Exploration mechanics', 'Sensory Appeal', 'Difficulty', 'Homogeneity', 'Music', 'Socio-Cultural Proximity', 'Patches', 'Target player', 'Avatar agent', 'Environment', 'Discovery', 'Developer Publisher', 'Refund', 'Curiosity', 'Base building', 'Streaming YouTuber', 'Advertising', 'Bugs and Crashes', 'Cargo trade goods', 'Frustration', 'Inventory management', 'Economy (sell price)'], 'scores': [0.5182651877403259, 0.06786014139652252, 0.021701304242014885, 0.01574154756963253, 0.015131606720387936, 0.013933360576629639, 0.012590711936354637, 0.011850101873278618, 0.011623750440776348, 0.011320657096803188, 0.01129983551800251, 0.010973010212182999, 0.010031787678599358, 0.008840466849505901, 0.008671356365084648, 0.008515769615769386, 0.0083240931853652, 0.008234696462750435, 0.008189014159142971, 0.007759226951748133, 0.0073164235800504684, 0.007309227250516415, 0.007070830091834068, 0.006920154672116041, 0.006842614617198706, 0.006704505067318678, 0.006358432117849588, 0.006278523709625006, 0.0061880601570010185, 0.005746473558247089, 0.005733115132898092, 0.005654956214129925, 0.005525423213839531, 0.005503018386662006, 0.005159271880984306, 0.004717771429568529, 0.004712386056780815, 0.004667111672461033, 0.004388449713587761, 0.004327933769673109, 0.00419748667627573, 0.004026500973850489, 0.003880038857460022, 0.003856559516862035, 0.003802650375291705, 0.0037321425043046474, 0.0036860289983451366, 0.003660763381049037, 0.0034260577522218227, 0.003299435367807746, 0.0032938707154244184, 0.0032024497631937265, 0.003119776723906398, 0.0030870570335537195, 0.0030506751500070095, 0.0030331031884998083, 0.0029881084337830544, 0.0029119409155100584, 0.0027137133292853832, 0.0026185105089098215, 0.002617176156491041, 0.0025977741461247206, 0.002548730233684182, 0.0025183004327118397, 0.0023249206133186817, 0.002286751987412572, 0.0022546863183379173, 0.00224371999502182, 0.0019640964455902576, 0.0016030011465772986, 0.0014717468293383718]}\n"
     ]
    }
   ],
   "source": [
    "classifier = pipeline(\"zero-shot-classification\", model='cross-encoder/nli-MiniLM2-L6-H768')\n",
    "\n",
    "sent = \"multiplayer before being something that could happen if you were lucky, is now a easy, more engaging and fun experience!\"\n",
    "candidate_labels = labels\n",
    "res = classifier(sent, candidate_labels)\n",
    "print(res)"
   ]
  },
  {
   "cell_type": "markdown",
   "id": "86c2f3aa",
   "metadata": {},
   "source": [
    "## DeBERTa-v3-large-mnli-fever-anli-ling-wanli"
   ]
  },
  {
   "cell_type": "code",
   "execution_count": 32,
   "id": "68345953",
   "metadata": {},
   "outputs": [
    {
     "data": {
      "application/vnd.jupyter.widget-view+json": {
       "model_id": "4e5aef9bbee24fd7b55044ec09fb52c1",
       "version_major": 2,
       "version_minor": 0
      },
      "text/plain": [
       "Downloading:   0%|          | 0.00/1.06k [00:00<?, ?B/s]"
      ]
     },
     "metadata": {},
     "output_type": "display_data"
    },
    {
     "data": {
      "application/vnd.jupyter.widget-view+json": {
       "model_id": "3284c1097a6845e0810cc12525fcda04",
       "version_major": 2,
       "version_minor": 0
      },
      "text/plain": [
       "Downloading:   0%|          | 0.00/870M [00:00<?, ?B/s]"
      ]
     },
     "metadata": {},
     "output_type": "display_data"
    },
    {
     "data": {
      "application/vnd.jupyter.widget-view+json": {
       "model_id": "d350103224254c0ca6ea2631595e2645",
       "version_major": 2,
       "version_minor": 0
      },
      "text/plain": [
       "Downloading:   0%|          | 0.00/395 [00:00<?, ?B/s]"
      ]
     },
     "metadata": {},
     "output_type": "display_data"
    },
    {
     "data": {
      "application/vnd.jupyter.widget-view+json": {
       "model_id": "4a9e2e32def946d5b375d451565ed5b4",
       "version_major": 2,
       "version_minor": 0
      },
      "text/plain": [
       "Downloading:   0%|          | 0.00/2.46M [00:00<?, ?B/s]"
      ]
     },
     "metadata": {},
     "output_type": "display_data"
    },
    {
     "data": {
      "application/vnd.jupyter.widget-view+json": {
       "model_id": "719f2f8da40f4faa906f7da156cadc7d",
       "version_major": 2,
       "version_minor": 0
      },
      "text/plain": [
       "Downloading:   0%|          | 0.00/8.65M [00:00<?, ?B/s]"
      ]
     },
     "metadata": {},
     "output_type": "display_data"
    },
    {
     "data": {
      "application/vnd.jupyter.widget-view+json": {
       "model_id": "7abc20ef6cbd43bd86287cc344af261b",
       "version_major": 2,
       "version_minor": 0
      },
      "text/plain": [
       "Downloading:   0%|          | 0.00/18.0 [00:00<?, ?B/s]"
      ]
     },
     "metadata": {},
     "output_type": "display_data"
    },
    {
     "data": {
      "application/vnd.jupyter.widget-view+json": {
       "model_id": "4409b4c8cf904e3da04c6c8c600b5131",
       "version_major": 2,
       "version_minor": 0
      },
      "text/plain": [
       "Downloading:   0%|          | 0.00/156 [00:00<?, ?B/s]"
      ]
     },
     "metadata": {},
     "output_type": "display_data"
    },
    {
     "name": "stdout",
     "output_type": "stream",
     "text": [
      "{'sequence': 'multiplayer before being something that could happen if you were lucky, is now a easy, more engaging and fun experience!', 'labels': ['Interaction with players', 'Multiplayer version', 'Recommendation', 'New Content', 'Self-improvement', 'Difficulty', 'In-game setting', 'Encouragement', 'Reviewers Other players', 'Game', 'Computer configuration', 'Advertising', 'Game running', 'Non-pre-ordered', 'Comparison', 'Worth issues', 'Completion', 'Review', 'Promotion', 'Input devices', 'Gameplay length', 'Combat mechanics', 'UI', 'Frustration', 'Missions', 'Realism', 'Cargo trade goods', 'Playing hours', 'Environment', 'Base building', 'Returned player', 'Save progress', 'Curiosity', 'Launch', 'Target player', 'Guide', 'Pre-ordered', 'Dexterity', 'Skill', 'Developer Publisher', 'Patches', 'Economy (sell price)', 'Avatar agent', 'Trading mechanics', 'Interaction with NPC', 'Devs/game types: AAA/indie', 'Single player version', 'Exploration mechanics', 'Camera angle', 'Discovery', 'Optimise', 'Sensory Appeal', 'Graphics', 'Customise', 'Inventory management', 'Streaming YouTuber', 'Story', 'Survival mechanics', 'Early access', 'Speed', 'Refund', 'Mod', 'Reaction', 'Structuring', 'Absorption', 'Game Knowledge', 'Socio-Cultural Proximity', 'Music', 'Conscious Awareness', 'Bugs and Crashes', 'Homogeneity'], 'scores': [0.7714301347732544, 0.05105593428015709, 0.050813592970371246, 0.007984821684658527, 0.006377378012984991, 0.005860266275703907, 0.004684769082814455, 0.0035520608071237803, 0.003448178991675377, 0.00313369557261467, 0.003123669419437647, 0.0031140767969191074, 0.0029459521174430847, 0.002900448627769947, 0.0027105568442493677, 0.0026932349428534508, 0.002499440684914589, 0.0024816927034407854, 0.0019001925829797983, 0.001723965397104621, 0.001692206715233624, 0.0016776625998318195, 0.0016746048349887133, 0.001673456165008247, 0.0016499086050316691, 0.0016326495679095387, 0.0015749747399240732, 0.0015695546753704548, 0.0015628947876393795, 0.0015354501083493233, 0.001460612053051591, 0.0014511244371533394, 0.0014490850735455751, 0.0014225502964109182, 0.0014155361568555236, 0.0013873743591830134, 0.001372538274154067, 0.0013603110564872622, 0.0013514275196939707, 0.0013410195242613554, 0.0013405779609456658, 0.0013387483777478337, 0.0013322219019755721, 0.0013193971244618297, 0.0013158752117305994, 0.0013140036026015878, 0.001307677011936903, 0.0012956693535670638, 0.0012868073536083102, 0.0012520180316641927, 0.001239912468008697, 0.001213008421473205, 0.0011990537168458104, 0.0011565322056412697, 0.0011471448233351111, 0.0011308741522952914, 0.0011204772163182497, 0.0011201918823644519, 0.0011183938477188349, 0.0011164814932271838, 0.0011019244557246566, 0.0010921325301751494, 0.0010909666307270527, 0.0010878785979002714, 0.0010812390828505158, 0.001001537311822176, 0.0009489933145232499, 0.0009476956911385059, 0.0007827949593774974, 0.0007556147174909711, 0.0007551838061772287]}\n"
     ]
    }
   ],
   "source": [
    "classifier = pipeline(\"zero-shot-classification\", model=\"MoritzLaurer/DeBERTa-v3-large-mnli-fever-anli-ling-wanli\")\n",
    "sequence_to_classify = \"multiplayer before being something that could happen if you were lucky, is now a easy, more engaging and fun experience!\"\n",
    "candidate_labels = labels\n",
    "output = classifier(sequence_to_classify, candidate_labels, multi_label=False)\n",
    "print(output)"
   ]
  },
  {
   "cell_type": "markdown",
   "id": "6fa25d26",
   "metadata": {},
   "source": [
    "## BartForSequenceClassification"
   ]
  },
  {
   "cell_type": "markdown",
   "id": "15e70359",
   "metadata": {},
   "source": [
    "### joeddav/bart-lage-mnli-yahoo-answers"
   ]
  },
  {
   "cell_type": "code",
   "execution_count": 33,
   "id": "28e67235",
   "metadata": {},
   "outputs": [
    {
     "data": {
      "application/vnd.jupyter.widget-view+json": {
       "model_id": "125b0b3116a642bd850c86677d2bcdb7",
       "version_major": 2,
       "version_minor": 0
      },
      "text/plain": [
       "Downloading:   0%|          | 0.00/1.09k [00:00<?, ?B/s]"
      ]
     },
     "metadata": {},
     "output_type": "display_data"
    },
    {
     "data": {
      "application/vnd.jupyter.widget-view+json": {
       "model_id": "4e6c9fac3a204def80d3cb1c779458e7",
       "version_major": 2,
       "version_minor": 0
      },
      "text/plain": [
       "Downloading:   0%|          | 0.00/1.63G [00:00<?, ?B/s]"
      ]
     },
     "metadata": {},
     "output_type": "display_data"
    },
    {
     "data": {
      "application/vnd.jupyter.widget-view+json": {
       "model_id": "9992a76fb6d54c5cafeb1b5520271746",
       "version_major": 2,
       "version_minor": 0
      },
      "text/plain": [
       "Downloading:   0%|          | 0.00/26.0 [00:00<?, ?B/s]"
      ]
     },
     "metadata": {},
     "output_type": "display_data"
    },
    {
     "data": {
      "application/vnd.jupyter.widget-view+json": {
       "model_id": "7ddddabb130047a381349d240b80f7d8",
       "version_major": 2,
       "version_minor": 0
      },
      "text/plain": [
       "Downloading:   0%|          | 0.00/899k [00:00<?, ?B/s]"
      ]
     },
     "metadata": {},
     "output_type": "display_data"
    },
    {
     "data": {
      "application/vnd.jupyter.widget-view+json": {
       "model_id": "2436e8bb8fa5435ab31fc52d790f92b8",
       "version_major": 2,
       "version_minor": 0
      },
      "text/plain": [
       "Downloading:   0%|          | 0.00/456k [00:00<?, ?B/s]"
      ]
     },
     "metadata": {},
     "output_type": "display_data"
    },
    {
     "data": {
      "application/vnd.jupyter.widget-view+json": {
       "model_id": "cf25e818c9a842e1bbb784093bb80013",
       "version_major": 2,
       "version_minor": 0
      },
      "text/plain": [
       "Downloading:   0%|          | 0.00/150 [00:00<?, ?B/s]"
      ]
     },
     "metadata": {},
     "output_type": "display_data"
    },
    {
     "name": "stderr",
     "output_type": "stream",
     "text": [
      "The `multi_class` argument has been deprecated and renamed to `multi_label`. `multi_class` will be removed in a future version of Transformers.\n"
     ]
    },
    {
     "data": {
      "text/plain": [
       "{'sequence': 'multiplayer before being something that could happen if you were lucky, is now a easy, more engaging and fun experience!',\n",
       " 'labels': ['Multiplayer version',\n",
       "  'In-game setting',\n",
       "  'Game',\n",
       "  'Game running',\n",
       "  'Mod',\n",
       "  'Devs/game types: AAA/indie',\n",
       "  'Game Knowledge',\n",
       "  'Interaction with players',\n",
       "  'Developer Publisher',\n",
       "  'Computer configuration',\n",
       "  'New Content',\n",
       "  'Graphics',\n",
       "  'Skill',\n",
       "  'Interaction with NPC',\n",
       "  'Completion',\n",
       "  'Difficulty',\n",
       "  'Gameplay length',\n",
       "  'UI',\n",
       "  'Combat mechanics',\n",
       "  'Input devices',\n",
       "  'Patches',\n",
       "  'Single player version',\n",
       "  'Exploration mechanics',\n",
       "  'Launch',\n",
       "  'Missions',\n",
       "  'Streaming YouTuber',\n",
       "  'Customise',\n",
       "  'Trading mechanics',\n",
       "  'Survival mechanics',\n",
       "  'Reviewers Other players',\n",
       "  'Structuring',\n",
       "  'Optimise',\n",
       "  'Save progress',\n",
       "  'Comparison',\n",
       "  'Early access',\n",
       "  'Playing hours',\n",
       "  'Environment',\n",
       "  'Discovery',\n",
       "  'Returned player',\n",
       "  'Story',\n",
       "  'Bugs and Crashes',\n",
       "  'Speed',\n",
       "  'Review',\n",
       "  'Base building',\n",
       "  'Non-pre-ordered',\n",
       "  'Guide',\n",
       "  'Target player',\n",
       "  'Encouragement',\n",
       "  'Worth issues',\n",
       "  'Recommendation',\n",
       "  'Dexterity',\n",
       "  'Inventory management',\n",
       "  'Promotion',\n",
       "  'Pre-ordered',\n",
       "  'Economy (sell price)',\n",
       "  'Avatar agent',\n",
       "  'Realism',\n",
       "  'Curiosity',\n",
       "  'Self-improvement',\n",
       "  'Advertising',\n",
       "  'Reaction',\n",
       "  'Refund',\n",
       "  'Frustration',\n",
       "  'Music',\n",
       "  'Homogeneity',\n",
       "  'Camera angle',\n",
       "  'Cargo trade goods',\n",
       "  'Socio-Cultural Proximity',\n",
       "  'Conscious Awareness',\n",
       "  'Sensory Appeal',\n",
       "  'Absorption'],\n",
       " 'scores': [0.9693971872329712,\n",
       "  0.9692147374153137,\n",
       "  0.9607796669006348,\n",
       "  0.951712965965271,\n",
       "  0.9143718481063843,\n",
       "  0.9051253199577332,\n",
       "  0.9033742547035217,\n",
       "  0.8964990377426147,\n",
       "  0.8929328918457031,\n",
       "  0.89115971326828,\n",
       "  0.8027219772338867,\n",
       "  0.7882888913154602,\n",
       "  0.7869369983673096,\n",
       "  0.7637383937835693,\n",
       "  0.7527638673782349,\n",
       "  0.7169944643974304,\n",
       "  0.7104939818382263,\n",
       "  0.6876258254051208,\n",
       "  0.6761999726295471,\n",
       "  0.6704906821250916,\n",
       "  0.6583847403526306,\n",
       "  0.6409042477607727,\n",
       "  0.6352426409721375,\n",
       "  0.6343740224838257,\n",
       "  0.6275131106376648,\n",
       "  0.6262460947036743,\n",
       "  0.6261228919029236,\n",
       "  0.5956112146377563,\n",
       "  0.5835986137390137,\n",
       "  0.5828341841697693,\n",
       "  0.5802242159843445,\n",
       "  0.5615170001983643,\n",
       "  0.5584797859191895,\n",
       "  0.5425695776939392,\n",
       "  0.5348063111305237,\n",
       "  0.5220291018486023,\n",
       "  0.5136943459510803,\n",
       "  0.5017563104629517,\n",
       "  0.4989752769470215,\n",
       "  0.476106196641922,\n",
       "  0.4686954617500305,\n",
       "  0.4673694670200348,\n",
       "  0.4650053381919861,\n",
       "  0.4513370096683502,\n",
       "  0.4397543668746948,\n",
       "  0.43547242879867554,\n",
       "  0.4268365502357483,\n",
       "  0.42389822006225586,\n",
       "  0.3940514326095581,\n",
       "  0.38622623682022095,\n",
       "  0.3695565462112427,\n",
       "  0.35358089208602905,\n",
       "  0.34030166268348694,\n",
       "  0.3171830475330353,\n",
       "  0.3048543632030487,\n",
       "  0.30020496249198914,\n",
       "  0.2911895513534546,\n",
       "  0.27358806133270264,\n",
       "  0.2668198347091675,\n",
       "  0.2665504217147827,\n",
       "  0.24008241295814514,\n",
       "  0.2256172150373459,\n",
       "  0.2251005917787552,\n",
       "  0.1961262822151184,\n",
       "  0.19358137249946594,\n",
       "  0.191509410738945,\n",
       "  0.18454590439796448,\n",
       "  0.1718081533908844,\n",
       "  0.12404578179121017,\n",
       "  0.10596892237663269,\n",
       "  0.06292244046926498]}"
      ]
     },
     "execution_count": 33,
     "metadata": {},
     "output_type": "execute_result"
    }
   ],
   "source": [
    "nlp = pipeline(\"zero-shot-classification\", model=\"joeddav/bart-large-mnli-yahoo-answers\")\n",
    "\n",
    "sequence_to_classify = \"multiplayer before being something that could happen if you were lucky, is now a easy, more engaging and fun experience!\"\n",
    "candidate_labels = labels\n",
    "hypothesis_template = \"This text is about {}.\"\n",
    "nlp(sequence_to_classify, candidate_labels, multi_class=True, hypothesis_template=hypothesis_template)"
   ]
  },
  {
   "cell_type": "code",
   "execution_count": 34,
   "id": "77474166",
   "metadata": {},
   "outputs": [
    {
     "name": "stderr",
     "output_type": "stream",
     "text": [
      "Truncation was not explicitly activated but `max_length` is provided a specific value, please use `truncation=True` to explicitly truncate examples to max length. Defaulting to 'longest_first' truncation strategy. If you encode pairs of sequences (GLUE-style) with the tokenizer you can select this strategy more precisely by providing a specific strategy to `truncation`.\n"
     ]
    },
    {
     "data": {
      "text/plain": [
       "tensor([0.7284], grad_fn=<SelectBackward0>)"
      ]
     },
     "execution_count": 34,
     "metadata": {},
     "output_type": "execute_result"
    }
   ],
   "source": [
    "# pose sequence as a NLI premise and label as a hypothesis\n",
    "nli_model = BartForSequenceClassification.from_pretrained('joeddav/bart-large-mnli-yahoo-answers')\n",
    "tokenizer = BartTokenizer.from_pretrained('joeddav/bart-large-mnli-yahoo-answers')\n",
    "\n",
    "sequence=\"multiplayer before being something that could happen if you were lucky, is now a easy, more engaging and fun experience!\"\n",
    "label=labels\n",
    "premise = sequence\n",
    "hypothesis = f'This text is about {label}.'\n",
    "\n",
    "# run through model pre-trained on MNLI\n",
    "x = tokenizer.encode(premise, hypothesis, return_tensors='pt',\n",
    "                        max_length=tokenizer.model_max_length,\n",
    "                        truncation_strategy='only_first')\n",
    "\n",
    "logits = nli_model(x.to())[0]\n",
    "\n",
    "# we throw away \"neutral\" (dim 1) and take the probability of\n",
    "# \"entailment\" (2) as the probability of the label being true \n",
    "entail_contradiction_logits = logits[:,[0,2]]\n",
    "probs = entail_contradiction_logits.softmax(dim=1)\n",
    "prob_label_is_true = probs[:,1]\n",
    "prob_label_is_true"
   ]
  },
  {
   "cell_type": "markdown",
   "id": "bfd353e4",
   "metadata": {},
   "source": [
    "### navteca/bart-large-mnli"
   ]
  },
  {
   "cell_type": "code",
   "execution_count": 35,
   "id": "eac8b637",
   "metadata": {},
   "outputs": [
    {
     "data": {
      "application/vnd.jupyter.widget-view+json": {
       "model_id": "9071ca31dcf64bd7ade9680254bbb2f2",
       "version_major": 2,
       "version_minor": 0
      },
      "text/plain": [
       "Downloading:   0%|          | 0.00/1.10k [00:00<?, ?B/s]"
      ]
     },
     "metadata": {},
     "output_type": "display_data"
    },
    {
     "data": {
      "application/vnd.jupyter.widget-view+json": {
       "model_id": "7a0c8852c7c34e719b22913d03c5ddf7",
       "version_major": 2,
       "version_minor": 0
      },
      "text/plain": [
       "Downloading:   0%|          | 0.00/1.63G [00:00<?, ?B/s]"
      ]
     },
     "metadata": {},
     "output_type": "display_data"
    },
    {
     "data": {
      "application/vnd.jupyter.widget-view+json": {
       "model_id": "2e1b090a93a64c288aa4159e7cf92271",
       "version_major": 2,
       "version_minor": 0
      },
      "text/plain": [
       "Downloading:   0%|          | 0.00/32.0 [00:00<?, ?B/s]"
      ]
     },
     "metadata": {},
     "output_type": "display_data"
    },
    {
     "data": {
      "application/vnd.jupyter.widget-view+json": {
       "model_id": "e8a2c1c447f74848acdebf5f98b72d8e",
       "version_major": 2,
       "version_minor": 0
      },
      "text/plain": [
       "Downloading:   0%|          | 0.00/899k [00:00<?, ?B/s]"
      ]
     },
     "metadata": {},
     "output_type": "display_data"
    },
    {
     "data": {
      "application/vnd.jupyter.widget-view+json": {
       "model_id": "4026cb153dc141c78f7325c9e6041239",
       "version_major": 2,
       "version_minor": 0
      },
      "text/plain": [
       "Downloading:   0%|          | 0.00/456k [00:00<?, ?B/s]"
      ]
     },
     "metadata": {},
     "output_type": "display_data"
    },
    {
     "data": {
      "application/vnd.jupyter.widget-view+json": {
       "model_id": "d7eaf79884564b359b2be1621684f3be",
       "version_major": 2,
       "version_minor": 0
      },
      "text/plain": [
       "Downloading:   0%|          | 0.00/1.36M [00:00<?, ?B/s]"
      ]
     },
     "metadata": {},
     "output_type": "display_data"
    },
    {
     "name": "stdout",
     "output_type": "stream",
     "text": [
      "{'sequence': 'multiplayer before being something that could happen if you were lucky, is now a easy, more engaging and fun experience!', 'labels': ['Multiplayer version', 'Interaction with players', 'Save progress', 'Game', 'Launch', 'Mod', 'New Content', 'Encouragement', 'Curiosity', 'Reviewers Other players', 'Optimise', 'Customise', 'Returned player', 'Difficulty', 'Skill', 'Worth issues', 'Patches', 'Target player', 'Environment', 'Reaction', 'Discovery', 'Gameplay length', 'Speed', 'Completion', 'Guide', 'Comparison', 'Review', 'Sensory Appeal', 'Pre-ordered', 'Recommendation', 'Dexterity', 'Developer Publisher', 'Game Knowledge', 'Game running', 'Promotion', 'Interaction with NPC', 'Refund', 'Avatar agent', 'Input devices', 'Playing hours', 'Non-pre-ordered', 'Absorption', 'Exploration mechanics', 'Trading mechanics', 'Graphics', 'Missions', 'Conscious Awareness', 'Story', 'Early access', 'Streaming YouTuber', 'Structuring', 'Socio-Cultural Proximity', 'Camera angle', 'Computer configuration', 'In-game setting', 'Devs/game types: AAA/indie', 'Base building', 'Realism', 'Combat mechanics', 'Cargo trade goods', 'Survival mechanics', 'Self-improvement', 'Bugs and Crashes', 'Music', 'Frustration', 'UI', 'Homogeneity', 'Advertising', 'Inventory management', 'Economy (sell price)', 'Single player version'], 'scores': [0.9229562282562256, 0.8972817063331604, 0.8136740922927856, 0.7055768370628357, 0.6552059650421143, 0.5668166279792786, 0.5666008591651917, 0.534447431564331, 0.5294145941734314, 0.5241535902023315, 0.5004879832267761, 0.496284157037735, 0.48965030908584595, 0.48311933875083923, 0.47267472743988037, 0.4658716022968292, 0.4042036533355713, 0.3829975128173828, 0.36809900403022766, 0.3654139041900635, 0.3583996593952179, 0.3471742272377014, 0.34491926431655884, 0.34165069460868835, 0.32738590240478516, 0.32019171118736267, 0.31435155868530273, 0.30167582631111145, 0.29461589455604553, 0.26964181661605835, 0.26736003160476685, 0.2636657953262329, 0.2589047849178314, 0.23707126080989838, 0.2359153777360916, 0.22875063121318817, 0.21873162686824799, 0.21823617815971375, 0.21261583268642426, 0.2124650776386261, 0.2060253918170929, 0.203390434384346, 0.19668224453926086, 0.19341139495372772, 0.18741171061992645, 0.17553626000881195, 0.1666204035282135, 0.15559321641921997, 0.1331167221069336, 0.12691055238246918, 0.11295527219772339, 0.10554610192775726, 0.09759129583835602, 0.09142796695232391, 0.08397454768419266, 0.0710742324590683, 0.06383322179317474, 0.057842619717121124, 0.04027411714196205, 0.03480154648423195, 0.030286170542240143, 0.026303855702280998, 0.01751568354666233, 0.014527839608490467, 0.008359605446457863, 0.005074770655483007, 0.0029378607869148254, 0.001517603755928576, 0.0006862443406134844, 0.0006658396450802684, 0.000282199151115492]}\n"
     ]
    }
   ],
   "source": [
    "bart_model = AutoModelForSequenceClassification.from_pretrained('navteca/bart-large-mnli')\n",
    "bart_tokenizer = AutoTokenizer.from_pretrained('navteca/bart-large-mnli')\n",
    "\n",
    "# Get predictions\n",
    "nlp = pipeline('zero-shot-classification', model=bart_model, tokenizer=bart_tokenizer)\n",
    "\n",
    "sequence = 'multiplayer before being something that could happen if you were lucky, is now a easy, more engaging and fun experience!'\n",
    "candidate_labels = labels\n",
    "\n",
    "result = nlp(sequence, candidate_labels, multi_label=True)\n",
    "\n",
    "print(result)"
   ]
  },
  {
   "cell_type": "code",
   "execution_count": 36,
   "id": "69be7386",
   "metadata": {},
   "outputs": [
    {
     "data": {
      "application/vnd.jupyter.widget-view+json": {
       "model_id": "01bcff9266e44adb858b75cdbfadff7d",
       "version_major": 2,
       "version_minor": 0
      },
      "text/plain": [
       "Downloading:   0%|          | 0.00/1.05k [00:00<?, ?B/s]"
      ]
     },
     "metadata": {},
     "output_type": "display_data"
    },
    {
     "data": {
      "application/vnd.jupyter.widget-view+json": {
       "model_id": "75a5c914ce0846ffb6061dba2b01e57a",
       "version_major": 2,
       "version_minor": 0
      },
      "text/plain": [
       "Downloading:   0%|          | 0.00/1.74G [00:00<?, ?B/s]"
      ]
     },
     "metadata": {},
     "output_type": "display_data"
    },
    {
     "data": {
      "application/vnd.jupyter.widget-view+json": {
       "model_id": "fdead725a7844cb5bc7b485043fd9214",
       "version_major": 2,
       "version_minor": 0
      },
      "text/plain": [
       "Downloading:   0%|          | 0.00/418 [00:00<?, ?B/s]"
      ]
     },
     "metadata": {},
     "output_type": "display_data"
    },
    {
     "data": {
      "application/vnd.jupyter.widget-view+json": {
       "model_id": "a253c84c64ee4d2abda0533ff6376403",
       "version_major": 2,
       "version_minor": 0
      },
      "text/plain": [
       "Downloading:   0%|          | 0.00/2.46M [00:00<?, ?B/s]"
      ]
     },
     "metadata": {},
     "output_type": "display_data"
    },
    {
     "data": {
      "application/vnd.jupyter.widget-view+json": {
       "model_id": "f57d7549ad0a4f2da49244087b2c3910",
       "version_major": 2,
       "version_minor": 0
      },
      "text/plain": [
       "Downloading:   0%|          | 0.00/18.0 [00:00<?, ?B/s]"
      ]
     },
     "metadata": {},
     "output_type": "display_data"
    },
    {
     "data": {
      "application/vnd.jupyter.widget-view+json": {
       "model_id": "daee561e1c8b43ada525a21feeda6d87",
       "version_major": 2,
       "version_minor": 0
      },
      "text/plain": [
       "Downloading:   0%|          | 0.00/156 [00:00<?, ?B/s]"
      ]
     },
     "metadata": {},
     "output_type": "display_data"
    },
    {
     "data": {
      "text/plain": [
       "['In-game setting']"
      ]
     },
     "execution_count": 36,
     "metadata": {},
     "output_type": "execute_result"
    }
   ],
   "source": [
    "model = CrossEncoder('cross-encoder/nli-deberta-v3-large')\n",
    "scores = model.predict([('multiplayer before being something that could happen if you were lucky, is now a easy, more engaging and fun experience!', 'The game is attractive because of the multiplayer pattern')])\n",
    "\n",
    "#Convert scores to labels\n",
    "label_mapping = labels\n",
    "labelss = [label_mapping[score_max] for score_max in scores.argmax(axis=1)]\n",
    "labelss"
   ]
  },
  {
   "cell_type": "markdown",
   "id": "aac3ffdd",
   "metadata": {},
   "source": [
    "## BERT"
   ]
  },
  {
   "cell_type": "markdown",
   "id": "81d2ed1e",
   "metadata": {},
   "source": [
    "### digitalepidemiologylab/covid-twitter-bert-v2-mnli"
   ]
  },
  {
   "cell_type": "code",
   "execution_count": 37,
   "id": "d1533a8b",
   "metadata": {
    "scrolled": false
   },
   "outputs": [
    {
     "data": {
      "application/vnd.jupyter.widget-view+json": {
       "model_id": "9e425398bb234867bf6c6d33a035dc89",
       "version_major": 2,
       "version_minor": 0
      },
      "text/plain": [
       "Downloading:   0%|          | 0.00/833 [00:00<?, ?B/s]"
      ]
     },
     "metadata": {},
     "output_type": "display_data"
    },
    {
     "data": {
      "application/vnd.jupyter.widget-view+json": {
       "model_id": "b128831dbdce41b997ea28aa6b9b724a",
       "version_major": 2,
       "version_minor": 0
      },
      "text/plain": [
       "Downloading:   0%|          | 0.00/1.34G [00:00<?, ?B/s]"
      ]
     },
     "metadata": {},
     "output_type": "display_data"
    },
    {
     "data": {
      "application/vnd.jupyter.widget-view+json": {
       "model_id": "84bf37ff5e4e428da607fe043ce5ecf6",
       "version_major": 2,
       "version_minor": 0
      },
      "text/plain": [
       "Downloading:   0%|          | 0.00/364 [00:00<?, ?B/s]"
      ]
     },
     "metadata": {},
     "output_type": "display_data"
    },
    {
     "data": {
      "application/vnd.jupyter.widget-view+json": {
       "model_id": "5805be93a7e9471497589c162354f9cd",
       "version_major": 2,
       "version_minor": 0
      },
      "text/plain": [
       "Downloading:   0%|          | 0.00/232k [00:00<?, ?B/s]"
      ]
     },
     "metadata": {},
     "output_type": "display_data"
    },
    {
     "data": {
      "application/vnd.jupyter.widget-view+json": {
       "model_id": "fb460d47a1c240649788a8fb1b5a67e1",
       "version_major": 2,
       "version_minor": 0
      },
      "text/plain": [
       "Downloading:   0%|          | 0.00/112 [00:00<?, ?B/s]"
      ]
     },
     "metadata": {},
     "output_type": "display_data"
    },
    {
     "name": "stderr",
     "output_type": "stream",
     "text": [
      "The `multi_class` argument has been deprecated and renamed to `multi_label`. `multi_class` will be removed in a future version of Transformers.\n",
      "Asking to truncate to max_length but no maximum length is provided and the model has no predefined maximum length. Default to no truncation.\n"
     ]
    },
    {
     "data": {
      "text/plain": [
       "{'sequence': 'multiplayer before being something that could happen if you were lucky, is now a easy, more engaging and fun experience!',\n",
       " 'labels': ['Interaction with players',\n",
       "  'Multiplayer version',\n",
       "  'Save progress',\n",
       "  'Game',\n",
       "  'Recommendation',\n",
       "  'Worth issues',\n",
       "  'Sensory Appeal',\n",
       "  'Game Knowledge',\n",
       "  'Skill',\n",
       "  'Reviewers Other players',\n",
       "  'Promotion',\n",
       "  'Story',\n",
       "  'Guide',\n",
       "  'Gameplay length',\n",
       "  'Encouragement',\n",
       "  'Playing hours',\n",
       "  'Self-improvement',\n",
       "  'Socio-Cultural Proximity',\n",
       "  'Advertising',\n",
       "  'Game running',\n",
       "  'Conscious Awareness',\n",
       "  'Comparison',\n",
       "  'Interaction with NPC',\n",
       "  'New Content',\n",
       "  'Trading mechanics',\n",
       "  'Pre-ordered',\n",
       "  'Target player',\n",
       "  'Review',\n",
       "  'Avatar agent',\n",
       "  'Exploration mechanics',\n",
       "  'Customise',\n",
       "  'Optimise',\n",
       "  'Developer Publisher',\n",
       "  'Returned player',\n",
       "  'Missions',\n",
       "  'Bugs and Crashes',\n",
       "  'Devs/game types: AAA/indie',\n",
       "  'Camera angle',\n",
       "  'Graphics',\n",
       "  'Curiosity',\n",
       "  'Survival mechanics',\n",
       "  'Mod',\n",
       "  'Early access',\n",
       "  'Non-pre-ordered',\n",
       "  'Streaming YouTuber',\n",
       "  'Completion',\n",
       "  'UI',\n",
       "  'Dexterity',\n",
       "  'Computer configuration',\n",
       "  'Base building',\n",
       "  'Input devices',\n",
       "  'Patches',\n",
       "  'Combat mechanics',\n",
       "  'Environment',\n",
       "  'Structuring',\n",
       "  'Inventory management',\n",
       "  'Speed',\n",
       "  'Single player version',\n",
       "  'Launch',\n",
       "  'Reaction',\n",
       "  'Music',\n",
       "  'Cargo trade goods',\n",
       "  'Absorption',\n",
       "  'In-game setting',\n",
       "  'Economy (sell price)',\n",
       "  'Refund',\n",
       "  'Discovery',\n",
       "  'Realism',\n",
       "  'Homogeneity',\n",
       "  'Difficulty',\n",
       "  'Frustration'],\n",
       " 'scores': [0.991465151309967,\n",
       "  0.9680145978927612,\n",
       "  0.907623291015625,\n",
       "  0.8961779475212097,\n",
       "  0.8880446553230286,\n",
       "  0.833473801612854,\n",
       "  0.7409930229187012,\n",
       "  0.7278226017951965,\n",
       "  0.7113968133926392,\n",
       "  0.7037270069122314,\n",
       "  0.6896840333938599,\n",
       "  0.6731677651405334,\n",
       "  0.6704654693603516,\n",
       "  0.6103400588035583,\n",
       "  0.6073105931282043,\n",
       "  0.5286592841148376,\n",
       "  0.5248119831085205,\n",
       "  0.5181112885475159,\n",
       "  0.5068748593330383,\n",
       "  0.4691680073738098,\n",
       "  0.4538123607635498,\n",
       "  0.3778626322746277,\n",
       "  0.3560034930706024,\n",
       "  0.3534197509288788,\n",
       "  0.3086869716644287,\n",
       "  0.3071703612804413,\n",
       "  0.252074271440506,\n",
       "  0.24906717240810394,\n",
       "  0.24421504139900208,\n",
       "  0.2189774513244629,\n",
       "  0.20064392685890198,\n",
       "  0.19578464329242706,\n",
       "  0.15971970558166504,\n",
       "  0.15391896665096283,\n",
       "  0.15095044672489166,\n",
       "  0.147533118724823,\n",
       "  0.14619143307209015,\n",
       "  0.14458264410495758,\n",
       "  0.13956673443317413,\n",
       "  0.11845619231462479,\n",
       "  0.0973895713686943,\n",
       "  0.09136320650577545,\n",
       "  0.08705780655145645,\n",
       "  0.07933401316404343,\n",
       "  0.07638039439916611,\n",
       "  0.0624845065176487,\n",
       "  0.06092512980103493,\n",
       "  0.06061071902513504,\n",
       "  0.04814416170120239,\n",
       "  0.04608745127916336,\n",
       "  0.04272032156586647,\n",
       "  0.03611535206437111,\n",
       "  0.03488243371248245,\n",
       "  0.028197932988405228,\n",
       "  0.028110923245549202,\n",
       "  0.023366661742329597,\n",
       "  0.02006862685084343,\n",
       "  0.014124301262199879,\n",
       "  0.011253136210143566,\n",
       "  0.010047259740531445,\n",
       "  0.009732796810567379,\n",
       "  0.008638836443424225,\n",
       "  0.008638604544103146,\n",
       "  0.008442862890660763,\n",
       "  0.008437744341790676,\n",
       "  0.008372393436729908,\n",
       "  0.007699609734117985,\n",
       "  0.006072733551263809,\n",
       "  0.005348240956664085,\n",
       "  0.0048638079315423965,\n",
       "  0.00294408667832613]}"
      ]
     },
     "execution_count": 37,
     "metadata": {},
     "output_type": "execute_result"
    }
   ],
   "source": [
    "classifier = pipeline(\"zero-shot-classification\", model=\"digitalepidemiologylab/covid-twitter-bert-v2-mnli\")\n",
    "\n",
    "sequence_to_classify = 'multiplayer before being something that could happen if you were lucky, is now a easy, more engaging and fun experience!'\n",
    "candidate_labels = labels\n",
    "hypothesis_template = 'This example is {}.'\n",
    "classifier(sequence_to_classify, candidate_labels, hypothesis_template=hypothesis_template, multi_class=True)"
   ]
  },
  {
   "cell_type": "code",
   "execution_count": null,
   "id": "4a89c94d",
   "metadata": {},
   "outputs": [],
   "source": []
  }
 ],
 "metadata": {
  "kernelspec": {
   "display_name": "Python 3 (ipykernel)",
   "language": "python",
   "name": "python3"
  },
  "language_info": {
   "codemirror_mode": {
    "name": "ipython",
    "version": 3
   },
   "file_extension": ".py",
   "mimetype": "text/x-python",
   "name": "python",
   "nbconvert_exporter": "python",
   "pygments_lexer": "ipython3",
   "version": "3.10.4"
  },
  "toc": {
   "base_numbering": 1,
   "nav_menu": {},
   "number_sections": true,
   "sideBar": true,
   "skip_h1_title": false,
   "title_cell": "Table of Contents",
   "title_sidebar": "Contents",
   "toc_cell": false,
   "toc_position": {
    "height": "calc(100% - 180px)",
    "left": "10px",
    "top": "150px",
    "width": "305.188px"
   },
   "toc_section_display": true,
   "toc_window_display": true
  }
 },
 "nbformat": 4,
 "nbformat_minor": 5
}
