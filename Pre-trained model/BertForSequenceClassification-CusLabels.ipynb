{
 "cells": [
  {
   "cell_type": "markdown",
   "id": "f06ed429",
   "metadata": {},
   "source": [
    "# Import"
   ]
  },
  {
   "cell_type": "code",
   "execution_count": 1,
   "id": "eb698e56",
   "metadata": {},
   "outputs": [],
   "source": [
    "import torch\n",
    "import pandas as pd\n",
    "import numpy as np\n",
    "from pathlib import Path\n",
    "from transformers import (AutoTokenizer, BertTokenizer, BertForSequenceClassification, \n",
    "                          PreTrainedModel, DistilBertModel, DistilBertForSequenceClassification,\n",
    "                          TrainingArguments, Trainer)\n",
    "from transformers.modeling_outputs import SequenceClassifierOutput\n",
    "from datasets import load_dataset\n",
    "from sklearn.metrics import accuracy_score, precision_recall_fscore_support\n",
    "from sklearn.metrics import ConfusionMatrixDisplay, confusion_matrix\n",
    "from transformers import pipeline\n",
    "from transformers import set_seed\n",
    "from datasets import DatasetDict\n",
    "from transformers import AdamW, get_scheduler\n",
    "from tqdm.notebook import tqdm\n",
    "from sklearn.metrics import accuracy_score, f1_score\n"
   ]
  },
  {
   "cell_type": "markdown",
   "id": "e493c4dd",
   "metadata": {},
   "source": [
    "# Dataset"
   ]
  },
  {
   "cell_type": "code",
   "execution_count": 8,
   "id": "560560b9",
   "metadata": {},
   "outputs": [
    {
     "name": "stderr",
     "output_type": "stream",
     "text": [
      "Using custom data configuration HFFErica--topic_classification-47e1f24e96c23b4f\n"
     ]
    },
    {
     "name": "stdout",
     "output_type": "stream",
     "text": [
      "Downloading and preparing dataset csv/HFFErica--topic_classification to C:/Users/researcher/.cache/huggingface/datasets/HFFErica___csv/HFFErica--topic_classification-47e1f24e96c23b4f/0.0.0/652c3096f041ee27b04d2232d41f10547a8fecda3e284a79a0ec4053c916ef7a...\n"
     ]
    },
    {
     "data": {
      "application/vnd.jupyter.widget-view+json": {
       "model_id": "1bbed4bd0bd84c80989759a54ca69d25",
       "version_major": 2,
       "version_minor": 0
      },
      "text/plain": [
       "Downloading data files:   0%|          | 0/1 [00:00<?, ?it/s]"
      ]
     },
     "metadata": {},
     "output_type": "display_data"
    },
    {
     "data": {
      "application/vnd.jupyter.widget-view+json": {
       "model_id": "9d62c034ee1f42e5997c1aecee91daad",
       "version_major": 2,
       "version_minor": 0
      },
      "text/plain": [
       "Downloading data:   0%|          | 0.00/344k [00:00<?, ?B/s]"
      ]
     },
     "metadata": {},
     "output_type": "display_data"
    },
    {
     "data": {
      "application/vnd.jupyter.widget-view+json": {
       "model_id": "133d007b42fa4ed391e0868c2ab39317",
       "version_major": 2,
       "version_minor": 0
      },
      "text/plain": [
       "Extracting data files:   0%|          | 0/1 [00:00<?, ?it/s]"
      ]
     },
     "metadata": {},
     "output_type": "display_data"
    },
    {
     "data": {
      "application/vnd.jupyter.widget-view+json": {
       "model_id": "",
       "version_major": 2,
       "version_minor": 0
      },
      "text/plain": [
       "0 tables [00:00, ? tables/s]"
      ]
     },
     "metadata": {},
     "output_type": "display_data"
    },
    {
     "name": "stdout",
     "output_type": "stream",
     "text": [
      "Dataset csv downloaded and prepared to C:/Users/researcher/.cache/huggingface/datasets/HFFErica___csv/HFFErica--topic_classification-47e1f24e96c23b4f/0.0.0/652c3096f041ee27b04d2232d41f10547a8fecda3e284a79a0ec4053c916ef7a. Subsequent calls will reuse this data.\n"
     ]
    },
    {
     "name": "stderr",
     "output_type": "stream",
     "text": [
      "D:\\Software\\Anaconda3\\envs\\pytorch\\lib\\site-packages\\datasets\\download\\streaming_download_manager.py:697: FutureWarning: the 'mangle_dupe_cols' keyword is deprecated and will be removed in a future version. Please take steps to stop the use of 'mangle_dupe_cols'\n",
      "  return pd.read_csv(xopen(filepath_or_buffer, \"rb\", use_auth_token=use_auth_token), **kwargs)\n"
     ]
    },
    {
     "data": {
      "application/vnd.jupyter.widget-view+json": {
       "model_id": "b2f1d041bb1343adbb56267522546dcc",
       "version_major": 2,
       "version_minor": 0
      },
      "text/plain": [
       "  0%|          | 0/1 [00:00<?, ?it/s]"
      ]
     },
     "metadata": {},
     "output_type": "display_data"
    },
    {
     "name": "stdout",
     "output_type": "stream",
     "text": [
      "DatasetDict({\n",
      "    train: Dataset({\n",
      "        features: ['text', 'Order ', '1_Physical', '2_Computational', '2_1_Movement-related mechanics', '2_2_Combat-related mechanics', '2_3_Economic-related mechanics', '2_4_Story-related mechanics', '2_5_Creative-related mechanics', '3_Communicational', '4_Experiential', '4_1_Motivation', '4_2_Socialisation', '5_Player', '6_External', '7_Overall', 'sum'],\n",
      "        num_rows: 1352\n",
      "    })\n",
      "})\n"
     ]
    }
   ],
   "source": [
    "data_files = {\"train\": \"data_clean_all _one_hot_labels_custom_347.csv\"}\n",
    "raw_dataset=load_dataset(\"HFFErica/topic_classification\", data_files = data_files)\n",
    "print(raw_dataset)"
   ]
  },
  {
   "cell_type": "code",
   "execution_count": 9,
   "id": "599f0bf2",
   "metadata": {},
   "outputs": [
    {
     "data": {
      "text/plain": [
       "DatasetDict({\n",
       "    train: Dataset({\n",
       "        features: ['text', '1_Physical', '2_Computational', '2_1_Movement-related mechanics', '2_2_Combat-related mechanics', '2_3_Economic-related mechanics', '2_4_Story-related mechanics', '2_5_Creative-related mechanics', '3_Communicational', '4_Experiential', '4_1_Motivation', '4_2_Socialisation', '5_Player', '6_External', '7_Overall'],\n",
       "        num_rows: 1352\n",
       "    })\n",
       "})"
      ]
     },
     "execution_count": 9,
     "metadata": {},
     "output_type": "execute_result"
    }
   ],
   "source": [
    "raw_columns = raw_dataset['train'].column_names\n",
    "keep_columns = ['text', '1_Physical', '2_Computational', '2_1_Movement-related mechanics', '2_2_Combat-related mechanics', '2_3_Economic-related mechanics', '2_4_Story-related mechanics', '2_5_Creative-related mechanics', '3_Communicational', '4_Experiential', '4_1_Motivation', '4_2_Socialisation', '5_Player', '6_External', '7_Overall']\n",
    "remove_columns = set(raw_columns)-set(keep_columns)\n",
    "\n",
    "preprocessed_datasets = raw_dataset.remove_columns(remove_columns)\n",
    "preprocessed_datasets"
   ]
  },
  {
   "cell_type": "code",
   "execution_count": 10,
   "id": "c5360ea8",
   "metadata": {},
   "outputs": [
    {
     "name": "stdout",
     "output_type": "stream",
     "text": [
      "COLUMN_MAPPING: {}\n"
     ]
    },
    {
     "data": {
      "text/plain": [
       "DatasetDict({\n",
       "    train: Dataset({\n",
       "        features: ['text', '1_Physical', '2_Computational', '2_1_Movement-related mechanics', '2_2_Combat-related mechanics', '2_3_Economic-related mechanics', '2_4_Story-related mechanics', '2_5_Creative-related mechanics', '3_Communicational', '4_Experiential', '4_1_Motivation', '4_2_Socialisation', '5_Player', '6_External', '7_Overall'],\n",
       "        num_rows: 1352\n",
       "    })\n",
       "})"
      ]
     },
     "execution_count": 10,
     "metadata": {},
     "output_type": "execute_result"
    }
   ],
   "source": [
    "column_mapping = {column:column.split('_')[1] for column in keep_columns if column.startswith('target')}\n",
    "print(f\"COLUMN_MAPPING: {column_mapping}\")\n",
    "\n",
    "preprocessed_datasets = preprocessed_datasets.rename_columns(column_mapping)\n",
    "preprocessed_datasets"
   ]
  },
  {
   "cell_type": "code",
   "execution_count": 11,
   "id": "cf4979e8",
   "metadata": {},
   "outputs": [
    {
     "name": "stdout",
     "output_type": "stream",
     "text": [
      "ID2LABEL:\n",
      "{0: '1_Physical', 1: '2_Computational', 2: '2_1_Movement-related mechanics', 3: '2_2_Combat-related mechanics', 4: '2_3_Economic-related mechanics', 5: '2_4_Story-related mechanics', 6: '2_5_Creative-related mechanics', 7: '3_Communicational', 8: '4_Experiential', 9: '4_1_Motivation', 10: '4_2_Socialisation', 11: '5_Player', 12: '6_External', 13: '7_Overall'}\n",
      "\n",
      "LABEL2ID:\n",
      "{'1_Physical': 0, '2_Computational': 1, '2_1_Movement-related mechanics': 2, '2_2_Combat-related mechanics': 3, '2_3_Economic-related mechanics': 4, '2_4_Story-related mechanics': 5, '2_5_Creative-related mechanics': 6, '3_Communicational': 7, '4_Experiential': 8, '4_1_Motivation': 9, '4_2_Socialisation': 10, '5_Player': 11, '6_External': 12, '7_Overall': 13}\n"
     ]
    }
   ],
   "source": [
    "# get two-way label and label id\n",
    "ID2LABEL = {}\n",
    "LABEL2ID = {}\n",
    "\n",
    "label_id = 0\n",
    "for label in preprocessed_datasets['train'].features.keys():\n",
    "    if label in ['text']:\n",
    "        continue\n",
    "        \n",
    "    ID2LABEL[label_id] = label\n",
    "    LABEL2ID[label] = label_id\n",
    "    \n",
    "    label_id += 1\n",
    "    \n",
    "print(f\"ID2LABEL:\\n{ID2LABEL}\\n\")\n",
    "print(f\"LABEL2ID:\\n{LABEL2ID}\")"
   ]
  },
  {
   "cell_type": "code",
   "execution_count": 12,
   "id": "5d480d61",
   "metadata": {},
   "outputs": [
    {
     "name": "stdout",
     "output_type": "stream",
     "text": [
      "LABEL_COUNTS:\n",
      "{'1_Physical': 270, '2_Computational': 198, '2_1_Movement-related mechanics': 108, '2_2_Combat-related mechanics': 92, '2_3_Economic-related mechanics': 92, '2_4_Story-related mechanics': 148, '2_5_Creative-related mechanics': 116, '3_Communicational': 284, '4_Experiential': 293, '4_1_Motivation': 159, '4_2_Socialisation': 191, '5_Player': 164, '6_External': 205, '7_Overall': 279}\n",
      "\n",
      "LABEL_PERCENTAGES:\n",
      "{'1_Physical': 19.97, '2_Computational': 14.64, '2_1_Movement-related mechanics': 7.99, '2_2_Combat-related mechanics': 6.8, '2_3_Economic-related mechanics': 6.8, '2_4_Story-related mechanics': 10.95, '2_5_Creative-related mechanics': 8.58, '3_Communicational': 21.01, '4_Experiential': 21.67, '4_1_Motivation': 11.76, '4_2_Socialisation': 14.13, '5_Player': 12.13, '6_External': 15.16, '7_Overall': 20.64}\n"
     ]
    }
   ],
   "source": [
    "# get target label counts and percentages\n",
    "label_counts = {}\n",
    "label_percentages = {}\n",
    "\n",
    "for label in LABEL2ID:\n",
    "    label_counts[label] = sum(preprocessed_datasets['train'][label])\n",
    "    label_percentages[label] = float(f\"{sum(preprocessed_datasets['train'][label]) / len(preprocessed_datasets['train'])*100:.2f}\")\n",
    "\n",
    "print(f\"LABEL_COUNTS:\\n{label_counts}\\n\")\n",
    "print(f\"LABEL_PERCENTAGES:\\n{label_percentages}\")"
   ]
  },
  {
   "cell_type": "code",
   "execution_count": 13,
   "id": "893d6397",
   "metadata": {},
   "outputs": [
    {
     "data": {
      "image/png": "[encoded data removed]",
      "text/plain": [
       "<Figure size 3000x1200 with 2 Axes>"
      ]
     },
     "metadata": {},
     "output_type": "display_data"
    }
   ],
   "source": [
    "import matplotlib.pyplot as plt\n",
    "\n",
    "# create 2 graphs\n",
    "fig, axs = plt.subplots(2, figsize=(30,12))\n",
    "\n",
    "# create bar graphs of label counts\n",
    "bar_container0 = axs[0].bar(label_counts.keys(), label_counts.values())\n",
    "axs[0].bar_label(bar_container0, label_type='edge')\n",
    "axs[0].set_xlabel('Hate Speech Type')\n",
    "axs[0].set_ylabel('Count')\n",
    "axs[0].set_title('Count by Hate Speech Type')\n",
    "\n",
    "# create bar graphs of label percentages\n",
    "bar_container1 = axs[1].bar(label_percentages.keys(), label_percentages.values())\n",
    "axs[1].bar_label(bar_container1, label_type='edge')\n",
    "axs[1].set_xlabel('Hate Speech Type')\n",
    "axs[1].set_ylabel('Percentage (%)')\n",
    "axs[1].set_title('Percentage (%) by Hate Speech Type')\n",
    "\n",
    "plt.show()"
   ]
  },
  {
   "cell_type": "code",
   "execution_count": 14,
   "id": "12c7ca05",
   "metadata": {},
   "outputs": [
    {
     "data": {
      "application/vnd.jupyter.widget-view+json": {
       "model_id": "4820bcea4f4648c2afc9b9869e89752a",
       "version_major": 2,
       "version_minor": 0
      },
      "text/plain": [
       "  0%|          | 0/2 [00:00<?, ?ba/s]"
      ]
     },
     "metadata": {},
     "output_type": "display_data"
    },
    {
     "data": {
      "text/plain": [
       "DatasetDict({\n",
       "    train: Dataset({\n",
       "        features: ['text', 'labels'],\n",
       "        num_rows: 1352\n",
       "    })\n",
       "})"
      ]
     },
     "execution_count": 14,
     "metadata": {},
     "output_type": "execute_result"
    }
   ],
   "source": [
    "def create_labels(batch):\n",
    "    # one-hot encode targets for training\n",
    "    batch['labels'] = [[float(batch[label][i]) for label in LABEL2ID] for i in range(len(batch['text']))]\n",
    "    return batch\n",
    "\n",
    "preprocessed_datasets = preprocessed_datasets.map(create_labels, batched=True, remove_columns=LABEL2ID.keys())\n",
    "preprocessed_datasets"
   ]
  },
  {
   "cell_type": "code",
   "execution_count": 15,
   "id": "b789bbce",
   "metadata": {},
   "outputs": [
    {
     "data": {
      "text/html": [
       "<div>\n",
       "<style scoped>\n",
       "    .dataframe tbody tr th:only-of-type {\n",
       "        vertical-align: middle;\n",
       "    }\n",
       "\n",
       "    .dataframe tbody tr th {\n",
       "        vertical-align: top;\n",
       "    }\n",
       "\n",
       "    .dataframe thead th {\n",
       "        text-align: right;\n",
       "    }\n",
       "</style>\n",
       "<table border=\"1\" class=\"dataframe\">\n",
       "  <thead>\n",
       "    <tr style=\"text-align: right;\">\n",
       "      <th></th>\n",
       "      <th>text</th>\n",
       "      <th>labels</th>\n",
       "    </tr>\n",
       "  </thead>\n",
       "  <tbody>\n",
       "    <tr>\n",
       "      <th>0</th>\n",
       "      <td>Sharing stories, trading goods, or engaging in...</td>\n",
       "      <td>[0.0, 0.0, 0.0, 0.0, 0.0, 0.0, 0.0, 1.0, 0.0, ...</td>\n",
       "    </tr>\n",
       "    <tr>\n",
       "      <th>1</th>\n",
       "      <td>Doing missions at the nexus with other players...</td>\n",
       "      <td>[0.0, 0.0, 0.0, 0.0, 0.0, 0.0, 0.0, 1.0, 0.0, ...</td>\n",
       "    </tr>\n",
       "    <tr>\n",
       "      <th>2</th>\n",
       "      <td>Not just because of the scale of the worlds, b...</td>\n",
       "      <td>[0.0, 0.0, 0.0, 0.0, 0.0, 0.0, 0.0, 1.0, 0.0, ...</td>\n",
       "    </tr>\n",
       "    <tr>\n",
       "      <th>3</th>\n",
       "      <td>When you initiate some orders like deploy ligh...</td>\n",
       "      <td>[0.0, 0.0, 0.0, 0.0, 0.0, 0.0, 0.0, 1.0, 0.0, ...</td>\n",
       "    </tr>\n",
       "    <tr>\n",
       "      <th>4</th>\n",
       "      <td>Stopped playing it after the inventory UI upda...</td>\n",
       "      <td>[0.0, 0.0, 0.0, 0.0, 0.0, 0.0, 0.0, 1.0, 0.0, ...</td>\n",
       "    </tr>\n",
       "    <tr>\n",
       "      <th>...</th>\n",
       "      <td>...</td>\n",
       "      <td>...</td>\n",
       "    </tr>\n",
       "    <tr>\n",
       "      <th>1347</th>\n",
       "      <td>my laptop is not good enough to play it on the...</td>\n",
       "      <td>[1.0, 1.0, 0.0, 1.0, 0.0, 0.0, 0.0, 0.0, 0.0, ...</td>\n",
       "    </tr>\n",
       "    <tr>\n",
       "      <th>1348</th>\n",
       "      <td>Fighting enemies who are quick to react - even...</td>\n",
       "      <td>[0.0, 1.0, 0.0, 1.0, 0.0, 1.0, 0.0, 0.0, 0.0, ...</td>\n",
       "    </tr>\n",
       "    <tr>\n",
       "      <th>1349</th>\n",
       "      <td>Ship can't change weapons, can't lock on to en...</td>\n",
       "      <td>[0.0, 0.0, 0.0, 1.0, 1.0, 0.0, 1.0, 0.0, 0.0, ...</td>\n",
       "    </tr>\n",
       "    <tr>\n",
       "      <th>1350</th>\n",
       "      <td>I purchased this for cross-play as a beforehan...</td>\n",
       "      <td>[1.0, 1.0, 0.0, 0.0, 0.0, 0.0, 0.0, 0.0, 0.0, ...</td>\n",
       "    </tr>\n",
       "    <tr>\n",
       "      <th>1351</th>\n",
       "      <td>In 9 hours of gameplay I have only found a few...</td>\n",
       "      <td>[1.0, 1.0, 0.0, 0.0, 0.0, 0.0, 0.0, 0.0, 0.0, ...</td>\n",
       "    </tr>\n",
       "  </tbody>\n",
       "</table>\n",
       "<p>1352 rows × 2 columns</p>\n",
       "</div>"
      ],
      "text/plain": [
       "                                                   text  \\\n",
       "0     Sharing stories, trading goods, or engaging in...   \n",
       "1     Doing missions at the nexus with other players...   \n",
       "2     Not just because of the scale of the worlds, b...   \n",
       "3     When you initiate some orders like deploy ligh...   \n",
       "4     Stopped playing it after the inventory UI upda...   \n",
       "...                                                 ...   \n",
       "1347  my laptop is not good enough to play it on the...   \n",
       "1348  Fighting enemies who are quick to react - even...   \n",
       "1349  Ship can't change weapons, can't lock on to en...   \n",
       "1350  I purchased this for cross-play as a beforehan...   \n",
       "1351  In 9 hours of gameplay I have only found a few...   \n",
       "\n",
       "                                                 labels  \n",
       "0     [0.0, 0.0, 0.0, 0.0, 0.0, 0.0, 0.0, 1.0, 0.0, ...  \n",
       "1     [0.0, 0.0, 0.0, 0.0, 0.0, 0.0, 0.0, 1.0, 0.0, ...  \n",
       "2     [0.0, 0.0, 0.0, 0.0, 0.0, 0.0, 0.0, 1.0, 0.0, ...  \n",
       "3     [0.0, 0.0, 0.0, 0.0, 0.0, 0.0, 0.0, 1.0, 0.0, ...  \n",
       "4     [0.0, 0.0, 0.0, 0.0, 0.0, 0.0, 0.0, 1.0, 0.0, ...  \n",
       "...                                                 ...  \n",
       "1347  [1.0, 1.0, 0.0, 1.0, 0.0, 0.0, 0.0, 0.0, 0.0, ...  \n",
       "1348  [0.0, 1.0, 0.0, 1.0, 0.0, 1.0, 0.0, 0.0, 0.0, ...  \n",
       "1349  [0.0, 0.0, 0.0, 1.0, 1.0, 0.0, 1.0, 0.0, 0.0, ...  \n",
       "1350  [1.0, 1.0, 0.0, 0.0, 0.0, 0.0, 0.0, 0.0, 0.0, ...  \n",
       "1351  [1.0, 1.0, 0.0, 0.0, 0.0, 0.0, 0.0, 0.0, 0.0, ...  \n",
       "\n",
       "[1352 rows x 2 columns]"
      ]
     },
     "execution_count": 15,
     "metadata": {},
     "output_type": "execute_result"
    }
   ],
   "source": [
    "df = preprocessed_datasets['train'].to_pandas()\n",
    "# df = df.drop('Unnamed: 27', axis=1)\n",
    "df"
   ]
  },
  {
   "cell_type": "markdown",
   "id": "0410548b",
   "metadata": {},
   "source": [
    "# Setup Model Training"
   ]
  },
  {
   "cell_type": "code",
   "execution_count": 16,
   "id": "20b23a18",
   "metadata": {},
   "outputs": [],
   "source": [
    "SEED = 42\n",
    "torch.manual_seed(SEED)\n",
    "np.random.seed(SEED)"
   ]
  },
  {
   "cell_type": "code",
   "execution_count": 17,
   "id": "7cbb0ee1",
   "metadata": {},
   "outputs": [
    {
     "data": {
      "text/plain": [
       "DatasetDict({\n",
       "    train: Dataset({\n",
       "        features: ['text', 'labels'],\n",
       "        num_rows: 1081\n",
       "    })\n",
       "    validation: Dataset({\n",
       "        features: ['text', 'labels'],\n",
       "        num_rows: 135\n",
       "    })\n",
       "    test: Dataset({\n",
       "        features: ['text', 'labels'],\n",
       "        num_rows: 136\n",
       "    })\n",
       "})"
      ]
     },
     "execution_count": 17,
     "metadata": {},
     "output_type": "execute_result"
    }
   ],
   "source": [
    "train_test_datasets = preprocessed_datasets['train'].train_test_split(test_size=0.2, seed=SEED, shuffle=True)\n",
    "validation_test_datasets = train_test_datasets['test'].train_test_split(test_size=0.5, seed=SEED, shuffle=True)\n",
    "\n",
    "preprocessed_datasets = DatasetDict({\n",
    "    'train': train_test_datasets['train'],\n",
    "    'validation': validation_test_datasets['train'],\n",
    "    'test': validation_test_datasets['test']\n",
    "})\n",
    "preprocessed_datasets"
   ]
  },
  {
   "cell_type": "code",
   "execution_count": 18,
   "id": "ac146fd0",
   "metadata": {},
   "outputs": [
    {
     "data": {
      "application/vnd.jupyter.widget-view+json": {
       "model_id": "6d7a1559a2f94daeb68b8d083c688d92",
       "version_major": 2,
       "version_minor": 0
      },
      "text/plain": [
       "  0%|          | 0/2 [00:00<?, ?ba/s]"
      ]
     },
     "metadata": {},
     "output_type": "display_data"
    },
    {
     "data": {
      "application/vnd.jupyter.widget-view+json": {
       "model_id": "7734948b236e480aabdc7e74355c159a",
       "version_major": 2,
       "version_minor": 0
      },
      "text/plain": [
       "  0%|          | 0/1 [00:00<?, ?ba/s]"
      ]
     },
     "metadata": {},
     "output_type": "display_data"
    },
    {
     "data": {
      "application/vnd.jupyter.widget-view+json": {
       "model_id": "f374f8b304244b24a135fe70e0d51a4a",
       "version_major": 2,
       "version_minor": 0
      },
      "text/plain": [
       "  0%|          | 0/1 [00:00<?, ?ba/s]"
      ]
     },
     "metadata": {},
     "output_type": "display_data"
    },
    {
     "data": {
      "text/plain": [
       "DatasetDict({\n",
       "    train: Dataset({\n",
       "        features: ['labels', 'input_ids', 'attention_mask'],\n",
       "        num_rows: 1081\n",
       "    })\n",
       "    validation: Dataset({\n",
       "        features: ['labels', 'input_ids', 'attention_mask'],\n",
       "        num_rows: 135\n",
       "    })\n",
       "    test: Dataset({\n",
       "        features: ['labels', 'input_ids', 'attention_mask'],\n",
       "        num_rows: 136\n",
       "    })\n",
       "})"
      ]
     },
     "execution_count": 18,
     "metadata": {},
     "output_type": "execute_result"
    }
   ],
   "source": [
    "CHECKPOINT = 'distilbert-base-uncased'\n",
    "tokenizer = AutoTokenizer.from_pretrained(CHECKPOINT)\n",
    "tokenized_datasets = preprocessed_datasets.map(lambda batch: tokenizer(batch['text'], truncation=True), batched=True, remove_columns=['text'])\n",
    "tokenized_datasets"
   ]
  },
  {
   "cell_type": "code",
   "execution_count": 19,
   "id": "9bd45064",
   "metadata": {},
   "outputs": [],
   "source": [
    "from transformers import DataCollatorWithPadding\n",
    "from torch.utils.data import DataLoader\n",
    "\n",
    "# get data collator for data loader\n",
    "data_collator = DataCollatorWithPadding(tokenizer=tokenizer)\n",
    "\n",
    "# setup dataloaders with tokenized dataset\n",
    "# to shuffle only be train for each epoch\n",
    "# in 64 batch sizes with dynamic padding\n",
    "\n",
    "dataloaders = {}\n",
    "for dataset_type in tokenized_datasets.keys():\n",
    "    dataloaders[dataset_type] = DataLoader(\n",
    "        dataset=tokenized_datasets[dataset_type],\n",
    "        batch_size=64,\n",
    "        shuffle=(dataset_type == 'train'), \n",
    "        collate_fn=data_collator,\n",
    "    )"
   ]
  },
  {
   "cell_type": "code",
   "execution_count": 20,
   "id": "4d619acd",
   "metadata": {},
   "outputs": [
    {
     "data": {
      "text/plain": [
       "'cuda'"
      ]
     },
     "execution_count": 20,
     "metadata": {},
     "output_type": "execute_result"
    }
   ],
   "source": [
    "device = 'cuda' if torch.cuda.is_available() else 'cpu'\n",
    "device"
   ]
  },
  {
   "cell_type": "code",
   "execution_count": 21,
   "id": "7c11913d",
   "metadata": {
    "scrolled": false
   },
   "outputs": [
    {
     "name": "stderr",
     "output_type": "stream",
     "text": [
      "Some weights of the model checkpoint at distilbert-base-uncased were not used when initializing DistilBertForSequenceClassification: ['vocab_layer_norm.weight', 'vocab_projector.bias', 'vocab_projector.weight', 'vocab_layer_norm.bias', 'vocab_transform.weight', 'vocab_transform.bias']\n",
      "- This IS expected if you are initializing DistilBertForSequenceClassification from the checkpoint of a model trained on another task or with another architecture (e.g. initializing a BertForSequenceClassification model from a BertForPreTraining model).\n",
      "- This IS NOT expected if you are initializing DistilBertForSequenceClassification from the checkpoint of a model that you expect to be exactly identical (initializing a BertForSequenceClassification model from a BertForSequenceClassification model).\n",
      "Some weights of DistilBertForSequenceClassification were not initialized from the model checkpoint at distilbert-base-uncased and are newly initialized: ['classifier.bias', 'pre_classifier.weight', 'classifier.weight', 'pre_classifier.bias']\n",
      "You should probably TRAIN this model on a down-stream task to be able to use it for predictions and inference.\n"
     ]
    },
    {
     "data": {
      "text/plain": [
       "DistilBertForSequenceClassification(\n",
       "  (distilbert): DistilBertModel(\n",
       "    (embeddings): Embeddings(\n",
       "      (word_embeddings): Embedding(30522, 768, padding_idx=0)\n",
       "      (position_embeddings): Embedding(512, 768)\n",
       "      (LayerNorm): LayerNorm((768,), eps=1e-12, elementwise_affine=True)\n",
       "      (dropout): Dropout(p=0.1, inplace=False)\n",
       "    )\n",
       "    (transformer): Transformer(\n",
       "      (layer): ModuleList(\n",
       "        (0): TransformerBlock(\n",
       "          (attention): MultiHeadSelfAttention(\n",
       "            (dropout): Dropout(p=0.1, inplace=False)\n",
       "            (q_lin): Linear(in_features=768, out_features=768, bias=True)\n",
       "            (k_lin): Linear(in_features=768, out_features=768, bias=True)\n",
       "            (v_lin): Linear(in_features=768, out_features=768, bias=True)\n",
       "            (out_lin): Linear(in_features=768, out_features=768, bias=True)\n",
       "          )\n",
       "          (sa_layer_norm): LayerNorm((768,), eps=1e-12, elementwise_affine=True)\n",
       "          (ffn): FFN(\n",
       "            (dropout): Dropout(p=0.1, inplace=False)\n",
       "            (lin1): Linear(in_features=768, out_features=3072, bias=True)\n",
       "            (lin2): Linear(in_features=3072, out_features=768, bias=True)\n",
       "            (activation): GELUActivation()\n",
       "          )\n",
       "          (output_layer_norm): LayerNorm((768,), eps=1e-12, elementwise_affine=True)\n",
       "        )\n",
       "        (1): TransformerBlock(\n",
       "          (attention): MultiHeadSelfAttention(\n",
       "            (dropout): Dropout(p=0.1, inplace=False)\n",
       "            (q_lin): Linear(in_features=768, out_features=768, bias=True)\n",
       "            (k_lin): Linear(in_features=768, out_features=768, bias=True)\n",
       "            (v_lin): Linear(in_features=768, out_features=768, bias=True)\n",
       "            (out_lin): Linear(in_features=768, out_features=768, bias=True)\n",
       "          )\n",
       "          (sa_layer_norm): LayerNorm((768,), eps=1e-12, elementwise_affine=True)\n",
       "          (ffn): FFN(\n",
       "            (dropout): Dropout(p=0.1, inplace=False)\n",
       "            (lin1): Linear(in_features=768, out_features=3072, bias=True)\n",
       "            (lin2): Linear(in_features=3072, out_features=768, bias=True)\n",
       "            (activation): GELUActivation()\n",
       "          )\n",
       "          (output_layer_norm): LayerNorm((768,), eps=1e-12, elementwise_affine=True)\n",
       "        )\n",
       "        (2): TransformerBlock(\n",
       "          (attention): MultiHeadSelfAttention(\n",
       "            (dropout): Dropout(p=0.1, inplace=False)\n",
       "            (q_lin): Linear(in_features=768, out_features=768, bias=True)\n",
       "            (k_lin): Linear(in_features=768, out_features=768, bias=True)\n",
       "            (v_lin): Linear(in_features=768, out_features=768, bias=True)\n",
       "            (out_lin): Linear(in_features=768, out_features=768, bias=True)\n",
       "          )\n",
       "          (sa_layer_norm): LayerNorm((768,), eps=1e-12, elementwise_affine=True)\n",
       "          (ffn): FFN(\n",
       "            (dropout): Dropout(p=0.1, inplace=False)\n",
       "            (lin1): Linear(in_features=768, out_features=3072, bias=True)\n",
       "            (lin2): Linear(in_features=3072, out_features=768, bias=True)\n",
       "            (activation): GELUActivation()\n",
       "          )\n",
       "          (output_layer_norm): LayerNorm((768,), eps=1e-12, elementwise_affine=True)\n",
       "        )\n",
       "        (3): TransformerBlock(\n",
       "          (attention): MultiHeadSelfAttention(\n",
       "            (dropout): Dropout(p=0.1, inplace=False)\n",
       "            (q_lin): Linear(in_features=768, out_features=768, bias=True)\n",
       "            (k_lin): Linear(in_features=768, out_features=768, bias=True)\n",
       "            (v_lin): Linear(in_features=768, out_features=768, bias=True)\n",
       "            (out_lin): Linear(in_features=768, out_features=768, bias=True)\n",
       "          )\n",
       "          (sa_layer_norm): LayerNorm((768,), eps=1e-12, elementwise_affine=True)\n",
       "          (ffn): FFN(\n",
       "            (dropout): Dropout(p=0.1, inplace=False)\n",
       "            (lin1): Linear(in_features=768, out_features=3072, bias=True)\n",
       "            (lin2): Linear(in_features=3072, out_features=768, bias=True)\n",
       "            (activation): GELUActivation()\n",
       "          )\n",
       "          (output_layer_norm): LayerNorm((768,), eps=1e-12, elementwise_affine=True)\n",
       "        )\n",
       "        (4): TransformerBlock(\n",
       "          (attention): MultiHeadSelfAttention(\n",
       "            (dropout): Dropout(p=0.1, inplace=False)\n",
       "            (q_lin): Linear(in_features=768, out_features=768, bias=True)\n",
       "            (k_lin): Linear(in_features=768, out_features=768, bias=True)\n",
       "            (v_lin): Linear(in_features=768, out_features=768, bias=True)\n",
       "            (out_lin): Linear(in_features=768, out_features=768, bias=True)\n",
       "          )\n",
       "          (sa_layer_norm): LayerNorm((768,), eps=1e-12, elementwise_affine=True)\n",
       "          (ffn): FFN(\n",
       "            (dropout): Dropout(p=0.1, inplace=False)\n",
       "            (lin1): Linear(in_features=768, out_features=3072, bias=True)\n",
       "            (lin2): Linear(in_features=3072, out_features=768, bias=True)\n",
       "            (activation): GELUActivation()\n",
       "          )\n",
       "          (output_layer_norm): LayerNorm((768,), eps=1e-12, elementwise_affine=True)\n",
       "        )\n",
       "        (5): TransformerBlock(\n",
       "          (attention): MultiHeadSelfAttention(\n",
       "            (dropout): Dropout(p=0.1, inplace=False)\n",
       "            (q_lin): Linear(in_features=768, out_features=768, bias=True)\n",
       "            (k_lin): Linear(in_features=768, out_features=768, bias=True)\n",
       "            (v_lin): Linear(in_features=768, out_features=768, bias=True)\n",
       "            (out_lin): Linear(in_features=768, out_features=768, bias=True)\n",
       "          )\n",
       "          (sa_layer_norm): LayerNorm((768,), eps=1e-12, elementwise_affine=True)\n",
       "          (ffn): FFN(\n",
       "            (dropout): Dropout(p=0.1, inplace=False)\n",
       "            (lin1): Linear(in_features=768, out_features=3072, bias=True)\n",
       "            (lin2): Linear(in_features=3072, out_features=768, bias=True)\n",
       "            (activation): GELUActivation()\n",
       "          )\n",
       "          (output_layer_norm): LayerNorm((768,), eps=1e-12, elementwise_affine=True)\n",
       "        )\n",
       "      )\n",
       "    )\n",
       "  )\n",
       "  (pre_classifier): Linear(in_features=768, out_features=768, bias=True)\n",
       "  (classifier): Linear(in_features=768, out_features=14, bias=True)\n",
       "  (dropout): Dropout(p=0.2, inplace=False)\n",
       ")"
      ]
     },
     "execution_count": 21,
     "metadata": {},
     "output_type": "execute_result"
    }
   ],
   "source": [
    "from transformers import AutoModelForSequenceClassification\n",
    "\n",
    "model = AutoModelForSequenceClassification.from_pretrained(\n",
    "    CHECKPOINT,\n",
    "    problem_type='multi_label_classification',\n",
    "    num_labels=len(LABEL2ID),\n",
    "    label2id=LABEL2ID,\n",
    "    id2label=ID2LABEL,\n",
    ")\n",
    "\n",
    "# move model to device\n",
    "model.to(device)"
   ]
  },
  {
   "cell_type": "code",
   "execution_count": 22,
   "id": "d60cfa06",
   "metadata": {},
   "outputs": [
    {
     "name": "stdout",
     "output_type": "stream",
     "text": [
      "           SCHEDULER NAME: linear\n",
      "                OPTIMIZER: AdamW\n",
      "NUMBER OF TRAINING EPOCHS: 1\n",
      " NUMBER OF TRAINING STEPS: 17\n"
     ]
    }
   ],
   "source": [
    "# setup optimizer and scheduler\n",
    "scheduler_name = 'linear'\n",
    "optimizer = AdamW(model.parameters(), lr=5e-5, weight_decay=0, no_deprecation_warning=True)\n",
    "num_training_epochs = 1\n",
    "num_training_steps = num_training_epochs * len(dataloaders['train'])\n",
    "num_warmup_steps = 0\n",
    "lr_scheduler = get_scheduler(\n",
    "    name=scheduler_name,\n",
    "    optimizer=optimizer,\n",
    "    num_training_steps=num_training_steps,\n",
    "    num_warmup_steps=num_warmup_steps,\n",
    ")\n",
    "\n",
    "print(f\"           SCHEDULER NAME: {scheduler_name}\")\n",
    "print(f\"                OPTIMIZER: {optimizer.__class__.__name__}\")\n",
    "print(f\"NUMBER OF TRAINING EPOCHS: {num_training_epochs}\")\n",
    "print(f\" NUMBER OF TRAINING STEPS: {num_training_steps}\")"
   ]
  },
  {
   "cell_type": "code",
   "execution_count": 23,
   "id": "3985255d",
   "metadata": {},
   "outputs": [],
   "source": [
    "def samples_accuracy_score(y_true, y_pred):\n",
    "    return np.sum(y_true==y_pred) / y_true.size\n",
    "\n",
    "def compute_metrics(eval_preds):\n",
    "    logits, labels = eval_preds\n",
    "    predictions = torch.nn.functional.sigmoid(torch.Tensor(logits))\n",
    "    predictions = (predictions >= 0.50).int().numpy()\n",
    "    samples_accuracy = samples_accuracy_score(labels, predictions)\n",
    "    samples_f1 = f1_score(labels, predictions, average='samples', zero_division=0)\n",
    "    return {\n",
    "        'accuracy': samples_accuracy,\n",
    "        'f1': samples_f1,\n",
    "    }"
   ]
  },
  {
   "cell_type": "code",
   "execution_count": 24,
   "id": "5d6e4ed2",
   "metadata": {},
   "outputs": [],
   "source": [
    "def train(model, dataloader):\n",
    "    # setup train metrics\n",
    "    loss = 0\n",
    "    train_predictions = []\n",
    "    train_labels = []\n",
    "    \n",
    "    # set to train mode\n",
    "    model.train()\n",
    "    # iterate through dataloader\n",
    "    for batch in tqdm(dataloader):\n",
    "        # zero the gradients\n",
    "        optimizer.zero_grad()\n",
    "        \n",
    "        # predict batch in current device\n",
    "        batch.to(device)\n",
    "        outputs = model(**batch)\n",
    "        \n",
    "        # compute multilabel outputs\n",
    "        predictions = torch.nn.functional.sigmoid(outputs.logits).cpu()\n",
    "        predictions = (predictions >= 0.50).int().numpy()\n",
    "        labels = batch['labels']\n",
    "        \n",
    "        # backprop and update learning rate\n",
    "        outputs.loss.backward()\n",
    "        optimizer.step()\n",
    "        lr_scheduler.step()\n",
    "        \n",
    "        # accumulate train metrics\n",
    "        loss += outputs.loss.item()\n",
    "        train_predictions += predictions.tolist()\n",
    "        train_labels += labels.tolist()\n",
    "        \n",
    "    # compute train metrics\n",
    "    loss /= len(dataloader)\n",
    "    samples_accuracy = samples_accuracy_score(np.array(train_labels), np.array(train_predictions))\n",
    "\n",
    "    \n",
    "    \n",
    "    \n",
    "#     train_labels = np.argmax(train_labels, axis=1)\n",
    "#     train_predictions = np.argmax(train_predictions, axis=1)\n",
    "    \n",
    "    samples_f1 = f1_score(np.array(train_labels), np.array(train_predictions), average='samples', zero_division=0)\n",
    "    return {\n",
    "        'loss': loss,\n",
    "        'accuracy': samples_accuracy,\n",
    "        'f1': samples_f1,\n",
    "    }"
   ]
  },
  {
   "cell_type": "code",
   "execution_count": 25,
   "id": "92d463e8",
   "metadata": {},
   "outputs": [],
   "source": [
    "def evaluate(model, dataloader):\n",
    "    # setup evaluation metrics variables\n",
    "    loss = 0\n",
    "    evaluate_predictions = []\n",
    "    evaluate_labels = []\n",
    "    \n",
    "    # set to evaluation mode\n",
    "    model.eval()\n",
    "    with torch.no_grad():\n",
    "        # iterate through dataloader\n",
    "        for batch in tqdm(dataloader):\n",
    "            # predict batch in current device\n",
    "            batch.to(device)\n",
    "            outputs = model(**batch)\n",
    "            \n",
    "            # compute multilabel outputs\n",
    "            predictions = torch.nn.functional.sigmoid(outputs.logits).cpu()\n",
    "            predictions = (predictions >= 0.50).cpu().numpy()\n",
    "            labels = batch['labels']\n",
    "            \n",
    "            # accumulate evaluation metrics\n",
    "            loss += outputs.loss.item()\n",
    "            evaluate_predictions += predictions.tolist()\n",
    "            evaluate_labels += labels.tolist()\n",
    "            \n",
    "    # compute evaluation metrics\n",
    "    loss /= len(dataloader)\n",
    "    samples_accuracy = samples_accuracy_score(np.array(evaluate_labels), np.array(evaluate_predictions))\n",
    "    samples_f1 = f1_score(np.array(evaluate_labels), np.array(evaluate_predictions), average='samples', zero_division=0)\n",
    "    return {\n",
    "        'loss': loss,\n",
    "        'accuracy': samples_accuracy,\n",
    "        'f1': samples_f1,\n",
    "    }"
   ]
  },
  {
   "cell_type": "markdown",
   "id": "c12e11d3",
   "metadata": {},
   "source": [
    "# Train"
   ]
  },
  {
   "cell_type": "code",
   "execution_count": 26,
   "id": "6096fd79",
   "metadata": {},
   "outputs": [
    {
     "data": {
      "application/vnd.jupyter.widget-view+json": {
       "model_id": "4ac58ebc662349d7b7478bfcf81a25a3",
       "version_major": 2,
       "version_minor": 0
      },
      "text/plain": [
       "  0%|          | 0/3 [00:00<?, ?it/s]"
      ]
     },
     "metadata": {},
     "output_type": "display_data"
    },
    {
     "name": "stderr",
     "output_type": "stream",
     "text": [
      "You're using a DistilBertTokenizerFast tokenizer. Please note that with a fast tokenizer, using the `__call__` method is faster than using a method to encode the text followed by a call to the `pad` method to get a padded encoding.\n",
      "D:\\Software\\Anaconda3\\envs\\pytorch\\lib\\site-packages\\torch\\nn\\functional.py:1960: UserWarning: nn.functional.sigmoid is deprecated. Use torch.sigmoid instead.\n",
      "  warnings.warn(\"nn.functional.sigmoid is deprecated. Use torch.sigmoid instead.\")\n"
     ]
    },
    {
     "name": "stdout",
     "output_type": "stream",
     "text": [
      "TEST ACCURACY: 0.49580 | TEST F1: 0.19977\n"
     ]
    }
   ],
   "source": [
    "test_metrics = evaluate(model, dataloaders['test'])\n",
    "print(f\"TEST ACCURACY: {test_metrics['accuracy']:.5f}\", end=\" | \")\n",
    "print(f\"TEST F1: {test_metrics['f1']:.5f}\")"
   ]
  },
  {
   "cell_type": "code",
   "execution_count": 27,
   "id": "4a43730f",
   "metadata": {},
   "outputs": [
    {
     "data": {
      "application/vnd.jupyter.widget-view+json": {
       "model_id": "d7e31b84a9cd4315bad5d35d0c19b6c9",
       "version_major": 2,
       "version_minor": 0
      },
      "text/plain": [
       "  0%|          | 0/17 [00:00<?, ?it/s]"
      ]
     },
     "metadata": {},
     "output_type": "display_data"
    },
    {
     "name": "stderr",
     "output_type": "stream",
     "text": [
      "D:\\Software\\Anaconda3\\envs\\pytorch\\lib\\site-packages\\torch\\nn\\functional.py:1960: UserWarning: nn.functional.sigmoid is deprecated. Use torch.sigmoid instead.\n",
      "  warnings.warn(\"nn.functional.sigmoid is deprecated. Use torch.sigmoid instead.\")\n"
     ]
    },
    {
     "data": {
      "application/vnd.jupyter.widget-view+json": {
       "model_id": "db27e533b19643c1a0a44bd33392e610",
       "version_major": 2,
       "version_minor": 0
      },
      "text/plain": [
       "  0%|          | 0/3 [00:00<?, ?it/s]"
      ]
     },
     "metadata": {},
     "output_type": "display_data"
    },
    {
     "name": "stderr",
     "output_type": "stream",
     "text": [
      "D:\\Software\\Anaconda3\\envs\\pytorch\\lib\\site-packages\\torch\\nn\\functional.py:1960: UserWarning: nn.functional.sigmoid is deprecated. Use torch.sigmoid instead.\n",
      "  warnings.warn(\"nn.functional.sigmoid is deprecated. Use torch.sigmoid instead.\")\n"
     ]
    },
    {
     "name": "stdout",
     "output_type": "stream",
     "text": [
      "EPOCH 1 | TRAIN LOSS: 0.60769 | VALIDATION LOSS: 0.54563 | VALIDATION ACCURACY: 0.85450 | VALIDATION F1: 0.00000\n"
     ]
    }
   ],
   "source": [
    "for epoch in range(num_training_epochs):\n",
    "    train_metrics = train(model, dataloaders['train'])\n",
    "    validation_metrics = evaluate(model, dataloaders['validation'])\n",
    "          \n",
    "    print(f\"EPOCH {epoch+1}\", end=\" | \")\n",
    "    print(f\"TRAIN LOSS: {train_metrics['loss']:.5f}\", end=\" | \")\n",
    "    print(f\"VALIDATION LOSS: {validation_metrics['loss']:.5f}\", end=\" | \")\n",
    "    print(f\"VALIDATION ACCURACY: {validation_metrics['accuracy']:.5f}\", end=\" | \")\n",
    "    print(f\"VALIDATION F1: {validation_metrics['f1']:.5f}\")"
   ]
  },
  {
   "cell_type": "code",
   "execution_count": 28,
   "id": "5b1f7017",
   "metadata": {},
   "outputs": [
    {
     "data": {
      "application/vnd.jupyter.widget-view+json": {
       "model_id": "0e5d09ca516440f48e10f56cafdb2182",
       "version_major": 2,
       "version_minor": 0
      },
      "text/plain": [
       "  0%|          | 0/3 [00:00<?, ?it/s]"
      ]
     },
     "metadata": {},
     "output_type": "display_data"
    },
    {
     "name": "stderr",
     "output_type": "stream",
     "text": [
      "D:\\Software\\Anaconda3\\envs\\pytorch\\lib\\site-packages\\torch\\nn\\functional.py:1960: UserWarning: nn.functional.sigmoid is deprecated. Use torch.sigmoid instead.\n",
      "  warnings.warn(\"nn.functional.sigmoid is deprecated. Use torch.sigmoid instead.\")\n"
     ]
    },
    {
     "name": "stdout",
     "output_type": "stream",
     "text": [
      "TEST ACCURACY: 0.86134 | TEST F1: 0.00000\n"
     ]
    }
   ],
   "source": [
    "test_metrics = evaluate(model, dataloaders['test'])\n",
    "print(f\"TEST ACCURACY: {test_metrics['accuracy']:.5f}\", end=\" | \")\n",
    "print(f\"TEST F1: {test_metrics['f1']:.5f}\")"
   ]
  },
  {
   "cell_type": "code",
   "execution_count": 29,
   "id": "772dbab6",
   "metadata": {},
   "outputs": [
    {
     "data": {
      "text/plain": [
       "CommitInfo(commit_url='https://huggingface.co/HFFErica/my_model_Eperiment6/commit/42b78bcf4674ac022ffdb9e1187d80690a5274ec', commit_message='Upload tokenizer', commit_description='', oid='42b78bcf4674ac022ffdb9e1187d80690a5274ec', pr_url=None, pr_revision=None, pr_num=None)"
      ]
     },
     "execution_count": 29,
     "metadata": {},
     "output_type": "execute_result"
    }
   ],
   "source": [
    "model.push_to_hub(\"my_model_Eperiment6\")\n",
    "tokenizer.push_to_hub(\"my_model_Eperiment6\")"
   ]
  },
  {
   "cell_type": "markdown",
   "id": "838a7ae5",
   "metadata": {},
   "source": [
    "# Exam"
   ]
  },
  {
   "cell_type": "code",
   "execution_count": 33,
   "id": "845f50c4",
   "metadata": {},
   "outputs": [
    {
     "data": {
      "application/vnd.jupyter.widget-view+json": {
       "model_id": "94f5931f7d90433c9d46f5b1865bd025",
       "version_major": 2,
       "version_minor": 0
      },
      "text/plain": [
       "Downloading:   0%|          | 0.00/1.52k [00:00<?, ?B/s]"
      ]
     },
     "metadata": {},
     "output_type": "display_data"
    },
    {
     "name": "stderr",
     "output_type": "stream",
     "text": [
      "D:\\Software\\Anaconda3\\envs\\pytorch\\lib\\site-packages\\huggingface_hub\\file_download.py:123: UserWarning: `huggingface_hub` cache-system uses symlinks by default to efficiently store duplicated files but your machine does not support them in C:\\Users\\researcher\\.cache\\huggingface\\hub. Caching files will still work but in a degraded version that might require more space on your disk. This warning can be disabled by setting the `HF_HUB_DISABLE_SYMLINKS_WARNING` environment variable. For more details, see https://huggingface.co/docs/huggingface_hub/how-to-cache#limitations.\n",
      "To support symlinks on Windows, you either need to activate Developer Mode or to run Python as an administrator. In order to see activate developer mode, see this article: https://docs.microsoft.com/en-us/windows/apps/get-started/enable-your-device-for-development\n",
      "  warnings.warn(message)\n"
     ]
    },
    {
     "data": {
      "application/vnd.jupyter.widget-view+json": {
       "model_id": "b17bb0e85bd94f6b9bdc3901cd0fef57",
       "version_major": 2,
       "version_minor": 0
      },
      "text/plain": [
       "Downloading:   0%|          | 0.00/268M [00:00<?, ?B/s]"
      ]
     },
     "metadata": {},
     "output_type": "display_data"
    },
    {
     "data": {
      "application/vnd.jupyter.widget-view+json": {
       "model_id": "c448c25748aa40c29847745a78278288",
       "version_major": 2,
       "version_minor": 0
      },
      "text/plain": [
       "Downloading:   0%|          | 0.00/360 [00:00<?, ?B/s]"
      ]
     },
     "metadata": {},
     "output_type": "display_data"
    },
    {
     "data": {
      "application/vnd.jupyter.widget-view+json": {
       "model_id": "2f1b1dce07844a0799c809d2bc56fde4",
       "version_major": 2,
       "version_minor": 0
      },
      "text/plain": [
       "Downloading:   0%|          | 0.00/232k [00:00<?, ?B/s]"
      ]
     },
     "metadata": {},
     "output_type": "display_data"
    },
    {
     "data": {
      "application/vnd.jupyter.widget-view+json": {
       "model_id": "606ad70781d64f95b43367c1de9023fb",
       "version_major": 2,
       "version_minor": 0
      },
      "text/plain": [
       "Downloading:   0%|          | 0.00/711k [00:00<?, ?B/s]"
      ]
     },
     "metadata": {},
     "output_type": "display_data"
    },
    {
     "data": {
      "application/vnd.jupyter.widget-view+json": {
       "model_id": "bc8e276a99e9481c96d373c5945f0fea",
       "version_major": 2,
       "version_minor": 0
      },
      "text/plain": [
       "Downloading:   0%|          | 0.00/125 [00:00<?, ?B/s]"
      ]
     },
     "metadata": {},
     "output_type": "display_data"
    }
   ],
   "source": [
    "pipe = pipeline(\"text-classification\", model=\"HFFErica/my_model_Eperiment6\")"
   ]
  },
  {
   "cell_type": "code",
   "execution_count": 36,
   "id": "51047a21",
   "metadata": {},
   "outputs": [
    {
     "name": "stdout",
     "output_type": "stream",
     "text": [
      "[{'label': '3_Communicational', 'score': 0.453117311000824}]\n",
      "[{'label': '3_Communicational', 'score': 0.4573950171470642}]\n",
      "[{'label': '3_Communicational', 'score': 0.4537425935268402}]\n",
      "[{'label': '3_Communicational', 'score': 0.462228924036026}]\n",
      "[{'label': '3_Communicational', 'score': 0.4459535777568817}]\n",
      "[{'label': '3_Communicational', 'score': 0.46061059832572937}]\n"
     ]
    }
   ],
   "source": [
    "results_01 = pipe(\"I have been able to achieve a admirable framerate at max settings, especially for a rig that is becoming outdated.\")\n",
    "print(results_01)\n",
    "\n",
    "results_02 = pipe(\"This isn't surprising given the scope of the game and the fact that it's developed by a very small team, but it is frustrating that in VR my 1080ti can only play the game at medium graphics settings.\")\n",
    "print(results_02)\n",
    "\n",
    "results_03 = pipe(\"My pc meets the recommended requirements exactly with amd cpu and gpu. On most maps I have to have my resolution and all graphics settings all the way down and the game still stutters and lags.\")\n",
    "print(results_03)\n",
    "\n",
    "results_04 = pipe(\"Because the game was primarily developed and optimized for PlayStation 4 (which has 8 cores), it needs 8 threads or 8 cores to function properly. The system requirement of a Core i3 is nonsense. I know of no Core i3 or similar low-spec AMD CPU that has 8 threads available.\")\n",
    "print(results_04)\n",
    "results_05 = pipe(\"I also noticed a audio glitch in the twitch live stream, its like the audio was repeating itself, so I reset the game and it was back to normal.\")\n",
    "print(results_05)\n",
    "\n",
    "results_06 = pipe(\"If you play permadeath you can literally wind up doing nothing but the tutorial over and over again because you can get killed easily during the tutorial. Of course you can cheat a permadeath defeat by the simple method of backing up your permadeath game file before beginning your play session.\")\n",
    "print(results_06)"
   ]
  },
  {
   "cell_type": "code",
   "execution_count": 30,
   "id": "a3dd1905",
   "metadata": {},
   "outputs": [],
   "source": [
    "multilabel_classifier = pipeline(\n",
    "    task='text-classification',\n",
    "    model=model,\n",
    "    tokenizer=tokenizer,\n",
    "    device=torch.cuda.current_device(),\n",
    "    top_k=None\n",
    ")"
   ]
  },
  {
   "cell_type": "code",
   "execution_count": 38,
   "id": "6c6a24d5",
   "metadata": {},
   "outputs": [
    {
     "name": "stdout",
     "output_type": "stream",
     "text": [
      "[[{'label': '3_Communicational', 'score': 0.453117311000824}, {'label': '2_3_Economic-related mechanics', 'score': 0.42864537239074707}, {'label': '7_Overall', 'score': 0.42002540826797485}, {'label': '4_Experiential', 'score': 0.41061481833457947}, {'label': '2_5_Creative-related mechanics', 'score': 0.4082336127758026}, {'label': '4_1_Motivation', 'score': 0.40335679054260254}, {'label': '6_External', 'score': 0.3892900347709656}, {'label': '4_2_Socialisation', 'score': 0.3874954581260681}, {'label': '1_Physical', 'score': 0.38557538390159607}, {'label': '5_Player', 'score': 0.36955496668815613}, {'label': '2_1_Movement-related mechanics', 'score': 0.36402469873428345}, {'label': '2_4_Story-related mechanics', 'score': 0.3544168770313263}, {'label': '2_2_Combat-related mechanics', 'score': 0.35371652245521545}, {'label': '2_Computational', 'score': 0.3418140113353729}]]\n",
      "[[{'label': '3_Communicational', 'score': 0.4573950171470642}, {'label': '7_Overall', 'score': 0.41054248809814453}, {'label': '4_1_Motivation', 'score': 0.40064188838005066}, {'label': '6_External', 'score': 0.3989804983139038}, {'label': '2_3_Economic-related mechanics', 'score': 0.3973149061203003}, {'label': '4_2_Socialisation', 'score': 0.387442022562027}, {'label': '1_Physical', 'score': 0.3743128180503845}, {'label': '2_5_Creative-related mechanics', 'score': 0.3730398416519165}, {'label': '2_4_Story-related mechanics', 'score': 0.3593239188194275}, {'label': '4_Experiential', 'score': 0.3570011854171753}, {'label': '2_1_Movement-related mechanics', 'score': 0.351603627204895}, {'label': '2_Computational', 'score': 0.3391897976398468}, {'label': '5_Player', 'score': 0.3385469913482666}, {'label': '2_2_Combat-related mechanics', 'score': 0.32688459753990173}]]\n",
      "[[{'label': '3_Communicational', 'score': 0.45374250411987305}, {'label': '7_Overall', 'score': 0.4094458520412445}, {'label': '2_3_Economic-related mechanics', 'score': 0.408840537071228}, {'label': '4_1_Motivation', 'score': 0.39856860041618347}, {'label': '6_External', 'score': 0.39699751138687134}, {'label': '1_Physical', 'score': 0.3894115090370178}, {'label': '2_5_Creative-related mechanics', 'score': 0.38083332777023315}, {'label': '4_2_Socialisation', 'score': 0.37940746545791626}, {'label': '4_Experiential', 'score': 0.3764355778694153}, {'label': '2_1_Movement-related mechanics', 'score': 0.35977694392204285}, {'label': '2_4_Story-related mechanics', 'score': 0.3463599979877472}, {'label': '2_Computational', 'score': 0.3386733829975128}, {'label': '5_Player', 'score': 0.32793575525283813}, {'label': '2_2_Combat-related mechanics', 'score': 0.32770994305610657}]]\n",
      "[[{'label': '3_Communicational', 'score': 0.462228924036026}, {'label': '7_Overall', 'score': 0.42310771346092224}, {'label': '6_External', 'score': 0.4037299156188965}, {'label': '4_1_Motivation', 'score': 0.40042203664779663}, {'label': '2_3_Economic-related mechanics', 'score': 0.3964575231075287}, {'label': '4_2_Socialisation', 'score': 0.3911648690700531}, {'label': '1_Physical', 'score': 0.38761910796165466}, {'label': '2_1_Movement-related mechanics', 'score': 0.37683045864105225}, {'label': '2_5_Creative-related mechanics', 'score': 0.37668412923812866}, {'label': '4_Experiential', 'score': 0.3606375753879547}, {'label': '2_4_Story-related mechanics', 'score': 0.35474297404289246}, {'label': '2_Computational', 'score': 0.3427269458770752}, {'label': '5_Player', 'score': 0.3388439416885376}, {'label': '2_2_Combat-related mechanics', 'score': 0.33550989627838135}]]\n",
      "[[{'label': '3_Communicational', 'score': 0.4459535777568817}, {'label': '7_Overall', 'score': 0.42281007766723633}, {'label': '4_1_Motivation', 'score': 0.4040476679801941}, {'label': '2_3_Economic-related mechanics', 'score': 0.39668577909469604}, {'label': '6_External', 'score': 0.3948214054107666}, {'label': '2_5_Creative-related mechanics', 'score': 0.3803146481513977}, {'label': '4_2_Socialisation', 'score': 0.37694934010505676}, {'label': '4_Experiential', 'score': 0.3699769973754883}, {'label': '1_Physical', 'score': 0.3697027862071991}, {'label': '2_4_Story-related mechanics', 'score': 0.3643884062767029}, {'label': '2_Computational', 'score': 0.361385315656662}, {'label': '2_1_Movement-related mechanics', 'score': 0.3579995930194855}, {'label': '5_Player', 'score': 0.3478868007659912}, {'label': '2_2_Combat-related mechanics', 'score': 0.32310178875923157}]]\n",
      "[[{'label': '3_Communicational', 'score': 0.46061065793037415}, {'label': '7_Overall', 'score': 0.4153870940208435}, {'label': '4_1_Motivation', 'score': 0.3950129747390747}, {'label': '2_3_Economic-related mechanics', 'score': 0.38619264960289}, {'label': '6_External', 'score': 0.38531386852264404}, {'label': '4_2_Socialisation', 'score': 0.38016393780708313}, {'label': '1_Physical', 'score': 0.3770480751991272}, {'label': '4_Experiential', 'score': 0.3741779923439026}, {'label': '2_5_Creative-related mechanics', 'score': 0.3739507496356964}, {'label': '2_1_Movement-related mechanics', 'score': 0.3686378598213196}, {'label': '2_4_Story-related mechanics', 'score': 0.36771658062934875}, {'label': '2_Computational', 'score': 0.3551527261734009}, {'label': '2_2_Combat-related mechanics', 'score': 0.33158397674560547}, {'label': '5_Player', 'score': 0.32602769136428833}]]\n"
     ]
    },
    {
     "name": "stderr",
     "output_type": "stream",
     "text": [
      "D:\\Software\\Anaconda3\\envs\\pytorch\\lib\\site-packages\\transformers\\pipelines\\base.py:1043: UserWarning: You seem to be using the pipelines sequentially on GPU. In order to maximize efficiency please use a dataset\n",
      "  warnings.warn(\n"
     ]
    }
   ],
   "source": [
    "results_01 = multilabel_classifier(\"I have been able to achieve a admirable framerate at max settings, especially for a rig that is becoming outdated.\")\n",
    "results_02 = multilabel_classifier(\"This isn't surprising given the scope of the game and the fact that it's developed by a very small team, but it is frustrating that in VR my 1080ti can only play the game at medium graphics settings.\")\n",
    "results_03 = multilabel_classifier(\"My pc meets the recommended requirements exactly with amd cpu and gpu. On most maps I have to have my resolution and all graphics settings all the way down and the game still stutters and lags.\")\n",
    "results_04 = multilabel_classifier(\"Because the game was primarily developed and optimized for PlayStation 4 (which has 8 cores), it needs 8 threads or 8 cores to function properly. The system requirement of a Core i3 is nonsense. I know of no Core i3 or similar low-spec AMD CPU that has 8 threads available.\")\n",
    "results_05 = multilabel_classifier(\"I also noticed a audio glitch in the twitch live stream, its like the audio was repeating itself, so I reset the game and it was back to normal.\")\n",
    "results_06 = multilabel_classifier(\"If you play permadeath you can literally wind up doing nothing but the tutorial over and over again because you can get killed easily during the tutorial. Of course you can cheat a permadeath defeat by the simple method of backing up your permadeath game file before beginning your play session.\")\n",
    "print(results_01)\n",
    "print(results_02)\n",
    "print(results_03)\n",
    "print(results_04)\n",
    "print(results_05)\n",
    "print(results_06)"
   ]
  },
  {
   "cell_type": "code",
   "execution_count": null,
   "id": "163323d7",
   "metadata": {},
   "outputs": [],
   "source": []
  },
  {
   "cell_type": "code",
   "execution_count": null,
   "id": "35577828",
   "metadata": {},
   "outputs": [],
   "source": []
  }
 ],
 "metadata": {
  "kernelspec": {
   "display_name": "Python 3 (ipykernel)",
   "language": "python",
   "name": "python3"
  },
  "language_info": {
   "codemirror_mode": {
    "name": "ipython",
    "version": 3
   },
   "file_extension": ".py",
   "mimetype": "text/x-python",
   "name": "python",
   "nbconvert_exporter": "python",
   "pygments_lexer": "ipython3",
   "version": "3.10.4"
  },
  "toc": {
   "base_numbering": 1,
   "nav_menu": {},
   "number_sections": true,
   "sideBar": true,
   "skip_h1_title": false,
   "title_cell": "Table of Contents",
   "title_sidebar": "Contents",
   "toc_cell": false,
   "toc_position": {
    "height": "1282.22px",
    "left": "22px",
    "top": "0px",
    "width": "317.535px"
   },
   "toc_section_display": true,
   "toc_window_display": true
  }
 },
 "nbformat": 4,
 "nbformat_minor": 5
}
